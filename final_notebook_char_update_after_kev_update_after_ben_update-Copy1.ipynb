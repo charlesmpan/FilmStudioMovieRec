{
 "cells": [
  {
   "cell_type": "markdown",
   "metadata": {},
   "source": [
    "## Final Project Submission\n",
    "\n",
    "Please fill out:\n",
    "* Student name: Abdulrahman Aber, Benjamin Bai, Charles Pan, Kevin Rivera\n",
    "* Student pace: Full Time\n",
    "* Scheduled project review date/time: \n",
    "* Instructor name: David Elliott\n",
    "* Blog post URL:\n"
   ]
  },
  {
   "cell_type": "markdown",
   "metadata": {},
   "source": [
    "# Imports, Data Frame Initializations"
   ]
  },
  {
   "cell_type": "code",
   "execution_count": 3,
   "metadata": {
    "scrolled": true
   },
   "outputs": [],
   "source": [
    "import pandas as pd\n",
    "import matplotlib.pyplot as plt\n",
    "import numpy as np\n",
    "import sqlite3 as sq\n",
    "import seaborn as sns\n",
    "import statistics as st\n",
    "import datetime\n",
    "conn = sq.connect('./zippedData/im.db')\n",
    "cur = conn.cursor()"
   ]
  },
  {
   "cell_type": "code",
   "execution_count": 4,
   "metadata": {
    "scrolled": true
   },
   "outputs": [],
   "source": [
    "movie_basics_df = pd.read_sql('''select * from movie_basics''', conn)"
   ]
  },
  {
   "cell_type": "code",
   "execution_count": null,
   "metadata": {},
   "outputs": [],
   "source": [
    "movie_ratings_df = pd.read_sql(\"\"\"select * from movie_ratings\"\"\",conn)"
   ]
  },
  {
   "cell_type": "code",
   "execution_count": null,
   "metadata": {},
   "outputs": [],
   "source": [
    "persons_df = pd.read_sql(\"\"\"select * from persons\"\"\",conn)"
   ]
  },
  {
   "cell_type": "code",
   "execution_count": null,
   "metadata": {},
   "outputs": [],
   "source": [
    "principals_df = pd.read_sql(\"\"\"select * from principals\"\"\",conn)"
   ]
  },
  {
   "cell_type": "code",
   "execution_count": null,
   "metadata": {},
   "outputs": [],
   "source": [
    "tmdb_movies_df = pd.read_csv('./zippedData/tmdb.movies.csv.gz')"
   ]
  },
  {
   "cell_type": "code",
   "execution_count": null,
   "metadata": {
    "scrolled": true
   },
   "outputs": [],
   "source": [
    "tn_movie_budgets_df = pd.read_csv('./zippedData/tn.movie_budgets.csv.gz',\n",
    "                                 parse_dates=['release_date'])"
   ]
  },
  {
   "cell_type": "code",
   "execution_count": null,
   "metadata": {
    "scrolled": true
   },
   "outputs": [],
   "source": [
    "tn_movie_budgets_df.info()"
   ]
  },
  {
   "cell_type": "markdown",
   "metadata": {},
   "source": [
    "tn_movie_budgets_df.info() shows us that this dataframe will be used to derive net_return and ROI as a percentage, specifically production_budget and worldwide_gross. We believe net_return and ROI% are the key metrics for an executive team weighing different investment options. "
   ]
  },
  {
   "cell_type": "markdown",
   "metadata": {},
   "source": [
    "# TN Movie Budgets Clean Up Process (Genres Analysis)"
   ]
  },
  {
   "cell_type": "code",
   "execution_count": null,
   "metadata": {
    "scrolled": true
   },
   "outputs": [],
   "source": [
    "# Remove $ from production_budget, convert to float\n",
    "tn_movie_budgets_df['production_budget'] = tn_movie_budgets_df['production_budget'].str.replace(',', '').str.replace('$', '').astype(float)\n",
    "\n",
    "# Remove $ from domestic_gross, convert to float\n",
    "tn_movie_budgets_df['domestic_gross'] = tn_movie_budgets_df['domestic_gross'].str.replace(',', '').str.replace('$', '').astype(float)\n",
    "\n",
    "# Remove $ from worldwide_gross, convert to float\n",
    "tn_movie_budgets_df['worldwide_gross'] = tn_movie_budgets_df['worldwide_gross'].str.replace(',', '').str.replace('$', '').astype(float)\n",
    "\n",
    "# new column release_year from release_date to filter based on time frame in scope\n",
    "tn_movie_budgets_df['release_year'] = pd.DatetimeIndex(tn_movie_budgets_df['release_date']).year\n",
    "\n",
    "# time frame: 2010-Present; SAG definition of theatrical budget: > 2 million\n",
    "tn_movie_budgets_df = tn_movie_budgets_df[(tn_movie_budgets_df.release_year >= 2010) & (tn_movie_budgets_df.production_budget > 1999999)]"
   ]
  },
  {
   "cell_type": "markdown",
   "metadata": {},
   "source": [
    "# Recommendation 1: Genres Analysis\n",
    "TN Movie Budgets merge with IMDB Movie Basics to compare net return and ROI percent"
   ]
  },
  {
   "cell_type": "code",
   "execution_count": null,
   "metadata": {},
   "outputs": [],
   "source": [
    "# rename movie_basics column to match tn_movie_budgets\n",
    "movie_basics_df.rename(columns={\"primary_title\":\"movie\"}, inplace = True)\n",
    "\n",
    "# merge movie_budgets and imdb movie_basics\n",
    "moviebudgets_moviebasics_df = tn_movie_budgets_df.merge(movie_basics_df, how='inner', on='movie')\n",
    "\n",
    "# drop columns that are not relevant to Genre analysis\n",
    "moviebudgets_moviebasics_df.drop(columns = ['id', 'movie_id', 'original_title', 'runtime_minutes', 'domestic_gross' ],axis=1,inplace=True)\n",
    "\n",
    "# remove duplicate movies\n",
    "moviebudgets_moviebasics_df.drop_duplicates(subset='movie', keep='last', inplace=True, ignore_index=False)\n",
    "\n",
    "# add column for net_return\n",
    "moviebudgets_moviebasics_df['net_return'] = (moviebudgets_moviebasics_df['worldwide_gross'] - moviebudgets_moviebasics_df['production_budget'])\n",
    "\n",
    "# add column for ROI as a %\n",
    "moviebudgets_moviebasics_df['roi_percent'] = ((moviebudgets_moviebasics_df['net_return'] / moviebudgets_moviebasics_df['production_budget'])*100)"
   ]
  },
  {
   "cell_type": "code",
   "execution_count": null,
   "metadata": {
    "scrolled": true
   },
   "outputs": [],
   "source": [
    "moviebudgets_moviebasics_df.info()"
   ]
  },
  {
   "cell_type": "markdown",
   "metadata": {},
   "source": [
    "Our sample size is 3733 Unique Films since 2010 to perform Genres Analysis on and after the cleanup process, we now have all the data we need to compare net_return and ROI percent across these films to best inform our recommendation for the executive team at Microsoft"
   ]
  },
  {
   "cell_type": "markdown",
   "metadata": {},
   "source": [
    "# Recommendation 1: Visualizations"
   ]
  },
  {
   "cell_type": "code",
   "execution_count": null,
   "metadata": {},
   "outputs": [],
   "source": [
    "# genres to list \n",
    "moviebudgets_moviebasics_df['genres'] = moviebudgets_moviebasics_df['genres'].str.split(\",\")\n",
    "# explode out rows for movies with multiple genres for visualization purposes\n",
    "moviebudgets_moviebasics_df = moviebudgets_moviebasics_df.explode('genres')\n",
    "# means grouped by genre\n",
    "moviebudgets_moviebasics_mean_df = moviebudgets_moviebasics_df.groupby(['genres']).mean().reset_index()"
   ]
  },
  {
   "cell_type": "code",
   "execution_count": null,
   "metadata": {},
   "outputs": [],
   "source": [
    "# visualization 1: initialize relevant dataframes and lists for x/y values\n",
    "netreturn_vis = moviebudgets_moviebasics_df.dropna()\n",
    "\n",
    "n_list = list(moviebudgets_moviebasics_df['genres'].value_counts().head(10).keys())\n",
    "\n",
    "netreturn_vis = netreturn_vis[netreturn_vis['genres'].isin(n_list)]"
   ]
  },
  {
   "cell_type": "code",
   "execution_count": null,
   "metadata": {},
   "outputs": [],
   "source": [
    "# visualization 1: net return bar plot\n",
    "\n",
    "# seaborn style\n",
    "sns.set(style='whitegrid')\n",
    "\n",
    "# initialize matlab plot\n",
    "fig, ax = plt.subplots(figsize=(16, 8))\n",
    "\n",
    "# define df, x and y values\n",
    "roi_vis = moviebudgets_moviebasics_mean_df.sort_values(by='net_return', ascending=False).head(10)\n",
    "x_values = list(roi_vis['genres'])\n",
    "y_values = list(roi_vis['net_return'])\n",
    "\n",
    "net_return_vis = moviebudgets_moviebasics_mean_df.sort_values(by='net_return', ascending=False).head(10)\n",
    "\n",
    "sns.barplot(x=x_values, y=y_values, data=roi_vis, palette='muted')\n",
    "ax.set_title('Genre vs Avg. Net Return', fontsize = 20, pad=24)\n",
    "plt.xlabel('Genre', fontsize = 18, labelpad=18)\n",
    "plt.ylabel('Net Return (Hundreds of Millions)', fontsize = 18, labelpad=18)\n",
    "plt.xticks(fontsize=12)\n",
    "plt.yticks(fontsize=12)\n",
    "plt.savefig('./viz_images/' + 'net_return_visualization.png', bbox_inches='tight')"
   ]
  },
  {
   "cell_type": "markdown",
   "metadata": {},
   "source": [
    "# Visualization 1 - Net Return Observations\n",
    "This chart shows that the top 3 earning genres of film in terms of Net Return (Worldwide Gross - Production Budget) are Animation, Sci-Fi, and Musical/Adventure.\n",
    "\n",
    "In addition, all of the top 20 Adventure films in terms of net return are sequels or have since produced sequels (Frozen, Zootopia) of existing, and already widely popular intellectual property (Marvel, James Bond, Jumanji, etc.). This informs our recommendation in that it suggests that the average return for a standalone adventure film is significantly less than what the average suggests. \n",
    "\n",
    "Since acquiring highly popular IP or producing sequels to existing IP is a difficult hurdle for a brand new studio to overcome, we do not recommend that the proposed Microsoft Film Studios produce an Action/Adventure blockbuster type of film as one of its first ventures into the industry."
   ]
  },
  {
   "cell_type": "code",
   "execution_count": null,
   "metadata": {},
   "outputs": [],
   "source": [
    "moviebudgets_moviebasics_df[moviebudgets_moviebasics_df['genres'] == 'Adventure'].sort_values(by='net_return', ascending=False).head(20)"
   ]
  },
  {
   "cell_type": "code",
   "execution_count": null,
   "metadata": {
    "scrolled": false
   },
   "outputs": [],
   "source": [
    "# visualization 2: ROI% bar plot\n",
    "\n",
    "# seaborn style\n",
    "sns.set(style='whitegrid')\n",
    "\n",
    "# initialize matlab plot\n",
    "fig, ax = plt.subplots(figsize=(16, 8))\n",
    "\n",
    "# define df, x and y values\n",
    "roi_vis = moviebudgets_moviebasics_mean_df.sort_values(by='roi_percent', ascending=False).head(10)\n",
    "x_values = list(roi_vis['genres'])\n",
    "y_values = list(roi_vis['roi_percent'])\n",
    "\n",
    "# plot\n",
    "sns.barplot(x=x_values, y=y_values,  data=roi_vis, palette='muted')\n",
    "ax.set_title('Genre vs Avg. ROI', fontsize = 20, pad=24)\n",
    "plt.xlabel('Film Genre', fontsize = 18, labelpad=18)\n",
    "plt.ylabel('ROI %',  fontsize = 18, labelpad=18)\n",
    "plt.xticks(fontsize=14)\n",
    "plt.yticks(fontsize=14)\n",
    "plt.savefig('./viz_images/' + 'roi_percent_visualization.png', bbox_inches='tight')"
   ]
  },
  {
   "cell_type": "markdown",
   "metadata": {},
   "source": [
    "# Visualization 2 - Net Return Observations\n",
    "Figure 2 shows that the genres with the highest ROI% are Mystery, Horror, and Thriller films with Mystery/Horror films returning 400% of the initial investment on average. \n",
    "\n",
    "This suggests that the production budgets for horror films on average are on the lower end of the spectrum, and offer studios the best bang for their buck. As such, our recommendation is that Microsoft Studios start out by producing Horror movies with relatively lower production budgets as a way to manage risk and maximize ROI%."
   ]
  },
  {
   "cell_type": "code",
   "execution_count": null,
   "metadata": {},
   "outputs": [],
   "source": [
    "moviebudgets_moviebasics_df[moviebudgets_moviebasics_df['genres'] == 'Horror'].sort_values(by='net_return', ascending=False).head(20)"
   ]
  },
  {
   "cell_type": "markdown",
   "metadata": {},
   "source": [
    "# TN Movie Budgets Clean Up Process (Release Date Analysis)"
   ]
  },
  {
   "cell_type": "code",
   "execution_count": null,
   "metadata": {},
   "outputs": [],
   "source": [
    "\n",
    "tn_movies = pd.read_csv('./zippedData/tn.movie_budgets.csv.gz')\n",
    "                                \n",
    "#Get rid of punctuation on worldwide_gross column\n",
    "tn_movies['worldwide_gross'] = tn_movies['worldwide_gross'].replace('[\\$,]', '', regex=True)\n",
    "\n",
    "#Get rid of punctuation on domestic_gross column\n",
    "tn_movies['domestic_gross'] = tn_movies['domestic_gross'].replace('[\\$,]', '', regex=True)\n",
    "\n",
    "#Get rid of punctuation on production_budget column\n",
    "tn_movies['production_budget'] = tn_movies['production_budget'].replace('[\\$,]', '', regex=True)\n",
    "\n",
    "#change worldwide_gross column to float\n",
    "tn_movies['worldwide_gross'] = tn_movies['worldwide_gross'].astype(float)\n",
    "\n",
    "#change domestic_gross column to int\n",
    "tn_movies['domestic_gross'] = tn_movies['domestic_gross'].astype(int)\n",
    "\n",
    "#change production_budget column to int\n",
    "tn_movies['production_budget']=tn_movies['production_budget'].astype(int)"
   ]
  },
  {
   "cell_type": "code",
   "execution_count": null,
   "metadata": {
    "scrolled": false
   },
   "outputs": [],
   "source": [
    "tn_movies.info()"
   ]
  },
  {
   "cell_type": "markdown",
   "metadata": {},
   "source": [
    "As shown above, all of the fields are now the correct data type."
   ]
  },
  {
   "cell_type": "markdown",
   "metadata": {},
   "source": [
    "# Recommendation 2: Release Month Analysis"
   ]
  },
  {
   "cell_type": "markdown",
   "metadata": {},
   "source": [
    "With this recommendation we decided to use the return on investment(ROI) percentage to see if there was a trend in getting more ROI from releasing a movie in a certain month.\n",
    "The process that was used to get this percentage was taking the worldwide gross column minus production budget to get net income, then dividing net income by production budget to end up with an ROI percentage"
   ]
  },
  {
   "cell_type": "code",
   "execution_count": null,
   "metadata": {},
   "outputs": [],
   "source": [
    "#create a net_income column by taking domestic_gross and subtracting production budget\n",
    "tn_movies[\"net_return\"]=tn_movies['worldwide_gross']-tn_movies['production_budget']\n",
    "\n",
    "#create a cost_revenue_ratio by taking net income and dividing it by production budget\n",
    "tn_movies[\"ROI\"]=((tn_movies['net_return'])/(tn_movies['production_budget']))*100\n",
    "\n",
    "#change all cost_rev values into int \n",
    "tn_movies[\"ROI\"] =tn_movies[\"ROI\"].astype(int)\n",
    "\n",
    "#change release_date column into datetime format\n",
    "tn_movies[\"release_date\"] = pd.to_datetime(tn_movies[\"release_date\"])\n",
    "\n",
    "#create a month and year column\n",
    "tn_movies['year'] = pd.DatetimeIndex(tn_movies['release_date']).year\n",
    "tn_movies['month'] = pd.DatetimeIndex(tn_movies['release_date']).month\n",
    "\n",
    "# time frame: 2010-Present & SAG definition of theatrical budget: > 2 million\n",
    "tn_movies_2010 = tn_movies[(tn_movies['production_budget'] > 1999999) & (tn_movies['year'] >= 2010)]"
   ]
  },
  {
   "cell_type": "code",
   "execution_count": null,
   "metadata": {
    "scrolled": true
   },
   "outputs": [],
   "source": [
    "tn_movies_2010.info()"
   ]
  },
  {
   "cell_type": "markdown",
   "metadata": {},
   "source": [
    "Our sample size is 1851 unique films released since 2010 that also has a production budget of $2 million or more (SAG definition of a theatrical movie). Net Return and ROI were added to allow for meaningful comparison among the films"
   ]
  },
  {
   "cell_type": "markdown",
   "metadata": {},
   "source": [
    "# Recommendation 2: Month Release Visualization"
   ]
  },
  {
   "cell_type": "code",
   "execution_count": null,
   "metadata": {},
   "outputs": [],
   "source": [
    "#created a list with all the Cost_Rev_Ratios in tn_movies_2010\n",
    "ROI = [x for x in tn_movies_2010[\"ROI\"]] \n",
    "#created a list of all the month value associated with each cost_rev_ratio\n",
    "Month = [x for x in tn_movies_2010['month']]\n",
    "#mapped both list into a master list as tuples\n",
    "ROI_Month = list(map(lambda *x: x, Month, ROI))\n",
    "#created a function that would take in associated number and append a new list of Cost_Rev_Ratio based on associated month value\n",
    "#get the mean of the list by associated month  \n",
    "def month_mean(num):\n",
    "    x = []\n",
    "    for index, tuple in enumerate(ROI_Month):\n",
    "        element_one = tuple[0]\n",
    "        element_two = tuple[1]\n",
    "        if element_one == num:\n",
    "            x.append(element_two)\n",
    "    return(st.mean(x))\n",
    "#created a function that would take in associated number and append a new list of Cost_Rev_Ratio based on associated month value\n",
    "#get the median of the list by associated month \n",
    "def month_median(num):\n",
    "    x = []\n",
    "    for index, tuple in enumerate(ROI_Month):\n",
    "        element_one = tuple[0]\n",
    "        element_two = tuple[1]\n",
    "        if element_one == num:\n",
    "            x.append(element_two)\n",
    "    return(st.median(x))"
   ]
  },
  {
   "cell_type": "code",
   "execution_count": null,
   "metadata": {},
   "outputs": [],
   "source": [
    "#created dictionary to map month_index to month_list\n",
    "month_index = [1,2,3,4,5,6,7,8,9,10,11,12]\n",
    "month_list = ['Jan','Feb','Mar','Apr','May','June','July','Aug','Sept','Oct','Nov','Dec']\n",
    "mapped_months = dict(map(lambda *x: x, month_index, month_list))"
   ]
  },
  {
   "cell_type": "code",
   "execution_count": null,
   "metadata": {},
   "outputs": [],
   "source": [
    "#made two list using functions above of all medians per month and means per month \n",
    "by_month_mean_list = []\n",
    "by_month_median_list = []\n",
    "for num in mapped_months.keys():\n",
    "    by_month_mean_list.append(month_mean(num))\n",
    "    by_month_median_list.append(month_median(num))"
   ]
  },
  {
   "cell_type": "code",
   "execution_count": null,
   "metadata": {},
   "outputs": [],
   "source": [
    "#created two dictionaries that mapped values of the two list above to associated month \n",
    "month_mean = dict(map(lambda *x: x, month_list, by_month_mean_list))\n",
    "month_median = dict(map(lambda *x: x, month_list, by_month_median_list))"
   ]
  },
  {
   "cell_type": "code",
   "execution_count": null,
   "metadata": {
    "scrolled": true
   },
   "outputs": [],
   "source": [
    "month_mean"
   ]
  },
  {
   "cell_type": "code",
   "execution_count": null,
   "metadata": {
    "scrolled": true
   },
   "outputs": [],
   "source": [
    "month_median"
   ]
  },
  {
   "cell_type": "markdown",
   "metadata": {},
   "source": [
    "The medians are lower than the averages, which shows a positive skew of the data. This makes sense as the average returns are likely to be pulled upward by the top earning films that outearn the average film by several magnitudes.\n",
    "\n",
    "July has the highest average and also the highest median, suggesting that it is likely to be the most optimal month for releasing a movie."
   ]
  },
  {
   "cell_type": "code",
   "execution_count": null,
   "metadata": {},
   "outputs": [],
   "source": [
    "df = pd.DataFrame({'Month': Month,\n",
    "                   'ROI': ROI,})\n",
    "#set seaborn plotting aesthetics\n",
    "sns.set(style='white')\n",
    "\n",
    "\n",
    "ax = sns.barplot(x='Month', y='ROI',  data=df)\n",
    "sns.set(rc={'figure.figsize':(11.7,8.27)})\n",
    "ax.set_ylabel('ROI percentage',fontsize = 16)\n",
    "ax.set_xlabel('Month',fontsize = 16)\n",
    "ax.set_title('ROI by Month of Entire Cleaned Data',fontsize = 20)\n",
    "ax.set_xticklabels(month_list)\n",
    "plt.savefig('./viz_images/' + 'fulldata_ROI_month.png', bbox_inches='tight');"
   ]
  },
  {
   "cell_type": "markdown",
   "metadata": {},
   "source": [
    "This chart supports our assumption that July would be the best month to release a movie as even when adjusting for outliers, July still leads all months by ROI percentage."
   ]
  },
  {
   "cell_type": "code",
   "execution_count": null,
   "metadata": {
    "scrolled": false
   },
   "outputs": [],
   "source": [
    "df2 = pd.DataFrame({'Month': month_median.keys(),\n",
    "                   'ROI': month_median.values(),})\n",
    "#set seaborn plotting aesthetics\n",
    "sns.set(style='white')\n",
    "\n",
    "#create grouped bar chart\n",
    "ax = sns.barplot(x='Month', y='ROI',  data=df2, color='blue')\n",
    "sns.set(rc={'figure.figsize':(11.7,8.27)})\n",
    "ax.set_ylabel('ROI percentage',fontsize = 16)\n",
    "ax.set_xlabel('Month',fontsize = 16)\n",
    "ax.set_title('ROI Median by Month',fontsize = 20)\n",
    "plt.savefig('./viz_images/' + 'ROI_median_by_month.png', bbox_inches='tight');"
   ]
  },
  {
   "cell_type": "code",
   "execution_count": null,
   "metadata": {
    "scrolled": false
   },
   "outputs": [],
   "source": [
    "df1 = pd.DataFrame({'Month': month_mean.keys(),\n",
    "                   'ROI': month_mean.values(),})\n",
    "#set seaborn plotting aesthetics\n",
    "sns.set(style='white')\n",
    "\n",
    "#create grouped bar chart\n",
    "ax = sns.barplot(x='Month', y='ROI',  data=df1,color='red')\n",
    "sns.set(rc={'figure.figsize':(11.7,8.27)})\n",
    "ax.set_ylabel('ROI percentage',fontsize = 16)\n",
    "ax.set_xlabel('Month',fontsize = 16)\n",
    "ax.set_title('ROI Mean by Month',fontsize = 20)\n",
    "plt.savefig('./viz_images/' + 'ROI_mean_by_month.png', bbox_inches='tight');"
   ]
  },
  {
   "cell_type": "code",
   "execution_count": null,
   "metadata": {},
   "outputs": [],
   "source": [
    "ax = pd.concat({\n",
    "    'Mean': df1.set_index('Month'), 'Median': df2.set_index('Month'),\n",
    "}, axis=1).plot.bar()\n",
    "ax.set_ylabel('ROI percentage',fontsize = 16)\n",
    "ax.set_xlabel('Month',fontsize = 16)\n",
    "ax.set_title('ROI by Month',fontsize = 20)\n",
    "plt.legend(labels=[\"Mean\",\"Median\"], fontsize = 14)\n",
    "plt.savefig('./viz_images/' + 'ROI_combo_by_month', bbox_inches='tight');"
   ]
  },
  {
   "cell_type": "markdown",
   "metadata": {},
   "source": [
    "# Recommendation 2: Analysis outcome "
   ]
  },
  {
   "cell_type": "markdown",
   "metadata": {},
   "source": [
    "Based on the different visualization trends we came to the conclusion that the best month of release would be July."
   ]
  },
  {
   "cell_type": "markdown",
   "metadata": {},
   "source": [
    "# IMDB Clean Up Process"
   ]
  },
  {
   "cell_type": "code",
   "execution_count": null,
   "metadata": {},
   "outputs": [],
   "source": [
    "imdb_schema = pd.read_sql('''SELECT * FROM sqlite_master''',conn)"
   ]
  },
  {
   "cell_type": "code",
   "execution_count": null,
   "metadata": {},
   "outputs": [],
   "source": [
    "writers_df = pd.read_sql('''select * from writers''', conn)\n",
    "#writers kind of irrelevant for the question"
   ]
  },
  {
   "cell_type": "code",
   "execution_count": null,
   "metadata": {
    "scrolled": true
   },
   "outputs": [],
   "source": [
    "writers_df.describe()"
   ]
  },
  {
   "cell_type": "code",
   "execution_count": null,
   "metadata": {
    "scrolled": true
   },
   "outputs": [],
   "source": [
    "writers_df.info()"
   ]
  },
  {
   "cell_type": "code",
   "execution_count": null,
   "metadata": {
    "scrolled": true
   },
   "outputs": [],
   "source": [
    "principals_df = pd.read_sql('''select * from principals''', conn)\n",
    "#useful for actor/actresses,, probably drop characters, job since job = none but category has actor"
   ]
  },
  {
   "cell_type": "code",
   "execution_count": null,
   "metadata": {},
   "outputs": [],
   "source": [
    "principals_df['person_id'].value_counts()"
   ]
  },
  {
   "cell_type": "code",
   "execution_count": null,
   "metadata": {},
   "outputs": [],
   "source": [
    "principals_df.describe()\n",
    "#useless"
   ]
  },
  {
   "cell_type": "code",
   "execution_count": null,
   "metadata": {},
   "outputs": [],
   "source": [
    "principals_df.info()\n",
    "#Probably filter out characters since we want actors/actresses"
   ]
  },
  {
   "cell_type": "code",
   "execution_count": null,
   "metadata": {},
   "outputs": [],
   "source": [
    "movie_basics_df = pd.read_sql('''select * from movie_basics''', conn)\n",
    "movie_basics_df.head()\n",
    "#Very useful, movie_Id common denominator"
   ]
  },
  {
   "cell_type": "code",
   "execution_count": null,
   "metadata": {},
   "outputs": [],
   "source": [
    "movie_basics_df.info()\n",
    "#Lots of nulls in RunTime_Minutes, quite a few in Genres and some in Original Title\n",
    "#Could probably drop original title while cleaning the data"
   ]
  },
  {
   "cell_type": "code",
   "execution_count": null,
   "metadata": {},
   "outputs": [],
   "source": [
    "movie_basics_df.describe()\n",
    "#Max 2115? Probably have to put a max on the SQL query for it, same for runtime "
   ]
  },
  {
   "cell_type": "code",
   "execution_count": null,
   "metadata": {},
   "outputs": [],
   "source": [
    "directors_df = pd.read_sql(\"\"\"select * from directors\"\"\",conn)\n",
    "directors_df.head()\n",
    "#Merge off of movie_id to main database\n",
    "#Convert person_ID through persons_df\n",
    "#Usable, directors are nice"
   ]
  },
  {
   "cell_type": "code",
   "execution_count": null,
   "metadata": {},
   "outputs": [],
   "source": [
    "directors_df['person_id'].value_counts()"
   ]
  },
  {
   "cell_type": "code",
   "execution_count": null,
   "metadata": {},
   "outputs": [],
   "source": [
    "directors_df.describe()\n",
    "#nothing too relevant"
   ]
  },
  {
   "cell_type": "code",
   "execution_count": null,
   "metadata": {},
   "outputs": [],
   "source": [
    "directors_df.info()\n",
    "#complete data"
   ]
  },
  {
   "cell_type": "code",
   "execution_count": null,
   "metadata": {},
   "outputs": [],
   "source": [
    "known_for_df = pd.read_sql(\"\"\"select * from known_for\"\"\",conn)\n",
    "known_for_df.head()\n",
    "#I dont really think this data set is relevant - dropping it\n",
    "#Based off data it seems to just be a person (would have to merge to person_df) and what movie theyre known for"
   ]
  },
  {
   "cell_type": "code",
   "execution_count": null,
   "metadata": {},
   "outputs": [],
   "source": [
    "movie_akas_df = pd.read_sql(\"\"\"select * from movie_akas\"\"\",conn)\n",
    "movie_akas_df.head()\n",
    "#Nothing too amazing, considering dropping this dataset"
   ]
  },
  {
   "cell_type": "code",
   "execution_count": null,
   "metadata": {},
   "outputs": [],
   "source": [
    "movie_akas_df.info()\n",
    "#Tons of nulls in language, type, and attributes; even region "
   ]
  },
  {
   "cell_type": "code",
   "execution_count": null,
   "metadata": {},
   "outputs": [],
   "source": [
    "movie_akas_df.describe()\n",
    "#Useless"
   ]
  },
  {
   "cell_type": "code",
   "execution_count": null,
   "metadata": {},
   "outputs": [],
   "source": [
    "movie_akas_df['movie_id'].value_counts()\n",
    "#Tons of duplicates too based off movie id and how many regions released, probably irrelevant and too much information\n",
    "#dropping this dataset too\n"
   ]
  },
  {
   "cell_type": "code",
   "execution_count": null,
   "metadata": {},
   "outputs": [],
   "source": [
    "movie_ratings_df = pd.read_sql(\"\"\"select * from movie_ratings\"\"\",conn)\n",
    "movie_ratings_df.head()\n",
    "#Pretty useful information"
   ]
  },
  {
   "cell_type": "code",
   "execution_count": null,
   "metadata": {},
   "outputs": [],
   "source": [
    "movie_ratings_df.info()\n",
    "#Full dataset, nice"
   ]
  },
  {
   "cell_type": "code",
   "execution_count": null,
   "metadata": {},
   "outputs": [],
   "source": [
    "round(movie_ratings_df.describe(),2)\n",
    "#Rating scale looks clean, numvotes looks fine too since no negatives"
   ]
  },
  {
   "cell_type": "code",
   "execution_count": null,
   "metadata": {},
   "outputs": [],
   "source": [
    "movie_ratings_df['movie_id'].value_counts()\n",
    "#No dupes"
   ]
  },
  {
   "cell_type": "code",
   "execution_count": null,
   "metadata": {},
   "outputs": [],
   "source": [
    "persons_df = pd.read_sql(\"\"\"select * from persons\"\"\",conn)\n",
    "persons_df.head()\n",
    "#Super useful for mapping person ID to primary names, rest of the information is a bit much\n",
    "#Primary profession could be useful but can't be connected to actual movies since no movie_Id in dataset\n",
    "#birth_year"
   ]
  },
  {
   "cell_type": "code",
   "execution_count": null,
   "metadata": {},
   "outputs": [],
   "source": [
    "persons_df.describe()\n",
    "#Probably remove dead people honestly"
   ]
  },
  {
   "cell_type": "code",
   "execution_count": null,
   "metadata": {},
   "outputs": [],
   "source": [
    "persons_df.info()\n",
    "#Tons of null in birth year and death year"
   ]
  },
  {
   "cell_type": "code",
   "execution_count": null,
   "metadata": {},
   "outputs": [],
   "source": [
    "subdir = pd.read_sql(\n",
    "'''\n",
    "SELECT\n",
    "    dir.movie_id,\n",
    "    per.primary_name\n",
    "FROM\n",
    "    directors as dir\n",
    "    LEFT JOIN persons as per\n",
    "        ON dir.person_id = per.person_id\n",
    "WHERE\n",
    "    per.death_year is null\n",
    "''',\n",
    "conn\n",
    ")\n",
    "subdir.head()\n",
    "#Filters out dead directors for movies "
   ]
  },
  {
   "cell_type": "code",
   "execution_count": null,
   "metadata": {},
   "outputs": [],
   "source": [
    "subdir.shape"
   ]
  },
  {
   "cell_type": "code",
   "execution_count": null,
   "metadata": {},
   "outputs": [],
   "source": [
    "subpri = pd.read_sql(\n",
    "'''\n",
    "SELECT\n",
    "    pri.movie_id,\n",
    "    per.primary_name,\n",
    "    pri.category\n",
    "FROM\n",
    "    principals as pri\n",
    "    LEFT JOIN persons as per\n",
    "        ON pri.person_id = per.person_id\n",
    "WHERE\n",
    "    (pri.category = 'actor'\n",
    "    OR\n",
    "    pri.category = 'actress'\n",
    "    or\n",
    "    pri.category = 'director')\n",
    "    AND\n",
    "    per.death_year is null\n",
    "    AND\n",
    "    per.primary_name is not null\n",
    "''',\n",
    "conn\n",
    ")\n",
    "subpri.head()\n",
    "#Finding the actor/actresses, can be used to create a subquery\n",
    "#director subquery potentially useless"
   ]
  },
  {
   "cell_type": "code",
   "execution_count": null,
   "metadata": {},
   "outputs": [],
   "source": [
    "subpri.shape"
   ]
  },
  {
   "cell_type": "code",
   "execution_count": null,
   "metadata": {},
   "outputs": [],
   "source": [
    "subpri['category'].value_counts()"
   ]
  },
  {
   "cell_type": "code",
   "execution_count": null,
   "metadata": {},
   "outputs": [],
   "source": [
    "subpri.info()"
   ]
  },
  {
   "cell_type": "code",
   "execution_count": null,
   "metadata": {},
   "outputs": [],
   "source": [
    "imdb = pd.read_sql(\n",
    "'''\n",
    "SELECT\n",
    "    mb.primary_title as MovieName,\n",
    "    mb.start_year as StartYear,\n",
    "    mb.runtime_minutes as RunTime,\n",
    "    mb.genres as Genre,\n",
    "    mr.averagerating as Rating,\n",
    "    mr.numvotes as VoteCount   \n",
    "FROM\n",
    "    movie_basics as mb\n",
    "    LEFT JOIN movie_ratings as mr\n",
    "        ON mb.movie_id = mr.movie_id\n",
    "WHERE\n",
    "    mr.numvotes > 1000\n",
    "    AND\n",
    "    averagerating is not null\n",
    "    AND\n",
    "    start_year >= 2010\n",
    "    and \n",
    "    runtime_minutes is not null\n",
    "    and\n",
    "    genres is not null \n",
    "''',\n",
    "conn\n",
    ")\n",
    "imdb.head()\n",
    "#overall imdb data, could be good for finding average ratings, genres, etc on whats good"
   ]
  },
  {
   "cell_type": "code",
   "execution_count": null,
   "metadata": {},
   "outputs": [],
   "source": [
    "imdb.shape\n",
    "#9601 movies left"
   ]
  },
  {
   "cell_type": "code",
   "execution_count": null,
   "metadata": {},
   "outputs": [],
   "source": [
    "imdb.info()\n",
    "#no nulls pog"
   ]
  },
  {
   "cell_type": "code",
   "execution_count": null,
   "metadata": {},
   "outputs": [],
   "source": [
    "imdb2 = imdb\n",
    "#creating a new dataframe to not mess with the original"
   ]
  },
  {
   "cell_type": "code",
   "execution_count": null,
   "metadata": {},
   "outputs": [],
   "source": [
    "imdb2['Genre'] = imdb['Genre'].str.split(',')\n",
    "#String splitting genre for exploding purposes"
   ]
  },
  {
   "cell_type": "code",
   "execution_count": null,
   "metadata": {},
   "outputs": [],
   "source": [
    "imdb2.head(5)\n",
    "#check it"
   ]
  },
  {
   "cell_type": "code",
   "execution_count": null,
   "metadata": {},
   "outputs": [],
   "source": [
    "imdb2['StartYear'].value_counts()\n",
    "#Checking range of years for data"
   ]
  },
  {
   "cell_type": "code",
   "execution_count": null,
   "metadata": {},
   "outputs": [],
   "source": [
    "imdbexp = imdb2.explode('Genre')\n",
    "#explode to separate all the genres"
   ]
  },
  {
   "cell_type": "code",
   "execution_count": null,
   "metadata": {
    "scrolled": true
   },
   "outputs": [],
   "source": [
    "imdbexp['Genre'].value_counts()"
   ]
  },
  {
   "cell_type": "code",
   "execution_count": null,
   "metadata": {},
   "outputs": [],
   "source": [
    "imdbexp.shape"
   ]
  },
  {
   "cell_type": "code",
   "execution_count": null,
   "metadata": {
    "scrolled": true
   },
   "outputs": [],
   "source": [
    "imdbexpg = imdbexp.loc[imdbexp['Genre'] == 'Animation'].sort_values('Rating',ascending=False)\n",
    "imdbexpg.head(20)"
   ]
  },
  {
   "cell_type": "code",
   "execution_count": null,
   "metadata": {
    "scrolled": true
   },
   "outputs": [],
   "source": [
    "imdbexp.head(5)\n",
    "#check it"
   ]
  },
  {
   "cell_type": "code",
   "execution_count": null,
   "metadata": {},
   "outputs": [],
   "source": [
    "imdbexp.info()\n",
    "#no nulls nice"
   ]
  },
  {
   "cell_type": "code",
   "execution_count": null,
   "metadata": {},
   "outputs": [],
   "source": [
    "imdb_work = pd.read_sql(\n",
    "'''\n",
    "SELECT\n",
    "    mb.start_year as MovieYear,\n",
    "    mb.primary_title as MovieName,\n",
    "    mr.averagerating as AvgRating,\n",
    "    job.primary_name as Name,\n",
    "    genres as Genre,\n",
    "    job.category as Job\n",
    "FROM\n",
    "    (SELECT\n",
    "        pri.movie_id,\n",
    "        per.primary_name,\n",
    "        pri.category\n",
    "            FROM\n",
    "        principals as pri\n",
    "            LEFT JOIN persons as per\n",
    "            ON pri.person_id = per.person_id\n",
    "    WHERE\n",
    "        (pri.category = 'actor'\n",
    "        OR\n",
    "        pri.category = 'actress'\n",
    "        or\n",
    "        pri.category = 'director')\n",
    "        AND\n",
    "        per.death_year is null\n",
    "        AND\n",
    "        per.primary_name is not null) as job\n",
    "    LEFT JOIN movie_basics as mb\n",
    "        ON job.movie_id = mb.movie_id\n",
    "    LEFT JOIN movie_ratings as mr\n",
    "        on job.movie_id = mr.movie_id\n",
    "WHERE\n",
    "    mr.numvotes > 1000\n",
    "    AND\n",
    "    averagerating is not null\n",
    "    AND\n",
    "    start_year >= 2010\n",
    "    and \n",
    "    runtime_minutes is not null\n",
    "    and\n",
    "    genres is not null\n",
    "ORDER BY\n",
    "    job.primary_name,\n",
    "    mb.start_year\n",
    "''',\n",
    "conn\n",
    ")\n",
    "imdb_work.head(10)\n",
    "#This ensures actors or actresses with more than enough experience on an average rating\n",
    "#this is only for names"
   ]
  },
  {
   "cell_type": "code",
   "execution_count": null,
   "metadata": {},
   "outputs": [],
   "source": [
    "imdb_workaction = imdb_work.loc[imdb_work['Genre'].str.contains('Action')]"
   ]
  },
  {
   "cell_type": "code",
   "execution_count": null,
   "metadata": {},
   "outputs": [],
   "source": [
    "imdb_workh = imdb_work.loc[imdb_work['Genre'].str.contains('Horror')]"
   ]
  },
  {
   "cell_type": "code",
   "execution_count": null,
   "metadata": {},
   "outputs": [],
   "source": [
    "imdb_workaction.head(2)"
   ]
  },
  {
   "cell_type": "code",
   "execution_count": null,
   "metadata": {},
   "outputs": [],
   "source": [
    "imdb_workaction.shape"
   ]
  },
  {
   "cell_type": "code",
   "execution_count": null,
   "metadata": {},
   "outputs": [],
   "source": [
    "imdb_workh.head(2)"
   ]
  },
  {
   "cell_type": "code",
   "execution_count": null,
   "metadata": {},
   "outputs": [],
   "source": [
    "imdb_workh.shape"
   ]
  },
  {
   "cell_type": "code",
   "execution_count": null,
   "metadata": {},
   "outputs": [],
   "source": [
    "imdb_work.loc[imdb_work['Name'] == '50 Cent']['MovieYear'].corr(imdb_work.loc[imdb_work['Name'] == '50 Cent']['AvgRating'])\n",
    "#testing code for correlation"
   ]
  },
  {
   "cell_type": "code",
   "execution_count": null,
   "metadata": {},
   "outputs": [],
   "source": [
    "imdb_names = pd.read_sql(\n",
    "'''\n",
    "SELECT\n",
    "    job.primary_name as Name,\n",
    "    job.category as Job,\n",
    "    genres as Genre,\n",
    "    AVG(mr.averagerating) as Rating\n",
    "FROM\n",
    "    (SELECT\n",
    "        pri.movie_id,\n",
    "        per.primary_name,\n",
    "        pri.category\n",
    "            FROM\n",
    "        principals as pri\n",
    "            LEFT JOIN persons as per\n",
    "            ON pri.person_id = per.person_id\n",
    "    WHERE\n",
    "        (pri.category = 'actor'\n",
    "        OR\n",
    "        pri.category = 'actress'\n",
    "        or\n",
    "        pri.category = 'director')\n",
    "        AND\n",
    "        per.death_year is null\n",
    "        AND\n",
    "        per.primary_name is not null) as job\n",
    "    LEFT JOIN movie_basics as mb\n",
    "        ON job.movie_id = mb.movie_id\n",
    "    LEFT JOIN movie_ratings as mr\n",
    "        on job.movie_id = mr.movie_id\n",
    "WHERE\n",
    "    mr.numvotes > 1000\n",
    "    AND\n",
    "    averagerating is not null\n",
    "    AND\n",
    "    start_year >= 2010\n",
    "    and \n",
    "    runtime_minutes is not null\n",
    "    and\n",
    "    genres is not null\n",
    "GROUP BY\n",
    "    job.primary_name\n",
    "HAVING\n",
    "    count(mr.averagerating) > 4\n",
    "ORDER BY\n",
    "    AVG(mr.averagerating) DESC\n",
    "''',\n",
    "conn\n",
    ")\n",
    "imdb_names.head()\n",
    "#This ensures actors or actresses with more than enough experience on an average rating\n",
    "#this is only for names for all genres with a count above 5"
   ]
  },
  {
   "cell_type": "code",
   "execution_count": null,
   "metadata": {},
   "outputs": [],
   "source": [
    "imdb_namesaction = pd.read_sql(\n",
    "'''\n",
    "SELECT\n",
    "    job.primary_name as Name,\n",
    "    job.category as Job,\n",
    "    genres as Genre,\n",
    "    AVG(mr.averagerating) as Rating\n",
    "FROM\n",
    "    (SELECT\n",
    "        pri.movie_id,\n",
    "        per.primary_name,\n",
    "        pri.category\n",
    "            FROM\n",
    "        principals as pri\n",
    "            LEFT JOIN persons as per\n",
    "            ON pri.person_id = per.person_id\n",
    "    WHERE\n",
    "        (pri.category = 'actor'\n",
    "        OR\n",
    "        pri.category = 'actress'\n",
    "        or\n",
    "        pri.category = 'director')\n",
    "        AND\n",
    "        per.death_year is null\n",
    "        AND\n",
    "        per.primary_name is not null) as job\n",
    "    LEFT JOIN movie_basics as mb\n",
    "        ON job.movie_id = mb.movie_id\n",
    "    LEFT JOIN movie_ratings as mr\n",
    "        on job.movie_id = mr.movie_id\n",
    "WHERE\n",
    "    mr.numvotes > 1000\n",
    "    AND\n",
    "    averagerating is not null\n",
    "    AND\n",
    "    start_year >= 2010\n",
    "    and \n",
    "    runtime_minutes is not null\n",
    "    and\n",
    "    genres like '%Action%'\n",
    "GROUP BY\n",
    "    job.primary_name\n",
    "HAVING\n",
    "    count(mr.averagerating) > 4\n",
    "ORDER BY\n",
    "    AVG(mr.averagerating) DESC\n",
    "''',\n",
    "conn\n",
    ")\n",
    "imdb_namesaction.head()\n",
    "#This ensures actors or actresses with more than enough experience on an average rating\n",
    "#this is only for names, this is for action only"
   ]
  },
  {
   "cell_type": "code",
   "execution_count": null,
   "metadata": {},
   "outputs": [],
   "source": [
    "imdb_namesh = pd.read_sql(\n",
    "'''\n",
    "SELECT\n",
    "    job.primary_name as Name,\n",
    "    job.category as Job,\n",
    "    genres as Genre,\n",
    "    AVG(mr.averagerating) as Rating\n",
    "FROM\n",
    "    (SELECT\n",
    "        pri.movie_id,\n",
    "        per.primary_name,\n",
    "        pri.category\n",
    "            FROM\n",
    "        principals as pri\n",
    "            LEFT JOIN persons as per\n",
    "            ON pri.person_id = per.person_id\n",
    "    WHERE\n",
    "        (pri.category = 'actor'\n",
    "        OR\n",
    "        pri.category = 'actress'\n",
    "        or\n",
    "        pri.category = 'director')\n",
    "        AND\n",
    "        per.death_year is null\n",
    "        AND\n",
    "        per.primary_name is not null) as job\n",
    "    LEFT JOIN movie_basics as mb\n",
    "        ON job.movie_id = mb.movie_id\n",
    "    LEFT JOIN movie_ratings as mr\n",
    "        on job.movie_id = mr.movie_id\n",
    "WHERE\n",
    "    mr.numvotes > 1000\n",
    "    AND\n",
    "    averagerating is not null\n",
    "    AND\n",
    "    start_year >= 2010\n",
    "    and \n",
    "    runtime_minutes is not null\n",
    "    and\n",
    "    genres like '%Horror%'\n",
    "GROUP BY\n",
    "    job.primary_name\n",
    "HAVING\n",
    "    count(mr.averagerating) > 3\n",
    "ORDER BY\n",
    "    AVG(mr.averagerating) DESC\n",
    "''',\n",
    "conn\n",
    ")\n",
    "imdb_namesh.head()\n",
    "#This ensures actors or actresses with more than enough experience on an average rating\n",
    "#this is only for names, this is for horror with a count above 3"
   ]
  },
  {
   "cell_type": "code",
   "execution_count": null,
   "metadata": {},
   "outputs": [],
   "source": [
    "imdb_namesh.loc[imdb_namesh['Job']=='actor'].shape\n",
    "#Usable"
   ]
  },
  {
   "cell_type": "code",
   "execution_count": null,
   "metadata": {},
   "outputs": [],
   "source": [
    "imdb_namesh.loc[imdb_namesh['Job']=='actress'].shape\n",
    "#Usable"
   ]
  },
  {
   "cell_type": "code",
   "execution_count": null,
   "metadata": {},
   "outputs": [],
   "source": [
    "imdb_namesh.loc[imdb_namesh['Job']=='director'].shape\n",
    "#Usable"
   ]
  },
  {
   "cell_type": "code",
   "execution_count": null,
   "metadata": {},
   "outputs": [],
   "source": [
    "imdb_namesh.shape\n",
    "#Usable"
   ]
  },
  {
   "cell_type": "code",
   "execution_count": null,
   "metadata": {},
   "outputs": [],
   "source": [
    "imdb_namesaction.shape\n",
    "#Usable"
   ]
  },
  {
   "cell_type": "code",
   "execution_count": null,
   "metadata": {},
   "outputs": [],
   "source": [
    "imdb_names.head(2)\n",
    "#Nice"
   ]
  },
  {
   "cell_type": "code",
   "execution_count": null,
   "metadata": {},
   "outputs": [],
   "source": [
    "imdb_actorsh = imdb_namesh.loc[imdb_namesh['Job']=='actor'].reset_index(drop=True)\n",
    "imdb_actorsh.head(2) #Actors only"
   ]
  },
  {
   "cell_type": "code",
   "execution_count": null,
   "metadata": {},
   "outputs": [],
   "source": [
    "actors_corrh = pd.DataFrame({'Correlation':[imdb_workh.loc[imdb_workh['Name'] == actor]['MovieYear'].corr(imdb_workh.loc[imdb_workh['Name'] == actor]['AvgRating']) for actor in imdb_actorsh['Name']]})\n",
    "#creating correlation series for the actors with prior code"
   ]
  },
  {
   "cell_type": "code",
   "execution_count": null,
   "metadata": {},
   "outputs": [],
   "source": [
    "imdb_actorsh['Correlation'] = actors_corrh\n",
    "imdb_actorsh.head(2)\n",
    "#adding correlation to it"
   ]
  },
  {
   "cell_type": "code",
   "execution_count": null,
   "metadata": {},
   "outputs": [],
   "source": [
    "imdb_actorsh.info() #nice"
   ]
  },
  {
   "cell_type": "code",
   "execution_count": null,
   "metadata": {},
   "outputs": [],
   "source": [
    "imdb_actressh = imdb_namesh.loc[imdb_namesh['Job']=='actress'].reset_index(drop=True)\n",
    "imdb_actressh.head(2) #Actress only"
   ]
  },
  {
   "cell_type": "code",
   "execution_count": null,
   "metadata": {},
   "outputs": [],
   "source": [
    "actress_corrh = pd.DataFrame({'Correlation':[imdb_workh.loc[imdb_workh['Name'] == actress]['MovieYear'].corr(imdb_workh.loc[imdb_workh['Name'] == actress]['AvgRating']) for actress in imdb_actressh['Name']]})\n",
    "actress_corrh.head(2) #Correlation for females"
   ]
  },
  {
   "cell_type": "code",
   "execution_count": null,
   "metadata": {},
   "outputs": [],
   "source": [
    "imdb_actressh['Correlation'] = actress_corrh\n",
    "#Adding the correlation column to imdb actress"
   ]
  },
  {
   "cell_type": "code",
   "execution_count": null,
   "metadata": {},
   "outputs": [],
   "source": [
    "imdb_actressh.head(2) #Checking new data with corr"
   ]
  },
  {
   "cell_type": "code",
   "execution_count": null,
   "metadata": {},
   "outputs": [],
   "source": [
    "imdb_actressh.info() #All is well"
   ]
  },
  {
   "cell_type": "code",
   "execution_count": null,
   "metadata": {},
   "outputs": [],
   "source": [
    "imdb_directorh = imdb_namesh.loc[imdb_namesh['Job']=='director'].reset_index(drop=True)\n",
    "imdb_directorh.head(10) #Director"
   ]
  },
  {
   "cell_type": "code",
   "execution_count": null,
   "metadata": {},
   "outputs": [],
   "source": [
    "director_corrh = pd.DataFrame({'Correlation':[imdb_workh.loc[imdb_workh['Name'] == director]['MovieYear'].corr(imdb_workh.loc[imdb_workh['Name'] == director]['AvgRating']) for director in imdb_directorh['Name']]})\n",
    "director_corrh.head(2)  #Creating correlation for directors now"
   ]
  },
  {
   "cell_type": "code",
   "execution_count": null,
   "metadata": {},
   "outputs": [],
   "source": [
    "imdb_directorh['Correlation'] = director_corrh #putting the correlation into the directors"
   ]
  },
  {
   "cell_type": "code",
   "execution_count": null,
   "metadata": {},
   "outputs": [],
   "source": [
    "imdb_directorh.head(2) #All is well"
   ]
  },
  {
   "cell_type": "code",
   "execution_count": null,
   "metadata": {},
   "outputs": [],
   "source": [
    "imdb_directorh.info() #All is well, only 85 directors weird"
   ]
  },
  {
   "cell_type": "code",
   "execution_count": null,
   "metadata": {},
   "outputs": [],
   "source": [
    "scatact = sns.scatterplot(x='Rating',y='Correlation',hue='Name',data=imdb_actorsh.head(10), marker = '*', s=1000)\n",
    "plt.legend(bbox_to_anchor=(1.05, 1), loc=2, borderaxespad=0.)\n",
    "plt.suptitle('Actors Relationship to Horror Movie Rating',fontsize=30)\n",
    "plt.xlabel('Average Movie Rating',fontsize=20)\n",
    "plt.ylabel('Correlation of Movie Rating from 2010-2019',fontsize=20)\n",
    "plt.savefig('./viz_images/' + 'Actor Relationship to Horror Movie Rating', bbox_inches='tight')\n",
    "#used this to pull people I like, removed from presentation cause its useless for executives to know"
   ]
  },
  {
   "cell_type": "code",
   "execution_count": null,
   "metadata": {},
   "outputs": [],
   "source": [
    "scatact = sns.scatterplot(x='Rating',y='Correlation',hue='Name',data=imdb_actressh.head(10), marker = '*', s=1000)\n",
    "plt.legend(bbox_to_anchor=(1.05, 1), loc=2, borderaxespad=0.)\n",
    "plt.suptitle('Actresses Relationship to Horror Movie Rating',fontsize=30)\n",
    "plt.xlabel('Average Movie Rating',fontsize=20)\n",
    "plt.ylabel('Correlation of Movie Rating from 2010-2019',fontsize=20)\n",
    "plt.savefig('./viz_images/' + 'Actresses Relationship to Horror Movie Rating.png', bbox_inches='tight')\n",
    "#used this to pull people I like, removed from presentation cause its useless for executives to know"
   ]
  },
  {
   "cell_type": "code",
   "execution_count": null,
   "metadata": {},
   "outputs": [],
   "source": [
    "scatact = sns.scatterplot(x='Rating',y='Correlation',hue='Name',data=imdb_directorh.head(10), marker = '*', s=1000)\n",
    "plt.legend(bbox_to_anchor=(1.05, 1), loc=2, borderaxespad=0.)\n",
    "plt.suptitle('Directors Relationship to Horror Movie Rating',fontsize=30)\n",
    "plt.xlabel('Average Movie Rating',fontsize=20)\n",
    "plt.ylabel('Correlation of Movie Rating from 2010-2019',fontsize=20)\n",
    "plt.savefig('./viz_images/' + 'Directors Relationship to Horror Movie Rating', bbox_inches='tight')\n",
    "#used this to pull people I like, removed from presentation cause its useless for executives to know"
   ]
  },
  {
   "cell_type": "code",
   "execution_count": null,
   "metadata": {},
   "outputs": [],
   "source": [
    "logan = imdb_workh.loc[imdb_workh['Name']=='Logan Miller'].groupby('MovieYear').mean()\n",
    "patrick = imdb_workh.loc[imdb_workh['Name']=='Patrick Wilson'].groupby('MovieYear').mean()\n",
    "joe = imdb_workh.loc[imdb_workh['Name']=='Joe Swanberg'].groupby('MovieYear').mean()\n",
    "#Setting up infrastructure for the chart\n",
    "#Used to groupby and average out movie ratings from the same year\n",
    "x = np.linspace(0, 10, 1000)\n",
    "fig, ax = plt.subplots(figsize=(10, 4))\n",
    "ax.plot(logan.index.values, 'AvgRating', data=logan, label='Logan Miller')\n",
    "ax.plot(patrick.index.values, 'AvgRating', data=patrick, label='Patrick Wilson')\n",
    "ax.plot(joe.index.values, 'AvgRating', data=joe, label='Joe Swanberg')\n",
    "ax.set_xlabel('Year')\n",
    "ax.set_ylabel('Movie Average Rating')\n",
    "ax.set_title('Horror Film Rating vs Year by Actors', fontsize=20)\n",
    "loc='bottom right'\n",
    "plt.tight_layout()\n",
    "ax.legend(loc='lower right', title='Actors')\n",
    "plt.savefig('./viz_images/' + 'Horror Film Rating vs Years by Actors', bbox_inches='tight')\n",
    "#Line chart for directors, recommend Logan, Patrick, Joe"
   ]
  },
  {
   "cell_type": "code",
   "execution_count": null,
   "metadata": {},
   "outputs": [],
   "source": [
    "amy = imdb_workh.loc[imdb_workh['Name']=='Amy Seimetz'].groupby('MovieYear').mean()\n",
    "kate = imdb_workh.loc[imdb_workh['Name']=='Kate Bosworth'].groupby('MovieYear').mean()\n",
    "danielle = imdb_workh.loc[imdb_workh['Name']=='Danielle Harris'].groupby('MovieYear').mean()\n",
    "#Setting up infrastructure for the chart\n",
    "#Used to groupby and average out movie ratings from the same year\n",
    "x = np.linspace(0, 10, 1000)\n",
    "fig, ax = plt.subplots(figsize=(10, 4))\n",
    "ax.plot(amy.index.values, 'AvgRating', data=amy, label='Amy Seimetz')\n",
    "ax.plot(kate.index.values, 'AvgRating', data=kate, label='Kate Bosworth')\n",
    "ax.plot(danielle.index.values, 'AvgRating', data=danielle, label='Danielle Harris')\n",
    "ax.set_xlabel('Year')\n",
    "ax.set_ylabel('Movie Average Rating')\n",
    "ax.set_title('Horror Film Rating vs Year by Actress',fontsize=20)\n",
    "ax.legend(loc='lower right', title='Actress')\n",
    "plt.tight_layout()\n",
    "plt.savefig('./viz_images/' + 'Horror Film Rating vs Year by Actress', bbox_inches='tight')\n",
    "#Line chart for actress, recommend Amy, Kate, Danielle Harris"
   ]
  },
  {
   "cell_type": "code",
   "execution_count": null,
   "metadata": {},
   "outputs": [],
   "source": [
    "alper = imdb_workh.loc[imdb_workh['Name']=='Alper Mestçi'].groupby('MovieYear').mean()\n",
    "james = imdb_workh.loc[imdb_workh['Name']=='James Wan'].groupby('MovieYear').mean()\n",
    "mike = imdb_workh.loc[imdb_workh['Name']=='Mike Flanagan'].groupby('MovieYear').mean()\n",
    "takashi = imdb_workh.loc[imdb_workh['Name']=='Takashi Miike'].groupby('MovieYear').mean()\n",
    "#Setting up infrastructure for the chart\n",
    "#Used to groupby and average out movie ratings from the same year\n",
    "x = np.linspace(0, 10, 1000)\n",
    "fig, ax = plt.subplots(figsize=(10, 4))\n",
    "ax.plot(alper.index.values, 'AvgRating', data=alper, label='Alper Mestci')\n",
    "ax.plot(james.index.values, 'AvgRating', data=james, label='James Wan')\n",
    "ax.plot(mike.index.values, 'AvgRating', data=mike, label='Mike Flanagan') \n",
    "ax.set_xlabel('Year')\n",
    "ax.set_ylabel('Movie Average Rating')\n",
    "ax.set_title('Horror Film Rating vs Year by Director',fontsize=20)\n",
    "plt.tight_layout()\n",
    "ax.legend(loc='lower right', title='Directors')\n",
    "plt.savefig('./viz_images/' + 'Horror Film Rating vs Year by Director', bbox_inches='tight')\n",
    "#Line chart for Actors recommend Alper, James, Mike"
   ]
  },
  {
   "cell_type": "code",
   "execution_count": null,
   "metadata": {
    "scrolled": true
   },
   "outputs": [],
   "source": [
    "imdb_workwork = imdb_workh.loc[imdb_workh['Name'].str.contains('Joe Swanberg')]\n",
    "imdb_workwork\n",
    "#Testing code, should have just used workwork instead of the one below"
   ]
  },
  {
   "cell_type": "code",
   "execution_count": null,
   "metadata": {
    "scrolled": false
   },
   "outputs": [],
   "source": [
    "imdb_work.loc[imdb_work['Genre'].str.contains('Horror')].groupby('Genre')['AvgRating'].mean().mean()\n",
    "#Good to know th emean average of horror movies"
   ]
  },
  {
   "cell_type": "code",
   "execution_count": null,
   "metadata": {},
   "outputs": [],
   "source": [
    "imdb_workh.loc[imdb_workh['Name'] == 'Alper Mestçi']\n",
    "#checking the titles to use as information source on who they are"
   ]
  }
 ],
 "metadata": {
  "kernelspec": {
   "display_name": "Python (learn-env)",
   "language": "python",
   "name": "learn-env"
  },
  "language_info": {
   "codemirror_mode": {
    "name": "ipython",
    "version": 3
   },
   "file_extension": ".py",
   "mimetype": "text/x-python",
   "name": "python",
   "nbconvert_exporter": "python",
   "pygments_lexer": "ipython3",
   "version": "3.8.5"
  }
 },
 "nbformat": 4,
 "nbformat_minor": 2
}
