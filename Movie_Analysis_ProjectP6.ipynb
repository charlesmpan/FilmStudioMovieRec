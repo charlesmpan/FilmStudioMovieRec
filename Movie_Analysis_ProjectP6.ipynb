{
 "cells": [
  {
   "cell_type": "markdown",
   "metadata": {},
   "source": [
    "## Final Project Submission\n",
    "\n",
    "Please fill out:\n",
    "* Student name: Abdulrahman Aber, Benjamin Bai, Charles Pan, Kevin Rivera\n",
    "* Student pace: Full Time\n",
    "* Scheduled project review date/time: \n",
    "* Instructor name: David Elliott\n",
    "* Blog post URL:\n"
   ]
  },
  {
   "cell_type": "markdown",
   "metadata": {},
   "source": [
    "# Imports, Data Frame Initializations"
   ]
  },
  {
   "cell_type": "code",
   "execution_count": 1,
   "metadata": {},
   "outputs": [
    {
     "name": "stdout",
     "output_type": "stream",
     "text": [
      "File Name                                             Modified             Size\n",
      "im.db                                          2021-12-20 16:31:38    169443328\n",
      "Extracting all the files now...\n",
      "Done!\n"
     ]
    }
   ],
   "source": [
    "from zipfile import ZipFile\n",
    "# specifying the zip file name\n",
    "file_name = \"./zippedData/im.db.zip\"\n",
    "# opening the zip file in READ mode\n",
    "with ZipFile(file_name, 'r') as zip:\n",
    "    # printing all the contents of the zip file\n",
    "    zip.printdir()\n",
    "    # extracting all the files\n",
    "    print('Extracting all the files now...')\n",
    "    zip.extractall()\n",
    "    print('Done!')"
   ]
  },
  {
   "cell_type": "code",
   "execution_count": 2,
   "metadata": {
    "scrolled": true
   },
   "outputs": [],
   "source": [
    "import pandas as pd\n",
    "import matplotlib.pyplot as plt\n",
    "import numpy as np\n",
    "import sqlite3 as sq\n",
    "import seaborn as sns\n",
    "import statistics as st\n",
    "import datetime\n",
    "conn = sq.connect('./im.db')\n",
    "cur = conn.cursor()"
   ]
  },
  {
   "cell_type": "code",
   "execution_count": 3,
   "metadata": {},
   "outputs": [
    {
     "data": {
      "text/html": [
       "<div>\n",
       "<style scoped>\n",
       "    .dataframe tbody tr th:only-of-type {\n",
       "        vertical-align: middle;\n",
       "    }\n",
       "\n",
       "    .dataframe tbody tr th {\n",
       "        vertical-align: top;\n",
       "    }\n",
       "\n",
       "    .dataframe thead th {\n",
       "        text-align: right;\n",
       "    }\n",
       "</style>\n",
       "<table border=\"1\" class=\"dataframe\">\n",
       "  <thead>\n",
       "    <tr style=\"text-align: right;\">\n",
       "      <th></th>\n",
       "      <th>type</th>\n",
       "      <th>name</th>\n",
       "      <th>tbl_name</th>\n",
       "      <th>rootpage</th>\n",
       "      <th>sql</th>\n",
       "    </tr>\n",
       "  </thead>\n",
       "  <tbody>\n",
       "    <tr>\n",
       "      <th>0</th>\n",
       "      <td>table</td>\n",
       "      <td>movie_basics</td>\n",
       "      <td>movie_basics</td>\n",
       "      <td>2</td>\n",
       "      <td>CREATE TABLE \"movie_basics\" (\\n\"movie_id\" TEXT...</td>\n",
       "    </tr>\n",
       "    <tr>\n",
       "      <th>1</th>\n",
       "      <td>table</td>\n",
       "      <td>directors</td>\n",
       "      <td>directors</td>\n",
       "      <td>3</td>\n",
       "      <td>CREATE TABLE \"directors\" (\\n\"movie_id\" TEXT,\\n...</td>\n",
       "    </tr>\n",
       "    <tr>\n",
       "      <th>2</th>\n",
       "      <td>table</td>\n",
       "      <td>known_for</td>\n",
       "      <td>known_for</td>\n",
       "      <td>4</td>\n",
       "      <td>CREATE TABLE \"known_for\" (\\n\"person_id\" TEXT,\\...</td>\n",
       "    </tr>\n",
       "    <tr>\n",
       "      <th>3</th>\n",
       "      <td>table</td>\n",
       "      <td>movie_akas</td>\n",
       "      <td>movie_akas</td>\n",
       "      <td>5</td>\n",
       "      <td>CREATE TABLE \"movie_akas\" (\\n\"movie_id\" TEXT,\\...</td>\n",
       "    </tr>\n",
       "    <tr>\n",
       "      <th>4</th>\n",
       "      <td>table</td>\n",
       "      <td>movie_ratings</td>\n",
       "      <td>movie_ratings</td>\n",
       "      <td>6</td>\n",
       "      <td>CREATE TABLE \"movie_ratings\" (\\n\"movie_id\" TEX...</td>\n",
       "    </tr>\n",
       "    <tr>\n",
       "      <th>5</th>\n",
       "      <td>table</td>\n",
       "      <td>persons</td>\n",
       "      <td>persons</td>\n",
       "      <td>7</td>\n",
       "      <td>CREATE TABLE \"persons\" (\\n\"person_id\" TEXT,\\n ...</td>\n",
       "    </tr>\n",
       "    <tr>\n",
       "      <th>6</th>\n",
       "      <td>table</td>\n",
       "      <td>principals</td>\n",
       "      <td>principals</td>\n",
       "      <td>8</td>\n",
       "      <td>CREATE TABLE \"principals\" (\\n\"movie_id\" TEXT,\\...</td>\n",
       "    </tr>\n",
       "    <tr>\n",
       "      <th>7</th>\n",
       "      <td>table</td>\n",
       "      <td>writers</td>\n",
       "      <td>writers</td>\n",
       "      <td>9</td>\n",
       "      <td>CREATE TABLE \"writers\" (\\n\"movie_id\" TEXT,\\n  ...</td>\n",
       "    </tr>\n",
       "  </tbody>\n",
       "</table>\n",
       "</div>"
      ],
      "text/plain": [
       "    type           name       tbl_name  rootpage  \\\n",
       "0  table   movie_basics   movie_basics         2   \n",
       "1  table      directors      directors         3   \n",
       "2  table      known_for      known_for         4   \n",
       "3  table     movie_akas     movie_akas         5   \n",
       "4  table  movie_ratings  movie_ratings         6   \n",
       "5  table        persons        persons         7   \n",
       "6  table     principals     principals         8   \n",
       "7  table        writers        writers         9   \n",
       "\n",
       "                                                 sql  \n",
       "0  CREATE TABLE \"movie_basics\" (\\n\"movie_id\" TEXT...  \n",
       "1  CREATE TABLE \"directors\" (\\n\"movie_id\" TEXT,\\n...  \n",
       "2  CREATE TABLE \"known_for\" (\\n\"person_id\" TEXT,\\...  \n",
       "3  CREATE TABLE \"movie_akas\" (\\n\"movie_id\" TEXT,\\...  \n",
       "4  CREATE TABLE \"movie_ratings\" (\\n\"movie_id\" TEX...  \n",
       "5  CREATE TABLE \"persons\" (\\n\"person_id\" TEXT,\\n ...  \n",
       "6  CREATE TABLE \"principals\" (\\n\"movie_id\" TEXT,\\...  \n",
       "7  CREATE TABLE \"writers\" (\\n\"movie_id\" TEXT,\\n  ...  "
      ]
     },
     "execution_count": 3,
     "metadata": {},
     "output_type": "execute_result"
    }
   ],
   "source": [
    "imdb_schema = pd.read_sql('''SELECT * FROM sqlite_master''',conn)\n",
    "imdb_schema"
   ]
  },
  {
   "cell_type": "code",
   "execution_count": 4,
   "metadata": {
    "scrolled": true
   },
   "outputs": [],
   "source": [
    "movie_basics_df = pd.read_sql('''select * from movie_basics''', conn)"
   ]
  },
  {
   "cell_type": "code",
   "execution_count": 5,
   "metadata": {},
   "outputs": [],
   "source": [
    "movie_ratings_df = pd.read_sql(\"\"\"select * from movie_ratings\"\"\",conn)"
   ]
  },
  {
   "cell_type": "code",
   "execution_count": 6,
   "metadata": {},
   "outputs": [],
   "source": [
    "persons_df = pd.read_sql(\"\"\"select * from persons\"\"\",conn)"
   ]
  },
  {
   "cell_type": "code",
   "execution_count": 7,
   "metadata": {},
   "outputs": [],
   "source": [
    "principals_df = pd.read_sql(\"\"\"select * from principals\"\"\",conn)"
   ]
  },
  {
   "cell_type": "code",
   "execution_count": 8,
   "metadata": {},
   "outputs": [],
   "source": [
    "tmdb_movies_df = pd.read_csv('./zippedData/tmdb.movies.csv.gz')"
   ]
  },
  {
   "cell_type": "code",
   "execution_count": 9,
   "metadata": {
    "scrolled": true
   },
   "outputs": [],
   "source": [
    "tn_movie_budgets_df = pd.read_csv('./zippedData/tn.movie_budgets.csv.gz',\n",
    "                                 parse_dates=['release_date'])"
   ]
  },
  {
   "cell_type": "code",
   "execution_count": 10,
   "metadata": {
    "scrolled": true
   },
   "outputs": [
    {
     "name": "stdout",
     "output_type": "stream",
     "text": [
      "<class 'pandas.core.frame.DataFrame'>\n",
      "RangeIndex: 5782 entries, 0 to 5781\n",
      "Data columns (total 6 columns):\n",
      " #   Column             Non-Null Count  Dtype         \n",
      "---  ------             --------------  -----         \n",
      " 0   id                 5782 non-null   int64         \n",
      " 1   release_date       5782 non-null   datetime64[ns]\n",
      " 2   movie              5782 non-null   object        \n",
      " 3   production_budget  5782 non-null   object        \n",
      " 4   domestic_gross     5782 non-null   object        \n",
      " 5   worldwide_gross    5782 non-null   object        \n",
      "dtypes: datetime64[ns](1), int64(1), object(4)\n",
      "memory usage: 271.2+ KB\n"
     ]
    }
   ],
   "source": [
    "tn_movie_budgets_df.info()"
   ]
  },
  {
   "cell_type": "markdown",
   "metadata": {},
   "source": [
    "tn_movie_budgets_df.info() shows us that this dataframe will be used to derive net_return and ROI as a percentage, specifically production_budget and worldwide_gross. We believe net_return and ROI% are the key metrics for an executive team weighing different investment options. "
   ]
  },
  {
   "cell_type": "markdown",
   "metadata": {},
   "source": [
    "# TN Movie Budgets Clean Up Process (Genres Analysis)"
   ]
  },
  {
   "cell_type": "code",
   "execution_count": 11,
   "metadata": {
    "scrolled": true
   },
   "outputs": [],
   "source": [
    "# Remove $ from production_budget, convert to float\n",
    "tn_movie_budgets_df['production_budget'] = tn_movie_budgets_df['production_budget'].str.replace(',', '').str.replace('$', '').astype(float)\n",
    "\n",
    "# Remove $ from domestic_gross, convert to float\n",
    "tn_movie_budgets_df['domestic_gross'] = tn_movie_budgets_df['domestic_gross'].str.replace(',', '').str.replace('$', '').astype(float)\n",
    "\n",
    "# Remove $ from worldwide_gross, convert to float\n",
    "tn_movie_budgets_df['worldwide_gross'] = tn_movie_budgets_df['worldwide_gross'].str.replace(',', '').str.replace('$', '').astype(float)\n",
    "\n",
    "# new column release_year from release_date to filter based on time frame in scope\n",
    "tn_movie_budgets_df['release_year'] = pd.DatetimeIndex(tn_movie_budgets_df['release_date']).year\n",
    "\n",
    "# time frame: 2010-Present; SAG definition of theatrical budget: > 2 million\n",
    "tn_movie_budgets_df = tn_movie_budgets_df[(tn_movie_budgets_df.release_year >= 2010) & (tn_movie_budgets_df.production_budget > 1999999)]"
   ]
  },
  {
   "cell_type": "markdown",
   "metadata": {},
   "source": [
    "# Recommendation 1: Genres Analysis\n",
    "TN Movie Budgets merge with IMDB Movie Basics to compare net return and ROI percent"
   ]
  },
  {
   "cell_type": "code",
   "execution_count": 12,
   "metadata": {},
   "outputs": [],
   "source": [
    "# rename movie_basics column to match tn_movie_budgets\n",
    "movie_basics_df.rename(columns={\"primary_title\":\"movie\"}, inplace = True)\n",
    "\n",
    "# merge movie_budgets and imdb movie_basics\n",
    "moviebudgets_moviebasics_df = tn_movie_budgets_df.merge(movie_basics_df, how='inner', on='movie')\n",
    "\n",
    "# drop columns that are not relevant to Genre analysis\n",
    "moviebudgets_moviebasics_df.drop(columns = ['id', 'movie_id', 'original_title', 'runtime_minutes', 'domestic_gross' ],axis=1,inplace=True)\n",
    "\n",
    "# remove duplicate movies\n",
    "moviebudgets_moviebasics_df.drop_duplicates(subset='movie', keep='last', inplace=True, ignore_index=False)\n",
    "\n",
    "# add column for net_return\n",
    "moviebudgets_moviebasics_df['net_return'] = (moviebudgets_moviebasics_df['worldwide_gross'] - moviebudgets_moviebasics_df['production_budget'])\n",
    "\n",
    "# add column for ROI as a %\n",
    "moviebudgets_moviebasics_df['roi_percent'] = ((moviebudgets_moviebasics_df['net_return'] / moviebudgets_moviebasics_df['production_budget'])*100)"
   ]
  },
  {
   "cell_type": "code",
   "execution_count": 13,
   "metadata": {
    "scrolled": true
   },
   "outputs": [
    {
     "name": "stdout",
     "output_type": "stream",
     "text": [
      "<class 'pandas.core.frame.DataFrame'>\n",
      "Int64Index: 1530 entries, 0 to 2215\n",
      "Data columns (total 9 columns):\n",
      " #   Column             Non-Null Count  Dtype         \n",
      "---  ------             --------------  -----         \n",
      " 0   release_date       1530 non-null   datetime64[ns]\n",
      " 1   movie              1530 non-null   object        \n",
      " 2   production_budget  1530 non-null   float64       \n",
      " 3   worldwide_gross    1530 non-null   float64       \n",
      " 4   release_year       1530 non-null   int64         \n",
      " 5   start_year         1530 non-null   int64         \n",
      " 6   genres             1520 non-null   object        \n",
      " 7   net_return         1530 non-null   float64       \n",
      " 8   roi_percent        1530 non-null   float64       \n",
      "dtypes: datetime64[ns](1), float64(4), int64(2), object(2)\n",
      "memory usage: 119.5+ KB\n"
     ]
    }
   ],
   "source": [
    "moviebudgets_moviebasics_df.info()"
   ]
  },
  {
   "cell_type": "markdown",
   "metadata": {},
   "source": [
    "Our sample size is 3733 Unique Films since 2010 to perform Genres Analysis on and after the cleanup process, we now have all the data we need to compare net_return and ROI percent across these films to best inform our recommendation for the executive team at Microsoft"
   ]
  },
  {
   "cell_type": "markdown",
   "metadata": {},
   "source": [
    "# Recommendation 1: Visualizations"
   ]
  },
  {
   "cell_type": "code",
   "execution_count": 14,
   "metadata": {},
   "outputs": [],
   "source": [
    "# genres to list \n",
    "moviebudgets_moviebasics_df['genres'] = moviebudgets_moviebasics_df['genres'].str.split(\",\")\n",
    "# explode out rows for movies with multiple genres for visualization purposes\n",
    "moviebudgets_moviebasics_df = moviebudgets_moviebasics_df.explode('genres')\n",
    "# means grouped by genre\n",
    "moviebudgets_moviebasics_mean_df = moviebudgets_moviebasics_df.groupby(['genres']).mean().reset_index()"
   ]
  },
  {
   "cell_type": "code",
   "execution_count": 15,
   "metadata": {},
   "outputs": [],
   "source": [
    "# visualization 1: initialize relevant dataframes and lists for x/y values\n",
    "netreturn_vis = moviebudgets_moviebasics_df.dropna()\n",
    "\n",
    "n_list = list(moviebudgets_moviebasics_df['genres'].value_counts().head(10).keys())\n",
    "\n",
    "netreturn_vis = netreturn_vis[netreturn_vis['genres'].isin(n_list)]"
   ]
  },
  {
   "cell_type": "code",
   "execution_count": 16,
   "metadata": {},
   "outputs": [
    {
     "data": {
      "image/png": "[encoded data removed]",
      "text/plain": [
       "<Figure size 1152x576 with 1 Axes>"
      ]
     },
     "metadata": {},
     "output_type": "display_data"
    }
   ],
   "source": [
    "# visualization 1: net return bar plot\n",
    "\n",
    "# seaborn style\n",
    "sns.set(style='whitegrid')\n",
    "\n",
    "# initialize matlab plot\n",
    "fig, ax = plt.subplots(figsize=(16, 8))\n",
    "\n",
    "# define df, x and y values\n",
    "roi_vis = moviebudgets_moviebasics_mean_df.sort_values(by='net_return', ascending=False).head(10)\n",
    "x_values = list(roi_vis['genres'])\n",
    "y_values = list(roi_vis['net_return'])\n",
    "\n",
    "net_return_vis = moviebudgets_moviebasics_mean_df.sort_values(by='net_return', ascending=False).head(10)\n",
    "\n",
    "sns.barplot(x=x_values, y=y_values, data=roi_vis, palette='muted')\n",
    "ax.set_title('Genre vs Avg. Net Return', fontsize = 20, pad=24)\n",
    "plt.xlabel('Genre', fontsize = 18, labelpad=18)\n",
    "plt.ylabel('Net Return (Hundreds of Millions)', fontsize = 18, labelpad=18)\n",
    "plt.xticks(fontsize=12)\n",
    "plt.yticks(fontsize=12)\n",
    "plt.savefig('./viz_images/' + 'net_return_visualization.png', bbox_inches='tight')"
   ]
  },
  {
   "cell_type": "markdown",
   "metadata": {},
   "source": [
    "# Visualization 1 - Net Return Observations\n",
    "This chart shows that the top 3 earning genres of film in terms of Net Return (Worldwide Gross - Production Budget) are Animation, Sci-Fi, and Musical/Adventure.\n",
    "\n",
    "In addition, all of the top 20 Adventure films in terms of net return are sequels or have since produced sequels (Frozen, Zootopia) of existing, and already widely popular intellectual property (Marvel, James Bond, Jumanji, etc.). This informs our recommendation in that it suggests that the average return for a standalone adventure film is significantly less than what the average suggests. \n",
    "\n",
    "Since acquiring highly popular IP or producing sequels to existing IP is a difficult hurdle for a brand new studio to overcome, we do not recommend that the proposed Microsoft Film Studios produce an Action/Adventure blockbuster type of film as one of its first ventures into the industry."
   ]
  },
  {
   "cell_type": "code",
   "execution_count": 17,
   "metadata": {},
   "outputs": [
    {
     "data": {
      "text/html": [
       "<div>\n",
       "<style scoped>\n",
       "    .dataframe tbody tr th:only-of-type {\n",
       "        vertical-align: middle;\n",
       "    }\n",
       "\n",
       "    .dataframe tbody tr th {\n",
       "        vertical-align: top;\n",
       "    }\n",
       "\n",
       "    .dataframe thead th {\n",
       "        text-align: right;\n",
       "    }\n",
       "</style>\n",
       "<table border=\"1\" class=\"dataframe\">\n",
       "  <thead>\n",
       "    <tr style=\"text-align: right;\">\n",
       "      <th></th>\n",
       "      <th>release_date</th>\n",
       "      <th>movie</th>\n",
       "      <th>production_budget</th>\n",
       "      <th>worldwide_gross</th>\n",
       "      <th>release_year</th>\n",
       "      <th>start_year</th>\n",
       "      <th>genres</th>\n",
       "      <th>net_return</th>\n",
       "      <th>roi_percent</th>\n",
       "    </tr>\n",
       "  </thead>\n",
       "  <tbody>\n",
       "    <tr>\n",
       "      <th>3</th>\n",
       "      <td>2018-04-27</td>\n",
       "      <td>Avengers: Infinity War</td>\n",
       "      <td>300000000.0</td>\n",
       "      <td>2.048134e+09</td>\n",
       "      <td>2018</td>\n",
       "      <td>2018</td>\n",
       "      <td>Adventure</td>\n",
       "      <td>1.748134e+09</td>\n",
       "      <td>582.711400</td>\n",
       "    </tr>\n",
       "    <tr>\n",
       "      <th>23</th>\n",
       "      <td>2015-06-12</td>\n",
       "      <td>Jurassic World</td>\n",
       "      <td>215000000.0</td>\n",
       "      <td>1.648855e+09</td>\n",
       "      <td>2015</td>\n",
       "      <td>2015</td>\n",
       "      <td>Adventure</td>\n",
       "      <td>1.433855e+09</td>\n",
       "      <td>666.909239</td>\n",
       "    </tr>\n",
       "    <tr>\n",
       "      <th>18</th>\n",
       "      <td>2012-05-04</td>\n",
       "      <td>The Avengers</td>\n",
       "      <td>225000000.0</td>\n",
       "      <td>1.517936e+09</td>\n",
       "      <td>2012</td>\n",
       "      <td>2012</td>\n",
       "      <td>Adventure</td>\n",
       "      <td>1.292936e+09</td>\n",
       "      <td>574.638176</td>\n",
       "    </tr>\n",
       "    <tr>\n",
       "      <th>36</th>\n",
       "      <td>2018-02-16</td>\n",
       "      <td>Black Panther</td>\n",
       "      <td>200000000.0</td>\n",
       "      <td>1.348258e+09</td>\n",
       "      <td>2018</td>\n",
       "      <td>2018</td>\n",
       "      <td>Adventure</td>\n",
       "      <td>1.148258e+09</td>\n",
       "      <td>574.129112</td>\n",
       "    </tr>\n",
       "    <tr>\n",
       "      <th>99</th>\n",
       "      <td>2018-06-22</td>\n",
       "      <td>Jurassic World: Fallen Kingdom</td>\n",
       "      <td>170000000.0</td>\n",
       "      <td>1.305773e+09</td>\n",
       "      <td>2018</td>\n",
       "      <td>2018</td>\n",
       "      <td>Adventure</td>\n",
       "      <td>1.135773e+09</td>\n",
       "      <td>668.101646</td>\n",
       "    </tr>\n",
       "    <tr>\n",
       "      <th>137</th>\n",
       "      <td>2013-11-22</td>\n",
       "      <td>Frozen</td>\n",
       "      <td>150000000.0</td>\n",
       "      <td>1.272470e+09</td>\n",
       "      <td>2013</td>\n",
       "      <td>2013</td>\n",
       "      <td>Adventure</td>\n",
       "      <td>1.122470e+09</td>\n",
       "      <td>748.313273</td>\n",
       "    </tr>\n",
       "    <tr>\n",
       "      <th>396</th>\n",
       "      <td>2015-07-10</td>\n",
       "      <td>Minions</td>\n",
       "      <td>74000000.0</td>\n",
       "      <td>1.160336e+09</td>\n",
       "      <td>2015</td>\n",
       "      <td>2015</td>\n",
       "      <td>Adventure</td>\n",
       "      <td>1.086336e+09</td>\n",
       "      <td>1468.021855</td>\n",
       "    </tr>\n",
       "    <tr>\n",
       "      <th>2</th>\n",
       "      <td>2015-05-01</td>\n",
       "      <td>Avengers: Age of Ultron</td>\n",
       "      <td>330600000.0</td>\n",
       "      <td>1.403014e+09</td>\n",
       "      <td>2015</td>\n",
       "      <td>2015</td>\n",
       "      <td>Adventure</td>\n",
       "      <td>1.072414e+09</td>\n",
       "      <td>324.384139</td>\n",
       "    </tr>\n",
       "    <tr>\n",
       "      <th>37</th>\n",
       "      <td>2018-06-15</td>\n",
       "      <td>Incredibles 2</td>\n",
       "      <td>200000000.0</td>\n",
       "      <td>1.242521e+09</td>\n",
       "      <td>2018</td>\n",
       "      <td>2018</td>\n",
       "      <td>Adventure</td>\n",
       "      <td>1.042521e+09</td>\n",
       "      <td>521.260356</td>\n",
       "    </tr>\n",
       "    <tr>\n",
       "      <th>41</th>\n",
       "      <td>2013-05-03</td>\n",
       "      <td>Iron Man 3</td>\n",
       "      <td>200000000.0</td>\n",
       "      <td>1.215392e+09</td>\n",
       "      <td>2013</td>\n",
       "      <td>2013</td>\n",
       "      <td>Adventure</td>\n",
       "      <td>1.015392e+09</td>\n",
       "      <td>507.696136</td>\n",
       "    </tr>\n",
       "    <tr>\n",
       "      <th>121</th>\n",
       "      <td>2018-12-21</td>\n",
       "      <td>Aquaman</td>\n",
       "      <td>160000000.0</td>\n",
       "      <td>1.146895e+09</td>\n",
       "      <td>2018</td>\n",
       "      <td>2018</td>\n",
       "      <td>Adventure</td>\n",
       "      <td>9.868946e+08</td>\n",
       "      <td>616.809150</td>\n",
       "    </tr>\n",
       "    <tr>\n",
       "      <th>382</th>\n",
       "      <td>2017-06-30</td>\n",
       "      <td>Despicable Me 3</td>\n",
       "      <td>75000000.0</td>\n",
       "      <td>1.034728e+09</td>\n",
       "      <td>2017</td>\n",
       "      <td>2017</td>\n",
       "      <td>Adventure</td>\n",
       "      <td>9.597278e+08</td>\n",
       "      <td>1279.637000</td>\n",
       "    </tr>\n",
       "    <tr>\n",
       "      <th>80</th>\n",
       "      <td>2019-03-08</td>\n",
       "      <td>Captain Marvel</td>\n",
       "      <td>175000000.0</td>\n",
       "      <td>1.123062e+09</td>\n",
       "      <td>2019</td>\n",
       "      <td>2019</td>\n",
       "      <td>Adventure</td>\n",
       "      <td>9.480616e+08</td>\n",
       "      <td>541.749457</td>\n",
       "    </tr>\n",
       "    <tr>\n",
       "      <th>53</th>\n",
       "      <td>2011-06-29</td>\n",
       "      <td>Transformers: Dark of the Moon</td>\n",
       "      <td>195000000.0</td>\n",
       "      <td>1.123791e+09</td>\n",
       "      <td>2011</td>\n",
       "      <td>2011</td>\n",
       "      <td>Adventure</td>\n",
       "      <td>9.287905e+08</td>\n",
       "      <td>476.302843</td>\n",
       "    </tr>\n",
       "    <tr>\n",
       "      <th>45</th>\n",
       "      <td>2012-11-08</td>\n",
       "      <td>Skyfall</td>\n",
       "      <td>200000000.0</td>\n",
       "      <td>1.110527e+09</td>\n",
       "      <td>2012</td>\n",
       "      <td>2012</td>\n",
       "      <td>Adventure</td>\n",
       "      <td>9.105270e+08</td>\n",
       "      <td>455.263490</td>\n",
       "    </tr>\n",
       "    <tr>\n",
       "      <th>379</th>\n",
       "      <td>2013-07-03</td>\n",
       "      <td>Despicable Me 2</td>\n",
       "      <td>76000000.0</td>\n",
       "      <td>9.752168e+08</td>\n",
       "      <td>2013</td>\n",
       "      <td>2013</td>\n",
       "      <td>Adventure</td>\n",
       "      <td>8.992168e+08</td>\n",
       "      <td>1183.180046</td>\n",
       "    </tr>\n",
       "    <tr>\n",
       "      <th>25</th>\n",
       "      <td>2014-06-27</td>\n",
       "      <td>Transformers: Age of Extinction</td>\n",
       "      <td>210000000.0</td>\n",
       "      <td>1.104039e+09</td>\n",
       "      <td>2014</td>\n",
       "      <td>2014</td>\n",
       "      <td>Adventure</td>\n",
       "      <td>8.940391e+08</td>\n",
       "      <td>425.732893</td>\n",
       "    </tr>\n",
       "    <tr>\n",
       "      <th>11</th>\n",
       "      <td>2016-05-06</td>\n",
       "      <td>Captain America: Civil War</td>\n",
       "      <td>250000000.0</td>\n",
       "      <td>1.140069e+09</td>\n",
       "      <td>2016</td>\n",
       "      <td>2016</td>\n",
       "      <td>Adventure</td>\n",
       "      <td>8.900694e+08</td>\n",
       "      <td>356.027765</td>\n",
       "    </tr>\n",
       "    <tr>\n",
       "      <th>314</th>\n",
       "      <td>2017-12-20</td>\n",
       "      <td>Jumanji: Welcome to the Jungle</td>\n",
       "      <td>90000000.0</td>\n",
       "      <td>9.644962e+08</td>\n",
       "      <td>2017</td>\n",
       "      <td>2017</td>\n",
       "      <td>Adventure</td>\n",
       "      <td>8.744962e+08</td>\n",
       "      <td>971.662437</td>\n",
       "    </tr>\n",
       "    <tr>\n",
       "      <th>138</th>\n",
       "      <td>2016-03-04</td>\n",
       "      <td>Zootopia</td>\n",
       "      <td>150000000.0</td>\n",
       "      <td>1.019430e+09</td>\n",
       "      <td>2016</td>\n",
       "      <td>2016</td>\n",
       "      <td>Adventure</td>\n",
       "      <td>8.694296e+08</td>\n",
       "      <td>579.619744</td>\n",
       "    </tr>\n",
       "  </tbody>\n",
       "</table>\n",
       "</div>"
      ],
      "text/plain": [
       "    release_date                            movie  production_budget  \\\n",
       "3     2018-04-27           Avengers: Infinity War        300000000.0   \n",
       "23    2015-06-12                   Jurassic World        215000000.0   \n",
       "18    2012-05-04                     The Avengers        225000000.0   \n",
       "36    2018-02-16                    Black Panther        200000000.0   \n",
       "99    2018-06-22   Jurassic World: Fallen Kingdom        170000000.0   \n",
       "137   2013-11-22                           Frozen        150000000.0   \n",
       "396   2015-07-10                          Minions         74000000.0   \n",
       "2     2015-05-01          Avengers: Age of Ultron        330600000.0   \n",
       "37    2018-06-15                    Incredibles 2        200000000.0   \n",
       "41    2013-05-03                       Iron Man 3        200000000.0   \n",
       "121   2018-12-21                          Aquaman        160000000.0   \n",
       "382   2017-06-30                  Despicable Me 3         75000000.0   \n",
       "80    2019-03-08                   Captain Marvel        175000000.0   \n",
       "53    2011-06-29   Transformers: Dark of the Moon        195000000.0   \n",
       "45    2012-11-08                          Skyfall        200000000.0   \n",
       "379   2013-07-03                  Despicable Me 2         76000000.0   \n",
       "25    2014-06-27  Transformers: Age of Extinction        210000000.0   \n",
       "11    2016-05-06       Captain America: Civil War        250000000.0   \n",
       "314   2017-12-20   Jumanji: Welcome to the Jungle         90000000.0   \n",
       "138   2016-03-04                         Zootopia        150000000.0   \n",
       "\n",
       "     worldwide_gross  release_year  start_year     genres    net_return  \\\n",
       "3       2.048134e+09          2018        2018  Adventure  1.748134e+09   \n",
       "23      1.648855e+09          2015        2015  Adventure  1.433855e+09   \n",
       "18      1.517936e+09          2012        2012  Adventure  1.292936e+09   \n",
       "36      1.348258e+09          2018        2018  Adventure  1.148258e+09   \n",
       "99      1.305773e+09          2018        2018  Adventure  1.135773e+09   \n",
       "137     1.272470e+09          2013        2013  Adventure  1.122470e+09   \n",
       "396     1.160336e+09          2015        2015  Adventure  1.086336e+09   \n",
       "2       1.403014e+09          2015        2015  Adventure  1.072414e+09   \n",
       "37      1.242521e+09          2018        2018  Adventure  1.042521e+09   \n",
       "41      1.215392e+09          2013        2013  Adventure  1.015392e+09   \n",
       "121     1.146895e+09          2018        2018  Adventure  9.868946e+08   \n",
       "382     1.034728e+09          2017        2017  Adventure  9.597278e+08   \n",
       "80      1.123062e+09          2019        2019  Adventure  9.480616e+08   \n",
       "53      1.123791e+09          2011        2011  Adventure  9.287905e+08   \n",
       "45      1.110527e+09          2012        2012  Adventure  9.105270e+08   \n",
       "379     9.752168e+08          2013        2013  Adventure  8.992168e+08   \n",
       "25      1.104039e+09          2014        2014  Adventure  8.940391e+08   \n",
       "11      1.140069e+09          2016        2016  Adventure  8.900694e+08   \n",
       "314     9.644962e+08          2017        2017  Adventure  8.744962e+08   \n",
       "138     1.019430e+09          2016        2016  Adventure  8.694296e+08   \n",
       "\n",
       "     roi_percent  \n",
       "3     582.711400  \n",
       "23    666.909239  \n",
       "18    574.638176  \n",
       "36    574.129112  \n",
       "99    668.101646  \n",
       "137   748.313273  \n",
       "396  1468.021855  \n",
       "2     324.384139  \n",
       "37    521.260356  \n",
       "41    507.696136  \n",
       "121   616.809150  \n",
       "382  1279.637000  \n",
       "80    541.749457  \n",
       "53    476.302843  \n",
       "45    455.263490  \n",
       "379  1183.180046  \n",
       "25    425.732893  \n",
       "11    356.027765  \n",
       "314   971.662437  \n",
       "138   579.619744  "
      ]
     },
     "execution_count": 17,
     "metadata": {},
     "output_type": "execute_result"
    }
   ],
   "source": [
    "moviebudgets_moviebasics_df[moviebudgets_moviebasics_df['genres'] == 'Adventure'].sort_values(by='net_return', ascending=False).head(20)"
   ]
  },
  {
   "cell_type": "code",
   "execution_count": 18,
   "metadata": {
    "scrolled": false
   },
   "outputs": [
    {
     "data": {
      "image/png": "[encoded data removed]",
      "text/plain": [
       "<Figure size 1152x576 with 1 Axes>"
      ]
     },
     "metadata": {},
     "output_type": "display_data"
    }
   ],
   "source": [
    "# visualization 2: ROI% bar plot\n",
    "\n",
    "# seaborn style\n",
    "sns.set(style='whitegrid')\n",
    "\n",
    "# initialize matlab plot\n",
    "fig, ax = plt.subplots(figsize=(16, 8))\n",
    "\n",
    "# define df, x and y values\n",
    "roi_vis = moviebudgets_moviebasics_mean_df.sort_values(by='roi_percent', ascending=False).head(10)\n",
    "x_values = list(roi_vis['genres'])\n",
    "y_values = list(roi_vis['roi_percent'])\n",
    "\n",
    "# plot\n",
    "sns.barplot(x=x_values, y=y_values,  data=roi_vis, palette='muted')\n",
    "ax.set_title('Genre vs Avg. ROI', fontsize = 20, pad=24)\n",
    "plt.xlabel('Film Genre', fontsize = 18, labelpad=18)\n",
    "plt.ylabel('ROI %',  fontsize = 18, labelpad=18)\n",
    "plt.xticks(fontsize=14)\n",
    "plt.yticks(fontsize=14)\n",
    "plt.savefig('./viz_images/' + 'roi_percent_visualization.png', bbox_inches='tight')"
   ]
  },
  {
   "cell_type": "markdown",
   "metadata": {},
   "source": [
    "# Visualization 2 - Net Return Observations\n",
    "Figure 2 shows that the genres with the highest ROI% are Mystery, Horror, and Thriller films with Mystery/Horror films returning 400% of the initial investment on average. \n",
    "\n",
    "This suggests that the production budgets for horror films on average are on the lower end of the spectrum, and offer studios the best bang for their buck. As such, our recommendation is that Microsoft Studios start out by producing Horror movies with relatively lower production budgets as a way to manage risk and maximize ROI%."
   ]
  },
  {
   "cell_type": "code",
   "execution_count": 19,
   "metadata": {},
   "outputs": [
    {
     "data": {
      "text/html": [
       "<div>\n",
       "<style scoped>\n",
       "    .dataframe tbody tr th:only-of-type {\n",
       "        vertical-align: middle;\n",
       "    }\n",
       "\n",
       "    .dataframe tbody tr th {\n",
       "        vertical-align: top;\n",
       "    }\n",
       "\n",
       "    .dataframe thead th {\n",
       "        text-align: right;\n",
       "    }\n",
       "</style>\n",
       "<table border=\"1\" class=\"dataframe\">\n",
       "  <thead>\n",
       "    <tr style=\"text-align: right;\">\n",
       "      <th></th>\n",
       "      <th>release_date</th>\n",
       "      <th>movie</th>\n",
       "      <th>production_budget</th>\n",
       "      <th>worldwide_gross</th>\n",
       "      <th>release_year</th>\n",
       "      <th>start_year</th>\n",
       "      <th>genres</th>\n",
       "      <th>net_return</th>\n",
       "      <th>roi_percent</th>\n",
       "    </tr>\n",
       "  </thead>\n",
       "  <tbody>\n",
       "    <tr>\n",
       "      <th>770</th>\n",
       "      <td>2017-09-08</td>\n",
       "      <td>It</td>\n",
       "      <td>35000000.0</td>\n",
       "      <td>697457969.0</td>\n",
       "      <td>2017</td>\n",
       "      <td>2017</td>\n",
       "      <td>Horror</td>\n",
       "      <td>662457969.0</td>\n",
       "      <td>1892.737054</td>\n",
       "    </tr>\n",
       "    <tr>\n",
       "      <th>95</th>\n",
       "      <td>2017-11-22</td>\n",
       "      <td>Coco</td>\n",
       "      <td>175000000.0</td>\n",
       "      <td>798008101.0</td>\n",
       "      <td>2017</td>\n",
       "      <td>2017</td>\n",
       "      <td>Horror</td>\n",
       "      <td>623008101.0</td>\n",
       "      <td>356.004629</td>\n",
       "    </tr>\n",
       "    <tr>\n",
       "      <th>168</th>\n",
       "      <td>2015-12-25</td>\n",
       "      <td>The Revenant</td>\n",
       "      <td>135000000.0</td>\n",
       "      <td>532938302.0</td>\n",
       "      <td>2015</td>\n",
       "      <td>2012</td>\n",
       "      <td>Horror</td>\n",
       "      <td>397938302.0</td>\n",
       "      <td>294.769113</td>\n",
       "    </tr>\n",
       "    <tr>\n",
       "      <th>78</th>\n",
       "      <td>2018-08-10</td>\n",
       "      <td>The Meg</td>\n",
       "      <td>178000000.0</td>\n",
       "      <td>529530715.0</td>\n",
       "      <td>2018</td>\n",
       "      <td>2018</td>\n",
       "      <td>Horror</td>\n",
       "      <td>351530715.0</td>\n",
       "      <td>197.489166</td>\n",
       "    </tr>\n",
       "    <tr>\n",
       "      <th>58</th>\n",
       "      <td>2013-06-21</td>\n",
       "      <td>World War Z</td>\n",
       "      <td>190000000.0</td>\n",
       "      <td>531514650.0</td>\n",
       "      <td>2013</td>\n",
       "      <td>2013</td>\n",
       "      <td>Horror</td>\n",
       "      <td>341514650.0</td>\n",
       "      <td>179.744553</td>\n",
       "    </tr>\n",
       "    <tr>\n",
       "      <th>1310</th>\n",
       "      <td>2018-04-06</td>\n",
       "      <td>A Quiet Place</td>\n",
       "      <td>17000000.0</td>\n",
       "      <td>334522294.0</td>\n",
       "      <td>2018</td>\n",
       "      <td>2018</td>\n",
       "      <td>Horror</td>\n",
       "      <td>317522294.0</td>\n",
       "      <td>1867.778200</td>\n",
       "    </tr>\n",
       "    <tr>\n",
       "      <th>1152</th>\n",
       "      <td>2013-07-19</td>\n",
       "      <td>The Conjuring</td>\n",
       "      <td>20000000.0</td>\n",
       "      <td>318000141.0</td>\n",
       "      <td>2013</td>\n",
       "      <td>2013</td>\n",
       "      <td>Horror</td>\n",
       "      <td>298000141.0</td>\n",
       "      <td>1490.000705</td>\n",
       "    </tr>\n",
       "    <tr>\n",
       "      <th>1355</th>\n",
       "      <td>2017-08-11</td>\n",
       "      <td>Annabelle: Creation</td>\n",
       "      <td>15000000.0</td>\n",
       "      <td>305384865.0</td>\n",
       "      <td>2017</td>\n",
       "      <td>2017</td>\n",
       "      <td>Horror</td>\n",
       "      <td>290384865.0</td>\n",
       "      <td>1935.899100</td>\n",
       "    </tr>\n",
       "    <tr>\n",
       "      <th>700</th>\n",
       "      <td>2017-01-27</td>\n",
       "      <td>Resident Evil: The Final Chapter</td>\n",
       "      <td>40000000.0</td>\n",
       "      <td>314101190.0</td>\n",
       "      <td>2017</td>\n",
       "      <td>2016</td>\n",
       "      <td>Horror</td>\n",
       "      <td>274101190.0</td>\n",
       "      <td>685.252975</td>\n",
       "    </tr>\n",
       "    <tr>\n",
       "      <th>385</th>\n",
       "      <td>2013-05-31</td>\n",
       "      <td>Now You See Me</td>\n",
       "      <td>75000000.0</td>\n",
       "      <td>342769200.0</td>\n",
       "      <td>2013</td>\n",
       "      <td>2012</td>\n",
       "      <td>Horror</td>\n",
       "      <td>267769200.0</td>\n",
       "      <td>357.025600</td>\n",
       "    </tr>\n",
       "    <tr>\n",
       "      <th>1848</th>\n",
       "      <td>2017-02-24</td>\n",
       "      <td>Get Out</td>\n",
       "      <td>5000000.0</td>\n",
       "      <td>255367951.0</td>\n",
       "      <td>2017</td>\n",
       "      <td>2017</td>\n",
       "      <td>Horror</td>\n",
       "      <td>250367951.0</td>\n",
       "      <td>5007.359020</td>\n",
       "    </tr>\n",
       "    <tr>\n",
       "      <th>1807</th>\n",
       "      <td>2014-10-03</td>\n",
       "      <td>Annabelle</td>\n",
       "      <td>6500000.0</td>\n",
       "      <td>256862920.0</td>\n",
       "      <td>2014</td>\n",
       "      <td>2014</td>\n",
       "      <td>Horror</td>\n",
       "      <td>250362920.0</td>\n",
       "      <td>3851.737231</td>\n",
       "    </tr>\n",
       "    <tr>\n",
       "      <th>1578</th>\n",
       "      <td>2018-10-19</td>\n",
       "      <td>Halloween</td>\n",
       "      <td>10000000.0</td>\n",
       "      <td>254900667.0</td>\n",
       "      <td>2018</td>\n",
       "      <td>2018</td>\n",
       "      <td>Horror</td>\n",
       "      <td>244900667.0</td>\n",
       "      <td>2449.006670</td>\n",
       "    </tr>\n",
       "    <tr>\n",
       "      <th>503</th>\n",
       "      <td>2010-09-10</td>\n",
       "      <td>Resident Evil: Afterlife</td>\n",
       "      <td>57500000.0</td>\n",
       "      <td>295874190.0</td>\n",
       "      <td>2010</td>\n",
       "      <td>2010</td>\n",
       "      <td>Horror</td>\n",
       "      <td>238374190.0</td>\n",
       "      <td>414.563809</td>\n",
       "    </tr>\n",
       "    <tr>\n",
       "      <th>1150</th>\n",
       "      <td>2019-03-22</td>\n",
       "      <td>Us</td>\n",
       "      <td>20000000.0</td>\n",
       "      <td>254210310.0</td>\n",
       "      <td>2019</td>\n",
       "      <td>2019</td>\n",
       "      <td>Horror</td>\n",
       "      <td>234210310.0</td>\n",
       "      <td>1171.051550</td>\n",
       "    </tr>\n",
       "    <tr>\n",
       "      <th>1855</th>\n",
       "      <td>2011-10-21</td>\n",
       "      <td>Paranormal Activity 3</td>\n",
       "      <td>5000000.0</td>\n",
       "      <td>207039844.0</td>\n",
       "      <td>2011</td>\n",
       "      <td>2011</td>\n",
       "      <td>Horror</td>\n",
       "      <td>202039844.0</td>\n",
       "      <td>4040.796880</td>\n",
       "    </tr>\n",
       "    <tr>\n",
       "      <th>439</th>\n",
       "      <td>2012-09-14</td>\n",
       "      <td>Resident Evil: Retribution</td>\n",
       "      <td>65000000.0</td>\n",
       "      <td>240647629.0</td>\n",
       "      <td>2012</td>\n",
       "      <td>2012</td>\n",
       "      <td>Horror</td>\n",
       "      <td>175647629.0</td>\n",
       "      <td>270.227122</td>\n",
       "    </tr>\n",
       "    <tr>\n",
       "      <th>2051</th>\n",
       "      <td>2010-10-20</td>\n",
       "      <td>Paranormal Activity 2</td>\n",
       "      <td>3000000.0</td>\n",
       "      <td>177512032.0</td>\n",
       "      <td>2010</td>\n",
       "      <td>2010</td>\n",
       "      <td>Horror</td>\n",
       "      <td>174512032.0</td>\n",
       "      <td>5817.067733</td>\n",
       "    </tr>\n",
       "    <tr>\n",
       "      <th>553</th>\n",
       "      <td>2013-01-25</td>\n",
       "      <td>Hansel &amp; Gretel: Witch Hunters</td>\n",
       "      <td>50000000.0</td>\n",
       "      <td>214949716.0</td>\n",
       "      <td>2013</td>\n",
       "      <td>2013</td>\n",
       "      <td>Horror</td>\n",
       "      <td>164949716.0</td>\n",
       "      <td>329.899432</td>\n",
       "    </tr>\n",
       "    <tr>\n",
       "      <th>1582</th>\n",
       "      <td>2018-01-05</td>\n",
       "      <td>Insidious: The Last Key</td>\n",
       "      <td>10000000.0</td>\n",
       "      <td>167885588.0</td>\n",
       "      <td>2018</td>\n",
       "      <td>2018</td>\n",
       "      <td>Horror</td>\n",
       "      <td>157885588.0</td>\n",
       "      <td>1578.855880</td>\n",
       "    </tr>\n",
       "  </tbody>\n",
       "</table>\n",
       "</div>"
      ],
      "text/plain": [
       "     release_date                             movie  production_budget  \\\n",
       "770    2017-09-08                                It         35000000.0   \n",
       "95     2017-11-22                              Coco        175000000.0   \n",
       "168    2015-12-25                      The Revenant        135000000.0   \n",
       "78     2018-08-10                           The Meg        178000000.0   \n",
       "58     2013-06-21                       World War Z        190000000.0   \n",
       "1310   2018-04-06                     A Quiet Place         17000000.0   \n",
       "1152   2013-07-19                     The Conjuring         20000000.0   \n",
       "1355   2017-08-11               Annabelle: Creation         15000000.0   \n",
       "700    2017-01-27  Resident Evil: The Final Chapter         40000000.0   \n",
       "385    2013-05-31                    Now You See Me         75000000.0   \n",
       "1848   2017-02-24                           Get Out          5000000.0   \n",
       "1807   2014-10-03                         Annabelle          6500000.0   \n",
       "1578   2018-10-19                         Halloween         10000000.0   \n",
       "503    2010-09-10          Resident Evil: Afterlife         57500000.0   \n",
       "1150   2019-03-22                                Us         20000000.0   \n",
       "1855   2011-10-21             Paranormal Activity 3          5000000.0   \n",
       "439    2012-09-14        Resident Evil: Retribution         65000000.0   \n",
       "2051   2010-10-20             Paranormal Activity 2          3000000.0   \n",
       "553    2013-01-25    Hansel & Gretel: Witch Hunters         50000000.0   \n",
       "1582   2018-01-05           Insidious: The Last Key         10000000.0   \n",
       "\n",
       "      worldwide_gross  release_year  start_year  genres   net_return  \\\n",
       "770       697457969.0          2017        2017  Horror  662457969.0   \n",
       "95        798008101.0          2017        2017  Horror  623008101.0   \n",
       "168       532938302.0          2015        2012  Horror  397938302.0   \n",
       "78        529530715.0          2018        2018  Horror  351530715.0   \n",
       "58        531514650.0          2013        2013  Horror  341514650.0   \n",
       "1310      334522294.0          2018        2018  Horror  317522294.0   \n",
       "1152      318000141.0          2013        2013  Horror  298000141.0   \n",
       "1355      305384865.0          2017        2017  Horror  290384865.0   \n",
       "700       314101190.0          2017        2016  Horror  274101190.0   \n",
       "385       342769200.0          2013        2012  Horror  267769200.0   \n",
       "1848      255367951.0          2017        2017  Horror  250367951.0   \n",
       "1807      256862920.0          2014        2014  Horror  250362920.0   \n",
       "1578      254900667.0          2018        2018  Horror  244900667.0   \n",
       "503       295874190.0          2010        2010  Horror  238374190.0   \n",
       "1150      254210310.0          2019        2019  Horror  234210310.0   \n",
       "1855      207039844.0          2011        2011  Horror  202039844.0   \n",
       "439       240647629.0          2012        2012  Horror  175647629.0   \n",
       "2051      177512032.0          2010        2010  Horror  174512032.0   \n",
       "553       214949716.0          2013        2013  Horror  164949716.0   \n",
       "1582      167885588.0          2018        2018  Horror  157885588.0   \n",
       "\n",
       "      roi_percent  \n",
       "770   1892.737054  \n",
       "95     356.004629  \n",
       "168    294.769113  \n",
       "78     197.489166  \n",
       "58     179.744553  \n",
       "1310  1867.778200  \n",
       "1152  1490.000705  \n",
       "1355  1935.899100  \n",
       "700    685.252975  \n",
       "385    357.025600  \n",
       "1848  5007.359020  \n",
       "1807  3851.737231  \n",
       "1578  2449.006670  \n",
       "503    414.563809  \n",
       "1150  1171.051550  \n",
       "1855  4040.796880  \n",
       "439    270.227122  \n",
       "2051  5817.067733  \n",
       "553    329.899432  \n",
       "1582  1578.855880  "
      ]
     },
     "execution_count": 19,
     "metadata": {},
     "output_type": "execute_result"
    }
   ],
   "source": [
    "moviebudgets_moviebasics_df[moviebudgets_moviebasics_df['genres'] == 'Horror'].sort_values(by='net_return', ascending=False).head(20)"
   ]
  },
  {
   "cell_type": "markdown",
   "metadata": {},
   "source": [
    "# TN Movie Budgets Clean Up Process (Release Date Analysis)"
   ]
  },
  {
   "cell_type": "code",
   "execution_count": 20,
   "metadata": {},
   "outputs": [],
   "source": [
    "\n",
    "tn_movies = pd.read_csv('./zippedData/tn.movie_budgets.csv.gz')\n",
    "                                \n",
    "#Get rid of punctuation on worldwide_gross column\n",
    "tn_movies['worldwide_gross'] = tn_movies['worldwide_gross'].replace('[\\$,]', '', regex=True)\n",
    "\n",
    "#Get rid of punctuation on domestic_gross column\n",
    "tn_movies['domestic_gross'] = tn_movies['domestic_gross'].replace('[\\$,]', '', regex=True)\n",
    "\n",
    "#Get rid of punctuation on production_budget column\n",
    "tn_movies['production_budget'] = tn_movies['production_budget'].replace('[\\$,]', '', regex=True)\n",
    "\n",
    "#change worldwide_gross column to float\n",
    "tn_movies['worldwide_gross'] = tn_movies['worldwide_gross'].astype(float)\n",
    "\n",
    "#change domestic_gross column to int\n",
    "tn_movies['domestic_gross'] = tn_movies['domestic_gross'].astype(int)\n",
    "\n",
    "#change production_budget column to int\n",
    "tn_movies['production_budget']=tn_movies['production_budget'].astype(int)"
   ]
  },
  {
   "cell_type": "code",
   "execution_count": 21,
   "metadata": {
    "scrolled": false
   },
   "outputs": [
    {
     "name": "stdout",
     "output_type": "stream",
     "text": [
      "<class 'pandas.core.frame.DataFrame'>\n",
      "RangeIndex: 5782 entries, 0 to 5781\n",
      "Data columns (total 6 columns):\n",
      " #   Column             Non-Null Count  Dtype  \n",
      "---  ------             --------------  -----  \n",
      " 0   id                 5782 non-null   int64  \n",
      " 1   release_date       5782 non-null   object \n",
      " 2   movie              5782 non-null   object \n",
      " 3   production_budget  5782 non-null   int32  \n",
      " 4   domestic_gross     5782 non-null   int32  \n",
      " 5   worldwide_gross    5782 non-null   float64\n",
      "dtypes: float64(1), int32(2), int64(1), object(2)\n",
      "memory usage: 226.0+ KB\n"
     ]
    }
   ],
   "source": [
    "tn_movies.info()"
   ]
  },
  {
   "cell_type": "markdown",
   "metadata": {},
   "source": [
    "As shown above, all of the fields are now the correct data type."
   ]
  },
  {
   "cell_type": "markdown",
   "metadata": {},
   "source": [
    "# Recommendation 2: Release Month Analysis"
   ]
  },
  {
   "cell_type": "markdown",
   "metadata": {},
   "source": [
    "With this recommendation we decided to use the return on investment(ROI) percentage to see if there was a trend in getting more ROI from releasing a movie in a certain month.\n",
    "The process that was used to get this percentage was taking the worldwide gross column minus production budget to get net income, then dividing net income by production budget to end up with an ROI percentage"
   ]
  },
  {
   "cell_type": "code",
   "execution_count": 22,
   "metadata": {},
   "outputs": [],
   "source": [
    "#create a net_income column by taking domestic_gross and subtracting production budget\n",
    "tn_movies[\"net_return\"]=tn_movies['worldwide_gross']-tn_movies['production_budget']\n",
    "\n",
    "#create a cost_revenue_ratio by taking net income and dividing it by production budget\n",
    "tn_movies[\"ROI\"]=((tn_movies['net_return'])/(tn_movies['production_budget']))*100\n",
    "\n",
    "#change all cost_rev values into int \n",
    "tn_movies[\"ROI\"] =tn_movies[\"ROI\"].astype(int)\n",
    "\n",
    "#change release_date column into datetime format\n",
    "tn_movies[\"release_date\"] = pd.to_datetime(tn_movies[\"release_date\"])\n",
    "\n",
    "#create a month and year column\n",
    "tn_movies['year'] = pd.DatetimeIndex(tn_movies['release_date']).year\n",
    "tn_movies['month'] = pd.DatetimeIndex(tn_movies['release_date']).month\n",
    "\n",
    "# time frame: 2010-Present & SAG definition of theatrical budget: > 2 million\n",
    "tn_movies_2010 = tn_movies[(tn_movies['production_budget'] > 1999999) & (tn_movies['year'] >= 2010)]"
   ]
  },
  {
   "cell_type": "code",
   "execution_count": 23,
   "metadata": {
    "scrolled": true
   },
   "outputs": [
    {
     "name": "stdout",
     "output_type": "stream",
     "text": [
      "<class 'pandas.core.frame.DataFrame'>\n",
      "Int64Index: 1851 entries, 1 to 5000\n",
      "Data columns (total 10 columns):\n",
      " #   Column             Non-Null Count  Dtype         \n",
      "---  ------             --------------  -----         \n",
      " 0   id                 1851 non-null   int64         \n",
      " 1   release_date       1851 non-null   datetime64[ns]\n",
      " 2   movie              1851 non-null   object        \n",
      " 3   production_budget  1851 non-null   int32         \n",
      " 4   domestic_gross     1851 non-null   int32         \n",
      " 5   worldwide_gross    1851 non-null   float64       \n",
      " 6   net_return         1851 non-null   float64       \n",
      " 7   ROI                1851 non-null   int32         \n",
      " 8   year               1851 non-null   int64         \n",
      " 9   month              1851 non-null   int64         \n",
      "dtypes: datetime64[ns](1), float64(2), int32(3), int64(3), object(1)\n",
      "memory usage: 137.4+ KB\n"
     ]
    }
   ],
   "source": [
    "tn_movies_2010.info()"
   ]
  },
  {
   "cell_type": "markdown",
   "metadata": {},
   "source": [
    "Our sample size is 1851 unique films released since 2010 that also has a production budget of $2 million or more (SAG definition of a theatrical movie). Net Return and ROI were added to allow for meaningful comparison among the films"
   ]
  },
  {
   "cell_type": "markdown",
   "metadata": {},
   "source": [
    "# Recommendation 2: Month Release Visualization"
   ]
  },
  {
   "cell_type": "code",
   "execution_count": 24,
   "metadata": {},
   "outputs": [],
   "source": [
    "#created a list with all the Cost_Rev_Ratios in tn_movies_2010\n",
    "ROI = [x for x in tn_movies_2010[\"ROI\"]] \n",
    "#created a list of all the month value associated with each cost_rev_ratio\n",
    "Month = [x for x in tn_movies_2010['month']]\n",
    "#mapped both list into a master list as tuples\n",
    "ROI_Month = list(map(lambda *x: x, Month, ROI))\n",
    "#created a function that would take in associated number and append a new list of Cost_Rev_Ratio based on associated month value\n",
    "#get the mean of the list by associated month  \n",
    "def month_mean(num):\n",
    "    x = []\n",
    "    for index, tuple in enumerate(ROI_Month):\n",
    "        element_one = tuple[0]\n",
    "        element_two = tuple[1]\n",
    "        if element_one == num:\n",
    "            x.append(element_two)\n",
    "    return(st.mean(x))\n",
    "#created a function that would take in associated number and append a new list of Cost_Rev_Ratio based on associated month value\n",
    "#get the median of the list by associated month \n",
    "def month_median(num):\n",
    "    x = []\n",
    "    for index, tuple in enumerate(ROI_Month):\n",
    "        element_one = tuple[0]\n",
    "        element_two = tuple[1]\n",
    "        if element_one == num:\n",
    "            x.append(element_two)\n",
    "    return(st.median(x))"
   ]
  },
  {
   "cell_type": "code",
   "execution_count": 25,
   "metadata": {},
   "outputs": [],
   "source": [
    "#created dictionary to map month_index to month_list\n",
    "month_index = [1,2,3,4,5,6,7,8,9,10,11,12]\n",
    "month_list = ['Jan','Feb','Mar','Apr','May','June','July','Aug','Sept','Oct','Nov','Dec']\n",
    "mapped_months = dict(map(lambda *x: x, month_index, month_list))"
   ]
  },
  {
   "cell_type": "code",
   "execution_count": 26,
   "metadata": {},
   "outputs": [],
   "source": [
    "#made two list using functions above of all medians per month and means per month \n",
    "by_month_mean_list = []\n",
    "by_month_median_list = []\n",
    "for num in mapped_months.keys():\n",
    "    by_month_mean_list.append(month_mean(num))\n",
    "    by_month_median_list.append(month_median(num))"
   ]
  },
  {
   "cell_type": "code",
   "execution_count": 27,
   "metadata": {},
   "outputs": [],
   "source": [
    "#created two dictionaries that mapped values of the two list above to associated month \n",
    "month_mean = dict(map(lambda *x: x, month_list, by_month_mean_list))\n",
    "month_median = dict(map(lambda *x: x, month_list, by_month_median_list))"
   ]
  },
  {
   "cell_type": "code",
   "execution_count": 28,
   "metadata": {
    "scrolled": true
   },
   "outputs": [
    {
     "data": {
      "text/plain": [
       "{'Jan': 242.28571428571428,\n",
       " 'Feb': 215.30714285714285,\n",
       " 'Mar': 151.95209580838323,\n",
       " 'Apr': 156.03947368421052,\n",
       " 'May': 211.47058823529412,\n",
       " 'June': 234.1631205673759,\n",
       " 'July': 288.6136363636364,\n",
       " 'Aug': 194.85034013605443,\n",
       " 'Sept': 159.99397590361446,\n",
       " 'Oct': 270.6309523809524,\n",
       " 'Nov': 233.86335403726707,\n",
       " 'Dec': 136.70697674418605}"
      ]
     },
     "execution_count": 28,
     "metadata": {},
     "output_type": "execute_result"
    }
   ],
   "source": [
    "month_mean"
   ]
  },
  {
   "cell_type": "code",
   "execution_count": 29,
   "metadata": {
    "scrolled": true
   },
   "outputs": [
    {
     "data": {
      "text/plain": [
       "{'Jan': 76.0,\n",
       " 'Feb': 98.5,\n",
       " 'Mar': 77,\n",
       " 'Apr': 66.0,\n",
       " 'May': 127.0,\n",
       " 'June': 103,\n",
       " 'July': 167.5,\n",
       " 'Aug': 94,\n",
       " 'Sept': 67.0,\n",
       " 'Oct': 50.0,\n",
       " 'Nov': 125,\n",
       " 'Dec': 72}"
      ]
     },
     "execution_count": 29,
     "metadata": {},
     "output_type": "execute_result"
    }
   ],
   "source": [
    "month_median"
   ]
  },
  {
   "cell_type": "markdown",
   "metadata": {},
   "source": [
    "The medians are lower than the averages, which shows a positive skew of the data. This makes sense as the average returns are likely to be pulled upward by the top earning films that outearn the average film by several magnitudes.\n",
    "\n",
    "July has the highest average and also the highest median, suggesting that it is likely to be the most optimal month for releasing a movie."
   ]
  },
  {
   "cell_type": "code",
   "execution_count": 30,
   "metadata": {},
   "outputs": [
    {
     "data": {
      "image/png": "[encoded data removed]",
      "text/plain": [
       "<Figure size 432x288 with 1 Axes>"
      ]
     },
     "metadata": {},
     "output_type": "display_data"
    }
   ],
   "source": [
    "df = pd.DataFrame({'Month': Month,\n",
    "                   'ROI': ROI,})\n",
    "#set seaborn plotting aesthetics\n",
    "sns.set(style='white')\n",
    "\n",
    "\n",
    "ax = sns.barplot(x='Month', y='ROI',  data=df)\n",
    "sns.set(rc={'figure.figsize':(11.7,8.27)})\n",
    "ax.set_ylabel('ROI percentage',fontsize = 16)\n",
    "ax.set_xlabel('Month',fontsize = 16)\n",
    "ax.set_title('ROI by Month of Entire Cleaned Data',fontsize = 20)\n",
    "ax.set_xticklabels(month_list)\n",
    "plt.savefig('./viz_images/' + 'fulldata_ROI_month.png', bbox_inches='tight');"
   ]
  },
  {
   "cell_type": "markdown",
   "metadata": {},
   "source": [
    "This chart supports our assumption that July would be the best month to release a movie as even when adjusting for outliers, July still leads all months by ROI percentage."
   ]
  },
  {
   "cell_type": "code",
   "execution_count": 31,
   "metadata": {
    "scrolled": false
   },
   "outputs": [
    {
     "data": {
      "image/png": "[encoded data removed]",
      "text/plain": [
       "<Figure size 842.4x595.44 with 1 Axes>"
      ]
     },
     "metadata": {},
     "output_type": "display_data"
    }
   ],
   "source": [
    "df2 = pd.DataFrame({'Month': month_median.keys(),\n",
    "                   'ROI': month_median.values(),})\n",
    "#set seaborn plotting aesthetics\n",
    "sns.set(style='white')\n",
    "\n",
    "#create grouped bar chart\n",
    "ax = sns.barplot(x='Month', y='ROI',  data=df2, color='blue')\n",
    "sns.set(rc={'figure.figsize':(11.7,8.27)})\n",
    "ax.set_ylabel('ROI percentage',fontsize = 16)\n",
    "ax.set_xlabel('Month',fontsize = 16)\n",
    "ax.set_title('ROI Median by Month',fontsize = 20)\n",
    "plt.savefig('ROI_median_by_month.png', bbox_inches='tight');"
   ]
  },
  {
   "cell_type": "code",
   "execution_count": 32,
   "metadata": {
    "scrolled": false
   },
   "outputs": [
    {
     "data": {
      "image/png": "[encoded data removed]",
      "text/plain": [
       "<Figure size 842.4x595.44 with 1 Axes>"
      ]
     },
     "metadata": {},
     "output_type": "display_data"
    }
   ],
   "source": [
    "df1 = pd.DataFrame({'Month': month_mean.keys(),\n",
    "                   'ROI': month_mean.values(),})\n",
    "#set seaborn plotting aesthetics\n",
    "sns.set(style='white')\n",
    "\n",
    "#create grouped bar chart\n",
    "ax = sns.barplot(x='Month', y='ROI',  data=df1,color='red')\n",
    "sns.set(rc={'figure.figsize':(11.7,8.27)})\n",
    "ax.set_ylabel('ROI percentage',fontsize = 16)\n",
    "ax.set_xlabel('Month',fontsize = 16)\n",
    "ax.set_title('ROI Mean by Month',fontsize = 20)\n",
    "plt.savefig('./viz_images/' + 'ROI_mean_by_month.png', bbox_inches='tight');"
   ]
  },
  {
   "cell_type": "code",
   "execution_count": 33,
   "metadata": {},
   "outputs": [
    {
     "data": {
      "image/png": "[encoded data removed]",
      "text/plain": [
       "<Figure size 842.4x595.44 with 1 Axes>"
      ]
     },
     "metadata": {},
     "output_type": "display_data"
    }
   ],
   "source": [
    "ax = pd.concat({\n",
    "    'Mean': df1.set_index('Month'), 'Median': df2.set_index('Month'),\n",
    "}, axis=1).plot.bar()\n",
    "ax.set_ylabel('ROI percentage',fontsize = 16)\n",
    "ax.set_xlabel('Month',fontsize = 16)\n",
    "ax.set_title('ROI by Month',fontsize = 20)\n",
    "plt.legend(labels=[\"Mean\",\"Median\"], fontsize = 14)\n",
    "plt.savefig('./viz_images/' + 'ROI_combo_by_month', bbox_inches='tight');"
   ]
  },
  {
   "cell_type": "markdown",
   "metadata": {},
   "source": [
    "# Recommendation 2: Analysis outcome "
   ]
  },
  {
   "cell_type": "markdown",
   "metadata": {},
   "source": [
    "Based on the different visualization trends we came to the conclusion that the best month of release would be July."
   ]
  },
  {
   "cell_type": "markdown",
   "metadata": {},
   "source": [
    "# IMDB Clean Up Process (Charles)"
   ]
  },
  {
   "cell_type": "code",
   "execution_count": 34,
   "metadata": {},
   "outputs": [],
   "source": [
    "imdb_schema = pd.read_sql('''SELECT * FROM sqlite_master''',conn)"
   ]
  },
  {
   "cell_type": "code",
   "execution_count": 35,
   "metadata": {},
   "outputs": [],
   "source": [
    "writers_df = pd.read_sql('''select * from writers''', conn)\n",
    "#writers kind of irrelevant for the question"
   ]
  },
  {
   "cell_type": "code",
   "execution_count": 36,
   "metadata": {
    "scrolled": true
   },
   "outputs": [
    {
     "name": "stdout",
     "output_type": "stream",
     "text": [
      "<class 'pandas.core.frame.DataFrame'>\n",
      "RangeIndex: 255873 entries, 0 to 255872\n",
      "Data columns (total 2 columns):\n",
      " #   Column     Non-Null Count   Dtype \n",
      "---  ------     --------------   ----- \n",
      " 0   movie_id   255873 non-null  object\n",
      " 1   person_id  255873 non-null  object\n",
      "dtypes: object(2)\n",
      "memory usage: 3.9+ MB\n"
     ]
    }
   ],
   "source": [
    "writers_df.info()"
   ]
  },
  {
   "cell_type": "code",
   "execution_count": 37,
   "metadata": {
    "scrolled": true
   },
   "outputs": [],
   "source": [
    "principals_df = pd.read_sql('''select * from principals''', conn)\n",
    "#useful for actor/actresses,, probably drop characters, job since job = none but category has actor"
   ]
  },
  {
   "cell_type": "code",
   "execution_count": 38,
   "metadata": {},
   "outputs": [
    {
     "data": {
      "text/plain": [
       "nm1930572    378\n",
       "nm0000636    160\n",
       "nm0000616    148\n",
       "nm0103977    126\n",
       "nm4394575    103\n",
       "            ... \n",
       "nm7465274      1\n",
       "nm8684818      1\n",
       "nm0769541      1\n",
       "nm5293222      1\n",
       "nm1461190      1\n",
       "Name: person_id, Length: 604546, dtype: int64"
      ]
     },
     "execution_count": 38,
     "metadata": {},
     "output_type": "execute_result"
    }
   ],
   "source": [
    "principals_df['person_id'].value_counts()"
   ]
  },
  {
   "cell_type": "code",
   "execution_count": 39,
   "metadata": {},
   "outputs": [
    {
     "data": {
      "text/html": [
       "<div>\n",
       "<style scoped>\n",
       "    .dataframe tbody tr th:only-of-type {\n",
       "        vertical-align: middle;\n",
       "    }\n",
       "\n",
       "    .dataframe tbody tr th {\n",
       "        vertical-align: top;\n",
       "    }\n",
       "\n",
       "    .dataframe thead th {\n",
       "        text-align: right;\n",
       "    }\n",
       "</style>\n",
       "<table border=\"1\" class=\"dataframe\">\n",
       "  <thead>\n",
       "    <tr style=\"text-align: right;\">\n",
       "      <th></th>\n",
       "      <th>ordering</th>\n",
       "    </tr>\n",
       "  </thead>\n",
       "  <tbody>\n",
       "    <tr>\n",
       "      <th>count</th>\n",
       "      <td>1.028186e+06</td>\n",
       "    </tr>\n",
       "    <tr>\n",
       "      <th>mean</th>\n",
       "      <td>4.739847e+00</td>\n",
       "    </tr>\n",
       "    <tr>\n",
       "      <th>std</th>\n",
       "      <td>2.747446e+00</td>\n",
       "    </tr>\n",
       "    <tr>\n",
       "      <th>min</th>\n",
       "      <td>1.000000e+00</td>\n",
       "    </tr>\n",
       "    <tr>\n",
       "      <th>25%</th>\n",
       "      <td>2.000000e+00</td>\n",
       "    </tr>\n",
       "    <tr>\n",
       "      <th>50%</th>\n",
       "      <td>4.000000e+00</td>\n",
       "    </tr>\n",
       "    <tr>\n",
       "      <th>75%</th>\n",
       "      <td>7.000000e+00</td>\n",
       "    </tr>\n",
       "    <tr>\n",
       "      <th>max</th>\n",
       "      <td>1.000000e+01</td>\n",
       "    </tr>\n",
       "  </tbody>\n",
       "</table>\n",
       "</div>"
      ],
      "text/plain": [
       "           ordering\n",
       "count  1.028186e+06\n",
       "mean   4.739847e+00\n",
       "std    2.747446e+00\n",
       "min    1.000000e+00\n",
       "25%    2.000000e+00\n",
       "50%    4.000000e+00\n",
       "75%    7.000000e+00\n",
       "max    1.000000e+01"
      ]
     },
     "execution_count": 39,
     "metadata": {},
     "output_type": "execute_result"
    }
   ],
   "source": [
    "principals_df.describe()\n",
    "#useless"
   ]
  },
  {
   "cell_type": "code",
   "execution_count": 40,
   "metadata": {},
   "outputs": [
    {
     "name": "stdout",
     "output_type": "stream",
     "text": [
      "<class 'pandas.core.frame.DataFrame'>\n",
      "RangeIndex: 1028186 entries, 0 to 1028185\n",
      "Data columns (total 6 columns):\n",
      " #   Column      Non-Null Count    Dtype \n",
      "---  ------      --------------    ----- \n",
      " 0   movie_id    1028186 non-null  object\n",
      " 1   ordering    1028186 non-null  int64 \n",
      " 2   person_id   1028186 non-null  object\n",
      " 3   category    1028186 non-null  object\n",
      " 4   job         177684 non-null   object\n",
      " 5   characters  393360 non-null   object\n",
      "dtypes: int64(1), object(5)\n",
      "memory usage: 47.1+ MB\n"
     ]
    }
   ],
   "source": [
    "principals_df.info()\n",
    "#Probably filter out characters since we want actors/actresses"
   ]
  },
  {
   "cell_type": "code",
   "execution_count": 41,
   "metadata": {},
   "outputs": [
    {
     "data": {
      "text/html": [
       "<div>\n",
       "<style scoped>\n",
       "    .dataframe tbody tr th:only-of-type {\n",
       "        vertical-align: middle;\n",
       "    }\n",
       "\n",
       "    .dataframe tbody tr th {\n",
       "        vertical-align: top;\n",
       "    }\n",
       "\n",
       "    .dataframe thead th {\n",
       "        text-align: right;\n",
       "    }\n",
       "</style>\n",
       "<table border=\"1\" class=\"dataframe\">\n",
       "  <thead>\n",
       "    <tr style=\"text-align: right;\">\n",
       "      <th></th>\n",
       "      <th>movie_id</th>\n",
       "      <th>primary_title</th>\n",
       "      <th>original_title</th>\n",
       "      <th>start_year</th>\n",
       "      <th>runtime_minutes</th>\n",
       "      <th>genres</th>\n",
       "    </tr>\n",
       "  </thead>\n",
       "  <tbody>\n",
       "    <tr>\n",
       "      <th>0</th>\n",
       "      <td>tt0063540</td>\n",
       "      <td>Sunghursh</td>\n",
       "      <td>Sunghursh</td>\n",
       "      <td>2013</td>\n",
       "      <td>175.0</td>\n",
       "      <td>Action,Crime,Drama</td>\n",
       "    </tr>\n",
       "    <tr>\n",
       "      <th>1</th>\n",
       "      <td>tt0066787</td>\n",
       "      <td>One Day Before the Rainy Season</td>\n",
       "      <td>Ashad Ka Ek Din</td>\n",
       "      <td>2019</td>\n",
       "      <td>114.0</td>\n",
       "      <td>Biography,Drama</td>\n",
       "    </tr>\n",
       "    <tr>\n",
       "      <th>2</th>\n",
       "      <td>tt0069049</td>\n",
       "      <td>The Other Side of the Wind</td>\n",
       "      <td>The Other Side of the Wind</td>\n",
       "      <td>2018</td>\n",
       "      <td>122.0</td>\n",
       "      <td>Drama</td>\n",
       "    </tr>\n",
       "    <tr>\n",
       "      <th>3</th>\n",
       "      <td>tt0069204</td>\n",
       "      <td>Sabse Bada Sukh</td>\n",
       "      <td>Sabse Bada Sukh</td>\n",
       "      <td>2018</td>\n",
       "      <td>NaN</td>\n",
       "      <td>Comedy,Drama</td>\n",
       "    </tr>\n",
       "    <tr>\n",
       "      <th>4</th>\n",
       "      <td>tt0100275</td>\n",
       "      <td>The Wandering Soap Opera</td>\n",
       "      <td>La Telenovela Errante</td>\n",
       "      <td>2017</td>\n",
       "      <td>80.0</td>\n",
       "      <td>Comedy,Drama,Fantasy</td>\n",
       "    </tr>\n",
       "  </tbody>\n",
       "</table>\n",
       "</div>"
      ],
      "text/plain": [
       "    movie_id                    primary_title              original_title  \\\n",
       "0  tt0063540                        Sunghursh                   Sunghursh   \n",
       "1  tt0066787  One Day Before the Rainy Season             Ashad Ka Ek Din   \n",
       "2  tt0069049       The Other Side of the Wind  The Other Side of the Wind   \n",
       "3  tt0069204                  Sabse Bada Sukh             Sabse Bada Sukh   \n",
       "4  tt0100275         The Wandering Soap Opera       La Telenovela Errante   \n",
       "\n",
       "   start_year  runtime_minutes                genres  \n",
       "0        2013            175.0    Action,Crime,Drama  \n",
       "1        2019            114.0       Biography,Drama  \n",
       "2        2018            122.0                 Drama  \n",
       "3        2018              NaN          Comedy,Drama  \n",
       "4        2017             80.0  Comedy,Drama,Fantasy  "
      ]
     },
     "execution_count": 41,
     "metadata": {},
     "output_type": "execute_result"
    }
   ],
   "source": [
    "movie_basics_df = pd.read_sql('''select * from movie_basics''', conn)\n",
    "movie_basics_df.head()\n",
    "#Very useful, movie_Id common denominator"
   ]
  },
  {
   "cell_type": "code",
   "execution_count": 42,
   "metadata": {},
   "outputs": [
    {
     "name": "stdout",
     "output_type": "stream",
     "text": [
      "<class 'pandas.core.frame.DataFrame'>\n",
      "RangeIndex: 146144 entries, 0 to 146143\n",
      "Data columns (total 6 columns):\n",
      " #   Column           Non-Null Count   Dtype  \n",
      "---  ------           --------------   -----  \n",
      " 0   movie_id         146144 non-null  object \n",
      " 1   primary_title    146144 non-null  object \n",
      " 2   original_title   146123 non-null  object \n",
      " 3   start_year       146144 non-null  int64  \n",
      " 4   runtime_minutes  114405 non-null  float64\n",
      " 5   genres           140736 non-null  object \n",
      "dtypes: float64(1), int64(1), object(4)\n",
      "memory usage: 6.7+ MB\n"
     ]
    }
   ],
   "source": [
    "movie_basics_df.info()\n",
    "#Lots of nulls in RunTime_Minutes, quite a few in Genres and some in Original Title\n",
    "#Could probably drop original title while cleaning the data"
   ]
  },
  {
   "cell_type": "code",
   "execution_count": 43,
   "metadata": {},
   "outputs": [
    {
     "data": {
      "text/html": [
       "<div>\n",
       "<style scoped>\n",
       "    .dataframe tbody tr th:only-of-type {\n",
       "        vertical-align: middle;\n",
       "    }\n",
       "\n",
       "    .dataframe tbody tr th {\n",
       "        vertical-align: top;\n",
       "    }\n",
       "\n",
       "    .dataframe thead th {\n",
       "        text-align: right;\n",
       "    }\n",
       "</style>\n",
       "<table border=\"1\" class=\"dataframe\">\n",
       "  <thead>\n",
       "    <tr style=\"text-align: right;\">\n",
       "      <th></th>\n",
       "      <th>start_year</th>\n",
       "      <th>runtime_minutes</th>\n",
       "    </tr>\n",
       "  </thead>\n",
       "  <tbody>\n",
       "    <tr>\n",
       "      <th>count</th>\n",
       "      <td>146144.000000</td>\n",
       "      <td>114405.000000</td>\n",
       "    </tr>\n",
       "    <tr>\n",
       "      <th>mean</th>\n",
       "      <td>2014.621798</td>\n",
       "      <td>86.187247</td>\n",
       "    </tr>\n",
       "    <tr>\n",
       "      <th>std</th>\n",
       "      <td>2.733583</td>\n",
       "      <td>166.360590</td>\n",
       "    </tr>\n",
       "    <tr>\n",
       "      <th>min</th>\n",
       "      <td>2010.000000</td>\n",
       "      <td>1.000000</td>\n",
       "    </tr>\n",
       "    <tr>\n",
       "      <th>25%</th>\n",
       "      <td>2012.000000</td>\n",
       "      <td>70.000000</td>\n",
       "    </tr>\n",
       "    <tr>\n",
       "      <th>50%</th>\n",
       "      <td>2015.000000</td>\n",
       "      <td>87.000000</td>\n",
       "    </tr>\n",
       "    <tr>\n",
       "      <th>75%</th>\n",
       "      <td>2017.000000</td>\n",
       "      <td>99.000000</td>\n",
       "    </tr>\n",
       "    <tr>\n",
       "      <th>max</th>\n",
       "      <td>2115.000000</td>\n",
       "      <td>51420.000000</td>\n",
       "    </tr>\n",
       "  </tbody>\n",
       "</table>\n",
       "</div>"
      ],
      "text/plain": [
       "          start_year  runtime_minutes\n",
       "count  146144.000000    114405.000000\n",
       "mean     2014.621798        86.187247\n",
       "std         2.733583       166.360590\n",
       "min      2010.000000         1.000000\n",
       "25%      2012.000000        70.000000\n",
       "50%      2015.000000        87.000000\n",
       "75%      2017.000000        99.000000\n",
       "max      2115.000000     51420.000000"
      ]
     },
     "execution_count": 43,
     "metadata": {},
     "output_type": "execute_result"
    }
   ],
   "source": [
    "movie_basics_df.describe()\n",
    "#Max 2115? Probably have to put a max on the SQL query for it, same for runtime "
   ]
  },
  {
   "cell_type": "code",
   "execution_count": 44,
   "metadata": {},
   "outputs": [
    {
     "data": {
      "text/html": [
       "<div>\n",
       "<style scoped>\n",
       "    .dataframe tbody tr th:only-of-type {\n",
       "        vertical-align: middle;\n",
       "    }\n",
       "\n",
       "    .dataframe tbody tr th {\n",
       "        vertical-align: top;\n",
       "    }\n",
       "\n",
       "    .dataframe thead th {\n",
       "        text-align: right;\n",
       "    }\n",
       "</style>\n",
       "<table border=\"1\" class=\"dataframe\">\n",
       "  <thead>\n",
       "    <tr style=\"text-align: right;\">\n",
       "      <th></th>\n",
       "      <th>movie_id</th>\n",
       "      <th>person_id</th>\n",
       "    </tr>\n",
       "  </thead>\n",
       "  <tbody>\n",
       "    <tr>\n",
       "      <th>0</th>\n",
       "      <td>tt0285252</td>\n",
       "      <td>nm0899854</td>\n",
       "    </tr>\n",
       "    <tr>\n",
       "      <th>1</th>\n",
       "      <td>tt0462036</td>\n",
       "      <td>nm1940585</td>\n",
       "    </tr>\n",
       "    <tr>\n",
       "      <th>2</th>\n",
       "      <td>tt0835418</td>\n",
       "      <td>nm0151540</td>\n",
       "    </tr>\n",
       "    <tr>\n",
       "      <th>3</th>\n",
       "      <td>tt0835418</td>\n",
       "      <td>nm0151540</td>\n",
       "    </tr>\n",
       "    <tr>\n",
       "      <th>4</th>\n",
       "      <td>tt0878654</td>\n",
       "      <td>nm0089502</td>\n",
       "    </tr>\n",
       "  </tbody>\n",
       "</table>\n",
       "</div>"
      ],
      "text/plain": [
       "    movie_id  person_id\n",
       "0  tt0285252  nm0899854\n",
       "1  tt0462036  nm1940585\n",
       "2  tt0835418  nm0151540\n",
       "3  tt0835418  nm0151540\n",
       "4  tt0878654  nm0089502"
      ]
     },
     "execution_count": 44,
     "metadata": {},
     "output_type": "execute_result"
    }
   ],
   "source": [
    "directors_df = pd.read_sql(\"\"\"select * from directors\"\"\",conn)\n",
    "directors_df.head()\n",
    "#Merge off of movie_id to main database\n",
    "#Convert person_ID through persons_df\n",
    "#Usable, directors are nice"
   ]
  },
  {
   "cell_type": "code",
   "execution_count": 45,
   "metadata": {},
   "outputs": [
    {
     "data": {
      "text/plain": [
       "nm6935209     238\n",
       "nm2563700     190\n",
       "nm1546474     185\n",
       "nm3877467     180\n",
       "nm3848412     144\n",
       "             ... \n",
       "nm7687638       1\n",
       "nm4378697       1\n",
       "nm4672102       1\n",
       "nm10448110      1\n",
       "nm10474797      1\n",
       "Name: person_id, Length: 109253, dtype: int64"
      ]
     },
     "execution_count": 45,
     "metadata": {},
     "output_type": "execute_result"
    }
   ],
   "source": [
    "directors_df['person_id'].value_counts()"
   ]
  },
  {
   "cell_type": "code",
   "execution_count": 46,
   "metadata": {},
   "outputs": [
    {
     "data": {
      "text/html": [
       "<div>\n",
       "<style scoped>\n",
       "    .dataframe tbody tr th:only-of-type {\n",
       "        vertical-align: middle;\n",
       "    }\n",
       "\n",
       "    .dataframe tbody tr th {\n",
       "        vertical-align: top;\n",
       "    }\n",
       "\n",
       "    .dataframe thead th {\n",
       "        text-align: right;\n",
       "    }\n",
       "</style>\n",
       "<table border=\"1\" class=\"dataframe\">\n",
       "  <thead>\n",
       "    <tr style=\"text-align: right;\">\n",
       "      <th></th>\n",
       "      <th>movie_id</th>\n",
       "      <th>person_id</th>\n",
       "    </tr>\n",
       "  </thead>\n",
       "  <tbody>\n",
       "    <tr>\n",
       "      <th>count</th>\n",
       "      <td>291174</td>\n",
       "      <td>291174</td>\n",
       "    </tr>\n",
       "    <tr>\n",
       "      <th>unique</th>\n",
       "      <td>140417</td>\n",
       "      <td>109253</td>\n",
       "    </tr>\n",
       "    <tr>\n",
       "      <th>top</th>\n",
       "      <td>tt4050462</td>\n",
       "      <td>nm6935209</td>\n",
       "    </tr>\n",
       "    <tr>\n",
       "      <th>freq</th>\n",
       "      <td>3818</td>\n",
       "      <td>238</td>\n",
       "    </tr>\n",
       "  </tbody>\n",
       "</table>\n",
       "</div>"
      ],
      "text/plain": [
       "         movie_id  person_id\n",
       "count      291174     291174\n",
       "unique     140417     109253\n",
       "top     tt4050462  nm6935209\n",
       "freq         3818        238"
      ]
     },
     "execution_count": 46,
     "metadata": {},
     "output_type": "execute_result"
    }
   ],
   "source": [
    "directors_df.describe()\n",
    "#nothing too relevant"
   ]
  },
  {
   "cell_type": "code",
   "execution_count": 47,
   "metadata": {},
   "outputs": [
    {
     "name": "stdout",
     "output_type": "stream",
     "text": [
      "<class 'pandas.core.frame.DataFrame'>\n",
      "RangeIndex: 291174 entries, 0 to 291173\n",
      "Data columns (total 2 columns):\n",
      " #   Column     Non-Null Count   Dtype \n",
      "---  ------     --------------   ----- \n",
      " 0   movie_id   291174 non-null  object\n",
      " 1   person_id  291174 non-null  object\n",
      "dtypes: object(2)\n",
      "memory usage: 4.4+ MB\n"
     ]
    }
   ],
   "source": [
    "directors_df.info()\n",
    "#complete data"
   ]
  },
  {
   "cell_type": "code",
   "execution_count": 48,
   "metadata": {},
   "outputs": [
    {
     "data": {
      "text/html": [
       "<div>\n",
       "<style scoped>\n",
       "    .dataframe tbody tr th:only-of-type {\n",
       "        vertical-align: middle;\n",
       "    }\n",
       "\n",
       "    .dataframe tbody tr th {\n",
       "        vertical-align: top;\n",
       "    }\n",
       "\n",
       "    .dataframe thead th {\n",
       "        text-align: right;\n",
       "    }\n",
       "</style>\n",
       "<table border=\"1\" class=\"dataframe\">\n",
       "  <thead>\n",
       "    <tr style=\"text-align: right;\">\n",
       "      <th></th>\n",
       "      <th>person_id</th>\n",
       "      <th>movie_id</th>\n",
       "    </tr>\n",
       "  </thead>\n",
       "  <tbody>\n",
       "    <tr>\n",
       "      <th>0</th>\n",
       "      <td>nm0061671</td>\n",
       "      <td>tt0837562</td>\n",
       "    </tr>\n",
       "    <tr>\n",
       "      <th>1</th>\n",
       "      <td>nm0061671</td>\n",
       "      <td>tt2398241</td>\n",
       "    </tr>\n",
       "    <tr>\n",
       "      <th>2</th>\n",
       "      <td>nm0061671</td>\n",
       "      <td>tt0844471</td>\n",
       "    </tr>\n",
       "    <tr>\n",
       "      <th>3</th>\n",
       "      <td>nm0061671</td>\n",
       "      <td>tt0118553</td>\n",
       "    </tr>\n",
       "    <tr>\n",
       "      <th>4</th>\n",
       "      <td>nm0061865</td>\n",
       "      <td>tt0896534</td>\n",
       "    </tr>\n",
       "  </tbody>\n",
       "</table>\n",
       "</div>"
      ],
      "text/plain": [
       "   person_id   movie_id\n",
       "0  nm0061671  tt0837562\n",
       "1  nm0061671  tt2398241\n",
       "2  nm0061671  tt0844471\n",
       "3  nm0061671  tt0118553\n",
       "4  nm0061865  tt0896534"
      ]
     },
     "execution_count": 48,
     "metadata": {},
     "output_type": "execute_result"
    }
   ],
   "source": [
    "known_for_df = pd.read_sql(\"\"\"select * from known_for\"\"\",conn)\n",
    "known_for_df.head()\n",
    "#I dont really think this data set is relevant - dropping it\n",
    "#Based off data it seems to just be a person (would have to merge to person_df) and what movie theyre known for"
   ]
  },
  {
   "cell_type": "code",
   "execution_count": 49,
   "metadata": {},
   "outputs": [
    {
     "data": {
      "text/html": [
       "<div>\n",
       "<style scoped>\n",
       "    .dataframe tbody tr th:only-of-type {\n",
       "        vertical-align: middle;\n",
       "    }\n",
       "\n",
       "    .dataframe tbody tr th {\n",
       "        vertical-align: top;\n",
       "    }\n",
       "\n",
       "    .dataframe thead th {\n",
       "        text-align: right;\n",
       "    }\n",
       "</style>\n",
       "<table border=\"1\" class=\"dataframe\">\n",
       "  <thead>\n",
       "    <tr style=\"text-align: right;\">\n",
       "      <th></th>\n",
       "      <th>movie_id</th>\n",
       "      <th>ordering</th>\n",
       "      <th>title</th>\n",
       "      <th>region</th>\n",
       "      <th>language</th>\n",
       "      <th>types</th>\n",
       "      <th>attributes</th>\n",
       "      <th>is_original_title</th>\n",
       "    </tr>\n",
       "  </thead>\n",
       "  <tbody>\n",
       "    <tr>\n",
       "      <th>0</th>\n",
       "      <td>tt0369610</td>\n",
       "      <td>10</td>\n",
       "      <td>Джурасик свят</td>\n",
       "      <td>BG</td>\n",
       "      <td>bg</td>\n",
       "      <td>None</td>\n",
       "      <td>None</td>\n",
       "      <td>0.0</td>\n",
       "    </tr>\n",
       "    <tr>\n",
       "      <th>1</th>\n",
       "      <td>tt0369610</td>\n",
       "      <td>11</td>\n",
       "      <td>Jurashikku warudo</td>\n",
       "      <td>JP</td>\n",
       "      <td>None</td>\n",
       "      <td>imdbDisplay</td>\n",
       "      <td>None</td>\n",
       "      <td>0.0</td>\n",
       "    </tr>\n",
       "    <tr>\n",
       "      <th>2</th>\n",
       "      <td>tt0369610</td>\n",
       "      <td>12</td>\n",
       "      <td>Jurassic World: O Mundo dos Dinossauros</td>\n",
       "      <td>BR</td>\n",
       "      <td>None</td>\n",
       "      <td>imdbDisplay</td>\n",
       "      <td>None</td>\n",
       "      <td>0.0</td>\n",
       "    </tr>\n",
       "    <tr>\n",
       "      <th>3</th>\n",
       "      <td>tt0369610</td>\n",
       "      <td>13</td>\n",
       "      <td>O Mundo dos Dinossauros</td>\n",
       "      <td>BR</td>\n",
       "      <td>None</td>\n",
       "      <td>None</td>\n",
       "      <td>short title</td>\n",
       "      <td>0.0</td>\n",
       "    </tr>\n",
       "    <tr>\n",
       "      <th>4</th>\n",
       "      <td>tt0369610</td>\n",
       "      <td>14</td>\n",
       "      <td>Jurassic World</td>\n",
       "      <td>FR</td>\n",
       "      <td>None</td>\n",
       "      <td>imdbDisplay</td>\n",
       "      <td>None</td>\n",
       "      <td>0.0</td>\n",
       "    </tr>\n",
       "  </tbody>\n",
       "</table>\n",
       "</div>"
      ],
      "text/plain": [
       "    movie_id  ordering                                    title region  \\\n",
       "0  tt0369610        10                            Джурасик свят     BG   \n",
       "1  tt0369610        11                        Jurashikku warudo     JP   \n",
       "2  tt0369610        12  Jurassic World: O Mundo dos Dinossauros     BR   \n",
       "3  tt0369610        13                  O Mundo dos Dinossauros     BR   \n",
       "4  tt0369610        14                           Jurassic World     FR   \n",
       "\n",
       "  language        types   attributes  is_original_title  \n",
       "0       bg         None         None                0.0  \n",
       "1     None  imdbDisplay         None                0.0  \n",
       "2     None  imdbDisplay         None                0.0  \n",
       "3     None         None  short title                0.0  \n",
       "4     None  imdbDisplay         None                0.0  "
      ]
     },
     "execution_count": 49,
     "metadata": {},
     "output_type": "execute_result"
    }
   ],
   "source": [
    "movie_akas_df = pd.read_sql(\"\"\"select * from movie_akas\"\"\",conn)\n",
    "movie_akas_df.head()\n",
    "#Nothing too amazing, considering dropping this dataset"
   ]
  },
  {
   "cell_type": "code",
   "execution_count": 50,
   "metadata": {},
   "outputs": [
    {
     "name": "stdout",
     "output_type": "stream",
     "text": [
      "<class 'pandas.core.frame.DataFrame'>\n",
      "RangeIndex: 331703 entries, 0 to 331702\n",
      "Data columns (total 8 columns):\n",
      " #   Column             Non-Null Count   Dtype  \n",
      "---  ------             --------------   -----  \n",
      " 0   movie_id           331703 non-null  object \n",
      " 1   ordering           331703 non-null  int64  \n",
      " 2   title              331703 non-null  object \n",
      " 3   region             278410 non-null  object \n",
      " 4   language           41715 non-null   object \n",
      " 5   types              168447 non-null  object \n",
      " 6   attributes         14925 non-null   object \n",
      " 7   is_original_title  331678 non-null  float64\n",
      "dtypes: float64(1), int64(1), object(6)\n",
      "memory usage: 20.2+ MB\n"
     ]
    }
   ],
   "source": [
    "movie_akas_df.info()\n",
    "#Tons of nulls in language, type, and attributes; even region "
   ]
  },
  {
   "cell_type": "code",
   "execution_count": 51,
   "metadata": {},
   "outputs": [
    {
     "data": {
      "text/html": [
       "<div>\n",
       "<style scoped>\n",
       "    .dataframe tbody tr th:only-of-type {\n",
       "        vertical-align: middle;\n",
       "    }\n",
       "\n",
       "    .dataframe tbody tr th {\n",
       "        vertical-align: top;\n",
       "    }\n",
       "\n",
       "    .dataframe thead th {\n",
       "        text-align: right;\n",
       "    }\n",
       "</style>\n",
       "<table border=\"1\" class=\"dataframe\">\n",
       "  <thead>\n",
       "    <tr style=\"text-align: right;\">\n",
       "      <th></th>\n",
       "      <th>ordering</th>\n",
       "      <th>is_original_title</th>\n",
       "    </tr>\n",
       "  </thead>\n",
       "  <tbody>\n",
       "    <tr>\n",
       "      <th>count</th>\n",
       "      <td>331703.000000</td>\n",
       "      <td>331678.000000</td>\n",
       "    </tr>\n",
       "    <tr>\n",
       "      <th>mean</th>\n",
       "      <td>5.125872</td>\n",
       "      <td>0.134769</td>\n",
       "    </tr>\n",
       "    <tr>\n",
       "      <th>std</th>\n",
       "      <td>6.706664</td>\n",
       "      <td>0.341477</td>\n",
       "    </tr>\n",
       "    <tr>\n",
       "      <th>min</th>\n",
       "      <td>1.000000</td>\n",
       "      <td>0.000000</td>\n",
       "    </tr>\n",
       "    <tr>\n",
       "      <th>25%</th>\n",
       "      <td>1.000000</td>\n",
       "      <td>0.000000</td>\n",
       "    </tr>\n",
       "    <tr>\n",
       "      <th>50%</th>\n",
       "      <td>2.000000</td>\n",
       "      <td>0.000000</td>\n",
       "    </tr>\n",
       "    <tr>\n",
       "      <th>75%</th>\n",
       "      <td>6.000000</td>\n",
       "      <td>0.000000</td>\n",
       "    </tr>\n",
       "    <tr>\n",
       "      <th>max</th>\n",
       "      <td>61.000000</td>\n",
       "      <td>1.000000</td>\n",
       "    </tr>\n",
       "  </tbody>\n",
       "</table>\n",
       "</div>"
      ],
      "text/plain": [
       "            ordering  is_original_title\n",
       "count  331703.000000      331678.000000\n",
       "mean        5.125872           0.134769\n",
       "std         6.706664           0.341477\n",
       "min         1.000000           0.000000\n",
       "25%         1.000000           0.000000\n",
       "50%         2.000000           0.000000\n",
       "75%         6.000000           0.000000\n",
       "max        61.000000           1.000000"
      ]
     },
     "execution_count": 51,
     "metadata": {},
     "output_type": "execute_result"
    }
   ],
   "source": [
    "movie_akas_df.describe()\n",
    "#Useless"
   ]
  },
  {
   "cell_type": "code",
   "execution_count": 52,
   "metadata": {},
   "outputs": [
    {
     "data": {
      "text/plain": [
       "tt2488496    61\n",
       "tt2310332    55\n",
       "tt1201607    55\n",
       "tt2278871    53\n",
       "tt2948356    53\n",
       "             ..\n",
       "tt3697844     1\n",
       "tt4160404     1\n",
       "tt2089664     1\n",
       "tt5105628     1\n",
       "tt6317052     1\n",
       "Name: movie_id, Length: 122302, dtype: int64"
      ]
     },
     "execution_count": 52,
     "metadata": {},
     "output_type": "execute_result"
    }
   ],
   "source": [
    "movie_akas_df['movie_id'].value_counts()\n",
    "#Tons of duplicates too based off movie id and how many regions released, probably irrelevant and too much information\n",
    "#dropping this dataset too\n"
   ]
  },
  {
   "cell_type": "code",
   "execution_count": 53,
   "metadata": {},
   "outputs": [
    {
     "data": {
      "text/html": [
       "<div>\n",
       "<style scoped>\n",
       "    .dataframe tbody tr th:only-of-type {\n",
       "        vertical-align: middle;\n",
       "    }\n",
       "\n",
       "    .dataframe tbody tr th {\n",
       "        vertical-align: top;\n",
       "    }\n",
       "\n",
       "    .dataframe thead th {\n",
       "        text-align: right;\n",
       "    }\n",
       "</style>\n",
       "<table border=\"1\" class=\"dataframe\">\n",
       "  <thead>\n",
       "    <tr style=\"text-align: right;\">\n",
       "      <th></th>\n",
       "      <th>movie_id</th>\n",
       "      <th>averagerating</th>\n",
       "      <th>numvotes</th>\n",
       "    </tr>\n",
       "  </thead>\n",
       "  <tbody>\n",
       "    <tr>\n",
       "      <th>0</th>\n",
       "      <td>tt10356526</td>\n",
       "      <td>8.3</td>\n",
       "      <td>31</td>\n",
       "    </tr>\n",
       "    <tr>\n",
       "      <th>1</th>\n",
       "      <td>tt10384606</td>\n",
       "      <td>8.9</td>\n",
       "      <td>559</td>\n",
       "    </tr>\n",
       "    <tr>\n",
       "      <th>2</th>\n",
       "      <td>tt1042974</td>\n",
       "      <td>6.4</td>\n",
       "      <td>20</td>\n",
       "    </tr>\n",
       "    <tr>\n",
       "      <th>3</th>\n",
       "      <td>tt1043726</td>\n",
       "      <td>4.2</td>\n",
       "      <td>50352</td>\n",
       "    </tr>\n",
       "    <tr>\n",
       "      <th>4</th>\n",
       "      <td>tt1060240</td>\n",
       "      <td>6.5</td>\n",
       "      <td>21</td>\n",
       "    </tr>\n",
       "  </tbody>\n",
       "</table>\n",
       "</div>"
      ],
      "text/plain": [
       "     movie_id  averagerating  numvotes\n",
       "0  tt10356526            8.3        31\n",
       "1  tt10384606            8.9       559\n",
       "2   tt1042974            6.4        20\n",
       "3   tt1043726            4.2     50352\n",
       "4   tt1060240            6.5        21"
      ]
     },
     "execution_count": 53,
     "metadata": {},
     "output_type": "execute_result"
    }
   ],
   "source": [
    "movie_ratings_df = pd.read_sql(\"\"\"select * from movie_ratings\"\"\",conn)\n",
    "movie_ratings_df.head()\n",
    "#Pretty useful information"
   ]
  },
  {
   "cell_type": "code",
   "execution_count": 54,
   "metadata": {},
   "outputs": [
    {
     "name": "stdout",
     "output_type": "stream",
     "text": [
      "<class 'pandas.core.frame.DataFrame'>\n",
      "RangeIndex: 73856 entries, 0 to 73855\n",
      "Data columns (total 3 columns):\n",
      " #   Column         Non-Null Count  Dtype  \n",
      "---  ------         --------------  -----  \n",
      " 0   movie_id       73856 non-null  object \n",
      " 1   averagerating  73856 non-null  float64\n",
      " 2   numvotes       73856 non-null  int64  \n",
      "dtypes: float64(1), int64(1), object(1)\n",
      "memory usage: 1.7+ MB\n"
     ]
    }
   ],
   "source": [
    "movie_ratings_df.info()\n",
    "#Full dataset, nice"
   ]
  },
  {
   "cell_type": "code",
   "execution_count": 55,
   "metadata": {},
   "outputs": [
    {
     "data": {
      "text/html": [
       "<div>\n",
       "<style scoped>\n",
       "    .dataframe tbody tr th:only-of-type {\n",
       "        vertical-align: middle;\n",
       "    }\n",
       "\n",
       "    .dataframe tbody tr th {\n",
       "        vertical-align: top;\n",
       "    }\n",
       "\n",
       "    .dataframe thead th {\n",
       "        text-align: right;\n",
       "    }\n",
       "</style>\n",
       "<table border=\"1\" class=\"dataframe\">\n",
       "  <thead>\n",
       "    <tr style=\"text-align: right;\">\n",
       "      <th></th>\n",
       "      <th>averagerating</th>\n",
       "      <th>numvotes</th>\n",
       "    </tr>\n",
       "  </thead>\n",
       "  <tbody>\n",
       "    <tr>\n",
       "      <th>count</th>\n",
       "      <td>73856.00</td>\n",
       "      <td>73856.00</td>\n",
       "    </tr>\n",
       "    <tr>\n",
       "      <th>mean</th>\n",
       "      <td>6.33</td>\n",
       "      <td>3523.66</td>\n",
       "    </tr>\n",
       "    <tr>\n",
       "      <th>std</th>\n",
       "      <td>1.47</td>\n",
       "      <td>30294.02</td>\n",
       "    </tr>\n",
       "    <tr>\n",
       "      <th>min</th>\n",
       "      <td>1.00</td>\n",
       "      <td>5.00</td>\n",
       "    </tr>\n",
       "    <tr>\n",
       "      <th>25%</th>\n",
       "      <td>5.50</td>\n",
       "      <td>14.00</td>\n",
       "    </tr>\n",
       "    <tr>\n",
       "      <th>50%</th>\n",
       "      <td>6.50</td>\n",
       "      <td>49.00</td>\n",
       "    </tr>\n",
       "    <tr>\n",
       "      <th>75%</th>\n",
       "      <td>7.40</td>\n",
       "      <td>282.00</td>\n",
       "    </tr>\n",
       "    <tr>\n",
       "      <th>max</th>\n",
       "      <td>10.00</td>\n",
       "      <td>1841066.00</td>\n",
       "    </tr>\n",
       "  </tbody>\n",
       "</table>\n",
       "</div>"
      ],
      "text/plain": [
       "       averagerating    numvotes\n",
       "count       73856.00    73856.00\n",
       "mean            6.33     3523.66\n",
       "std             1.47    30294.02\n",
       "min             1.00        5.00\n",
       "25%             5.50       14.00\n",
       "50%             6.50       49.00\n",
       "75%             7.40      282.00\n",
       "max            10.00  1841066.00"
      ]
     },
     "execution_count": 55,
     "metadata": {},
     "output_type": "execute_result"
    }
   ],
   "source": [
    "round(movie_ratings_df.describe(),2)\n",
    "#Rating scale looks clean, numvotes looks fine too since no negatives"
   ]
  },
  {
   "cell_type": "code",
   "execution_count": 56,
   "metadata": {},
   "outputs": [
    {
     "data": {
      "text/plain": [
       "tt3890730    1\n",
       "tt4410770    1\n",
       "tt2055765    1\n",
       "tt3070106    1\n",
       "tt7051048    1\n",
       "            ..\n",
       "tt1308728    1\n",
       "tt4123888    1\n",
       "tt4919886    1\n",
       "tt1329309    1\n",
       "tt3822858    1\n",
       "Name: movie_id, Length: 73856, dtype: int64"
      ]
     },
     "execution_count": 56,
     "metadata": {},
     "output_type": "execute_result"
    }
   ],
   "source": [
    "movie_ratings_df['movie_id'].value_counts()\n",
    "#No dupes"
   ]
  },
  {
   "cell_type": "code",
   "execution_count": 57,
   "metadata": {},
   "outputs": [
    {
     "data": {
      "text/html": [
       "<div>\n",
       "<style scoped>\n",
       "    .dataframe tbody tr th:only-of-type {\n",
       "        vertical-align: middle;\n",
       "    }\n",
       "\n",
       "    .dataframe tbody tr th {\n",
       "        vertical-align: top;\n",
       "    }\n",
       "\n",
       "    .dataframe thead th {\n",
       "        text-align: right;\n",
       "    }\n",
       "</style>\n",
       "<table border=\"1\" class=\"dataframe\">\n",
       "  <thead>\n",
       "    <tr style=\"text-align: right;\">\n",
       "      <th></th>\n",
       "      <th>person_id</th>\n",
       "      <th>primary_name</th>\n",
       "      <th>birth_year</th>\n",
       "      <th>death_year</th>\n",
       "      <th>primary_profession</th>\n",
       "    </tr>\n",
       "  </thead>\n",
       "  <tbody>\n",
       "    <tr>\n",
       "      <th>0</th>\n",
       "      <td>nm0061671</td>\n",
       "      <td>Mary Ellen Bauder</td>\n",
       "      <td>NaN</td>\n",
       "      <td>NaN</td>\n",
       "      <td>miscellaneous,production_manager,producer</td>\n",
       "    </tr>\n",
       "    <tr>\n",
       "      <th>1</th>\n",
       "      <td>nm0061865</td>\n",
       "      <td>Joseph Bauer</td>\n",
       "      <td>NaN</td>\n",
       "      <td>NaN</td>\n",
       "      <td>composer,music_department,sound_department</td>\n",
       "    </tr>\n",
       "    <tr>\n",
       "      <th>2</th>\n",
       "      <td>nm0062070</td>\n",
       "      <td>Bruce Baum</td>\n",
       "      <td>NaN</td>\n",
       "      <td>NaN</td>\n",
       "      <td>miscellaneous,actor,writer</td>\n",
       "    </tr>\n",
       "    <tr>\n",
       "      <th>3</th>\n",
       "      <td>nm0062195</td>\n",
       "      <td>Axel Baumann</td>\n",
       "      <td>NaN</td>\n",
       "      <td>NaN</td>\n",
       "      <td>camera_department,cinematographer,art_department</td>\n",
       "    </tr>\n",
       "    <tr>\n",
       "      <th>4</th>\n",
       "      <td>nm0062798</td>\n",
       "      <td>Pete Baxter</td>\n",
       "      <td>NaN</td>\n",
       "      <td>NaN</td>\n",
       "      <td>production_designer,art_department,set_decorator</td>\n",
       "    </tr>\n",
       "  </tbody>\n",
       "</table>\n",
       "</div>"
      ],
      "text/plain": [
       "   person_id       primary_name  birth_year  death_year  \\\n",
       "0  nm0061671  Mary Ellen Bauder         NaN         NaN   \n",
       "1  nm0061865       Joseph Bauer         NaN         NaN   \n",
       "2  nm0062070         Bruce Baum         NaN         NaN   \n",
       "3  nm0062195       Axel Baumann         NaN         NaN   \n",
       "4  nm0062798        Pete Baxter         NaN         NaN   \n",
       "\n",
       "                                 primary_profession  \n",
       "0         miscellaneous,production_manager,producer  \n",
       "1        composer,music_department,sound_department  \n",
       "2                        miscellaneous,actor,writer  \n",
       "3  camera_department,cinematographer,art_department  \n",
       "4  production_designer,art_department,set_decorator  "
      ]
     },
     "execution_count": 57,
     "metadata": {},
     "output_type": "execute_result"
    }
   ],
   "source": [
    "persons_df = pd.read_sql(\"\"\"select * from persons\"\"\",conn)\n",
    "persons_df.head()\n",
    "#Super useful for mapping person ID to primary names, rest of the information is a bit much\n",
    "#Primary profession could be useful but can't be connected to actual movies since no movie_Id in dataset\n",
    "#birth_year"
   ]
  },
  {
   "cell_type": "code",
   "execution_count": 58,
   "metadata": {},
   "outputs": [
    {
     "data": {
      "text/html": [
       "<div>\n",
       "<style scoped>\n",
       "    .dataframe tbody tr th:only-of-type {\n",
       "        vertical-align: middle;\n",
       "    }\n",
       "\n",
       "    .dataframe tbody tr th {\n",
       "        vertical-align: top;\n",
       "    }\n",
       "\n",
       "    .dataframe thead th {\n",
       "        text-align: right;\n",
       "    }\n",
       "</style>\n",
       "<table border=\"1\" class=\"dataframe\">\n",
       "  <thead>\n",
       "    <tr style=\"text-align: right;\">\n",
       "      <th></th>\n",
       "      <th>birth_year</th>\n",
       "      <th>death_year</th>\n",
       "    </tr>\n",
       "  </thead>\n",
       "  <tbody>\n",
       "    <tr>\n",
       "      <th>count</th>\n",
       "      <td>82736.000000</td>\n",
       "      <td>6783.000000</td>\n",
       "    </tr>\n",
       "    <tr>\n",
       "      <th>mean</th>\n",
       "      <td>1967.043826</td>\n",
       "      <td>2000.523367</td>\n",
       "    </tr>\n",
       "    <tr>\n",
       "      <th>std</th>\n",
       "      <td>22.122190</td>\n",
       "      <td>43.951530</td>\n",
       "    </tr>\n",
       "    <tr>\n",
       "      <th>min</th>\n",
       "      <td>1.000000</td>\n",
       "      <td>17.000000</td>\n",
       "    </tr>\n",
       "    <tr>\n",
       "      <th>25%</th>\n",
       "      <td>1957.000000</td>\n",
       "      <td>2001.000000</td>\n",
       "    </tr>\n",
       "    <tr>\n",
       "      <th>50%</th>\n",
       "      <td>1971.000000</td>\n",
       "      <td>2013.000000</td>\n",
       "    </tr>\n",
       "    <tr>\n",
       "      <th>75%</th>\n",
       "      <td>1981.000000</td>\n",
       "      <td>2016.000000</td>\n",
       "    </tr>\n",
       "    <tr>\n",
       "      <th>max</th>\n",
       "      <td>2014.000000</td>\n",
       "      <td>2019.000000</td>\n",
       "    </tr>\n",
       "  </tbody>\n",
       "</table>\n",
       "</div>"
      ],
      "text/plain": [
       "         birth_year   death_year\n",
       "count  82736.000000  6783.000000\n",
       "mean    1967.043826  2000.523367\n",
       "std       22.122190    43.951530\n",
       "min        1.000000    17.000000\n",
       "25%     1957.000000  2001.000000\n",
       "50%     1971.000000  2013.000000\n",
       "75%     1981.000000  2016.000000\n",
       "max     2014.000000  2019.000000"
      ]
     },
     "execution_count": 58,
     "metadata": {},
     "output_type": "execute_result"
    }
   ],
   "source": [
    "persons_df.describe()\n",
    "#Probably remove dead people honestly"
   ]
  },
  {
   "cell_type": "code",
   "execution_count": 59,
   "metadata": {},
   "outputs": [
    {
     "name": "stdout",
     "output_type": "stream",
     "text": [
      "<class 'pandas.core.frame.DataFrame'>\n",
      "RangeIndex: 606648 entries, 0 to 606647\n",
      "Data columns (total 5 columns):\n",
      " #   Column              Non-Null Count   Dtype  \n",
      "---  ------              --------------   -----  \n",
      " 0   person_id           606648 non-null  object \n",
      " 1   primary_name        606648 non-null  object \n",
      " 2   birth_year          82736 non-null   float64\n",
      " 3   death_year          6783 non-null    float64\n",
      " 4   primary_profession  555308 non-null  object \n",
      "dtypes: float64(2), object(3)\n",
      "memory usage: 23.1+ MB\n"
     ]
    }
   ],
   "source": [
    "persons_df.info()\n",
    "#Tons of null in birth year and death year"
   ]
  },
  {
   "cell_type": "code",
   "execution_count": 60,
   "metadata": {},
   "outputs": [
    {
     "data": {
      "text/html": [
       "<div>\n",
       "<style scoped>\n",
       "    .dataframe tbody tr th:only-of-type {\n",
       "        vertical-align: middle;\n",
       "    }\n",
       "\n",
       "    .dataframe tbody tr th {\n",
       "        vertical-align: top;\n",
       "    }\n",
       "\n",
       "    .dataframe thead th {\n",
       "        text-align: right;\n",
       "    }\n",
       "</style>\n",
       "<table border=\"1\" class=\"dataframe\">\n",
       "  <thead>\n",
       "    <tr style=\"text-align: right;\">\n",
       "      <th></th>\n",
       "      <th>movie_id</th>\n",
       "      <th>primary_name</th>\n",
       "    </tr>\n",
       "  </thead>\n",
       "  <tbody>\n",
       "    <tr>\n",
       "      <th>0</th>\n",
       "      <td>tt0285252</td>\n",
       "      <td>Tony Vitale</td>\n",
       "    </tr>\n",
       "    <tr>\n",
       "      <th>1</th>\n",
       "      <td>tt0462036</td>\n",
       "      <td>Bill Haley</td>\n",
       "    </tr>\n",
       "    <tr>\n",
       "      <th>2</th>\n",
       "      <td>tt0835418</td>\n",
       "      <td>Jay Chandrasekhar</td>\n",
       "    </tr>\n",
       "    <tr>\n",
       "      <th>3</th>\n",
       "      <td>tt0835418</td>\n",
       "      <td>Jay Chandrasekhar</td>\n",
       "    </tr>\n",
       "    <tr>\n",
       "      <th>4</th>\n",
       "      <td>tt0878654</td>\n",
       "      <td>Albert Pyun</td>\n",
       "    </tr>\n",
       "  </tbody>\n",
       "</table>\n",
       "</div>"
      ],
      "text/plain": [
       "    movie_id       primary_name\n",
       "0  tt0285252        Tony Vitale\n",
       "1  tt0462036         Bill Haley\n",
       "2  tt0835418  Jay Chandrasekhar\n",
       "3  tt0835418  Jay Chandrasekhar\n",
       "4  tt0878654        Albert Pyun"
      ]
     },
     "execution_count": 60,
     "metadata": {},
     "output_type": "execute_result"
    }
   ],
   "source": [
    "subdir = pd.read_sql(\n",
    "'''\n",
    "SELECT\n",
    "    dir.movie_id,\n",
    "    per.primary_name\n",
    "FROM\n",
    "    directors as dir\n",
    "    LEFT JOIN persons as per\n",
    "        ON dir.person_id = per.person_id\n",
    "WHERE\n",
    "    per.death_year is null\n",
    "''',\n",
    "conn\n",
    ")\n",
    "subdir.head()\n",
    "#Filters out dead directors for movies "
   ]
  },
  {
   "cell_type": "code",
   "execution_count": 61,
   "metadata": {},
   "outputs": [
    {
     "data": {
      "text/plain": [
       "(289436, 2)"
      ]
     },
     "execution_count": 61,
     "metadata": {},
     "output_type": "execute_result"
    }
   ],
   "source": [
    "subdir.shape"
   ]
  },
  {
   "cell_type": "code",
   "execution_count": 62,
   "metadata": {},
   "outputs": [
    {
     "data": {
      "text/html": [
       "<div>\n",
       "<style scoped>\n",
       "    .dataframe tbody tr th:only-of-type {\n",
       "        vertical-align: middle;\n",
       "    }\n",
       "\n",
       "    .dataframe tbody tr th {\n",
       "        vertical-align: top;\n",
       "    }\n",
       "\n",
       "    .dataframe thead th {\n",
       "        text-align: right;\n",
       "    }\n",
       "</style>\n",
       "<table border=\"1\" class=\"dataframe\">\n",
       "  <thead>\n",
       "    <tr style=\"text-align: right;\">\n",
       "      <th></th>\n",
       "      <th>movie_id</th>\n",
       "      <th>primary_name</th>\n",
       "      <th>category</th>\n",
       "    </tr>\n",
       "  </thead>\n",
       "  <tbody>\n",
       "    <tr>\n",
       "      <th>0</th>\n",
       "      <td>tt0111414</td>\n",
       "      <td>Tommy Dysart</td>\n",
       "      <td>actor</td>\n",
       "    </tr>\n",
       "    <tr>\n",
       "      <th>1</th>\n",
       "      <td>tt0111414</td>\n",
       "      <td>Frank Howson</td>\n",
       "      <td>director</td>\n",
       "    </tr>\n",
       "    <tr>\n",
       "      <th>2</th>\n",
       "      <td>tt0323808</td>\n",
       "      <td>Brittania Nicol</td>\n",
       "      <td>actress</td>\n",
       "    </tr>\n",
       "    <tr>\n",
       "      <th>3</th>\n",
       "      <td>tt0323808</td>\n",
       "      <td>Henry Garrett</td>\n",
       "      <td>actor</td>\n",
       "    </tr>\n",
       "    <tr>\n",
       "      <th>4</th>\n",
       "      <td>tt0323808</td>\n",
       "      <td>Graham McTavish</td>\n",
       "      <td>actor</td>\n",
       "    </tr>\n",
       "  </tbody>\n",
       "</table>\n",
       "</div>"
      ],
      "text/plain": [
       "    movie_id     primary_name  category\n",
       "0  tt0111414     Tommy Dysart     actor\n",
       "1  tt0111414     Frank Howson  director\n",
       "2  tt0323808  Brittania Nicol   actress\n",
       "3  tt0323808    Henry Garrett     actor\n",
       "4  tt0323808  Graham McTavish     actor"
      ]
     },
     "execution_count": 62,
     "metadata": {},
     "output_type": "execute_result"
    }
   ],
   "source": [
    "subpri = pd.read_sql(\n",
    "'''\n",
    "SELECT\n",
    "    pri.movie_id,\n",
    "    per.primary_name,\n",
    "    pri.category\n",
    "FROM\n",
    "    principals as pri\n",
    "    LEFT JOIN persons as per\n",
    "        ON pri.person_id = per.person_id\n",
    "WHERE\n",
    "    (pri.category = 'actor'\n",
    "    OR\n",
    "    pri.category = 'actress'\n",
    "    or\n",
    "    pri.category = 'director')\n",
    "    AND\n",
    "    per.death_year is null\n",
    "    AND\n",
    "    per.primary_name is not null\n",
    "''',\n",
    "conn\n",
    ")\n",
    "subpri.head()\n",
    "#Finding the actor/actresses, can be used to create a subquery\n",
    "#director subquery potentially useless"
   ]
  },
  {
   "cell_type": "code",
   "execution_count": 63,
   "metadata": {},
   "outputs": [
    {
     "data": {
      "text/plain": [
       "(544661, 3)"
      ]
     },
     "execution_count": 63,
     "metadata": {},
     "output_type": "execute_result"
    }
   ],
   "source": [
    "subpri.shape"
   ]
  },
  {
   "cell_type": "code",
   "execution_count": 64,
   "metadata": {},
   "outputs": [
    {
     "data": {
      "text/plain": [
       "actor       253619\n",
       "director    145544\n",
       "actress     145498\n",
       "Name: category, dtype: int64"
      ]
     },
     "execution_count": 64,
     "metadata": {},
     "output_type": "execute_result"
    }
   ],
   "source": [
    "subpri['category'].value_counts()"
   ]
  },
  {
   "cell_type": "code",
   "execution_count": 65,
   "metadata": {},
   "outputs": [
    {
     "name": "stdout",
     "output_type": "stream",
     "text": [
      "<class 'pandas.core.frame.DataFrame'>\n",
      "RangeIndex: 544661 entries, 0 to 544660\n",
      "Data columns (total 3 columns):\n",
      " #   Column        Non-Null Count   Dtype \n",
      "---  ------        --------------   ----- \n",
      " 0   movie_id      544661 non-null  object\n",
      " 1   primary_name  544661 non-null  object\n",
      " 2   category      544661 non-null  object\n",
      "dtypes: object(3)\n",
      "memory usage: 12.5+ MB\n"
     ]
    }
   ],
   "source": [
    "subpri.info()"
   ]
  },
  {
   "cell_type": "code",
   "execution_count": 66,
   "metadata": {},
   "outputs": [
    {
     "data": {
      "text/html": [
       "<div>\n",
       "<style scoped>\n",
       "    .dataframe tbody tr th:only-of-type {\n",
       "        vertical-align: middle;\n",
       "    }\n",
       "\n",
       "    .dataframe tbody tr th {\n",
       "        vertical-align: top;\n",
       "    }\n",
       "\n",
       "    .dataframe thead th {\n",
       "        text-align: right;\n",
       "    }\n",
       "</style>\n",
       "<table border=\"1\" class=\"dataframe\">\n",
       "  <thead>\n",
       "    <tr style=\"text-align: right;\">\n",
       "      <th></th>\n",
       "      <th>MovieName</th>\n",
       "      <th>StartYear</th>\n",
       "      <th>RunTime</th>\n",
       "      <th>Genre</th>\n",
       "      <th>Rating</th>\n",
       "      <th>VoteCount</th>\n",
       "    </tr>\n",
       "  </thead>\n",
       "  <tbody>\n",
       "    <tr>\n",
       "      <th>0</th>\n",
       "      <td>The Other Side of the Wind</td>\n",
       "      <td>2018</td>\n",
       "      <td>122.0</td>\n",
       "      <td>Drama</td>\n",
       "      <td>6.9</td>\n",
       "      <td>4517</td>\n",
       "    </tr>\n",
       "    <tr>\n",
       "      <th>1</th>\n",
       "      <td>Foodfight!</td>\n",
       "      <td>2012</td>\n",
       "      <td>91.0</td>\n",
       "      <td>Action,Animation,Comedy</td>\n",
       "      <td>1.9</td>\n",
       "      <td>8248</td>\n",
       "    </tr>\n",
       "    <tr>\n",
       "      <th>2</th>\n",
       "      <td>Dark Blood</td>\n",
       "      <td>2012</td>\n",
       "      <td>86.0</td>\n",
       "      <td>Thriller</td>\n",
       "      <td>6.6</td>\n",
       "      <td>1053</td>\n",
       "    </tr>\n",
       "    <tr>\n",
       "      <th>3</th>\n",
       "      <td>Wazir</td>\n",
       "      <td>2016</td>\n",
       "      <td>103.0</td>\n",
       "      <td>Action,Crime,Drama</td>\n",
       "      <td>7.1</td>\n",
       "      <td>15378</td>\n",
       "    </tr>\n",
       "    <tr>\n",
       "      <th>4</th>\n",
       "      <td>The Wicker Tree</td>\n",
       "      <td>2011</td>\n",
       "      <td>96.0</td>\n",
       "      <td>Drama,Horror</td>\n",
       "      <td>3.9</td>\n",
       "      <td>2328</td>\n",
       "    </tr>\n",
       "  </tbody>\n",
       "</table>\n",
       "</div>"
      ],
      "text/plain": [
       "                    MovieName  StartYear  RunTime                    Genre  \\\n",
       "0  The Other Side of the Wind       2018    122.0                    Drama   \n",
       "1                  Foodfight!       2012     91.0  Action,Animation,Comedy   \n",
       "2                  Dark Blood       2012     86.0                 Thriller   \n",
       "3                       Wazir       2016    103.0       Action,Crime,Drama   \n",
       "4             The Wicker Tree       2011     96.0             Drama,Horror   \n",
       "\n",
       "   Rating  VoteCount  \n",
       "0     6.9       4517  \n",
       "1     1.9       8248  \n",
       "2     6.6       1053  \n",
       "3     7.1      15378  \n",
       "4     3.9       2328  "
      ]
     },
     "execution_count": 66,
     "metadata": {},
     "output_type": "execute_result"
    }
   ],
   "source": [
    "imdb = pd.read_sql(\n",
    "'''\n",
    "SELECT\n",
    "    mb.primary_title as MovieName,\n",
    "    mb.start_year as StartYear,\n",
    "    mb.runtime_minutes as RunTime,\n",
    "    mb.genres as Genre,\n",
    "    mr.averagerating as Rating,\n",
    "    mr.numvotes as VoteCount   \n",
    "FROM\n",
    "    movie_basics as mb\n",
    "    LEFT JOIN movie_ratings as mr\n",
    "        ON mb.movie_id = mr.movie_id\n",
    "WHERE\n",
    "    mr.numvotes > 1000\n",
    "    AND\n",
    "    averagerating is not null\n",
    "    AND\n",
    "    start_year >= 2010\n",
    "    and \n",
    "    runtime_minutes is not null\n",
    "    and\n",
    "    genres is not null \n",
    "''',\n",
    "conn\n",
    ")\n",
    "imdb.head()\n",
    "#overall imdb data, could be good for finding average ratings, genres, etc on whats good"
   ]
  },
  {
   "cell_type": "code",
   "execution_count": 67,
   "metadata": {},
   "outputs": [
    {
     "data": {
      "text/plain": [
       "(9601, 6)"
      ]
     },
     "execution_count": 67,
     "metadata": {},
     "output_type": "execute_result"
    }
   ],
   "source": [
    "imdb.shape\n",
    "#9601 movies left"
   ]
  },
  {
   "cell_type": "code",
   "execution_count": 68,
   "metadata": {},
   "outputs": [
    {
     "name": "stdout",
     "output_type": "stream",
     "text": [
      "<class 'pandas.core.frame.DataFrame'>\n",
      "RangeIndex: 9601 entries, 0 to 9600\n",
      "Data columns (total 6 columns):\n",
      " #   Column     Non-Null Count  Dtype  \n",
      "---  ------     --------------  -----  \n",
      " 0   MovieName  9601 non-null   object \n",
      " 1   StartYear  9601 non-null   int64  \n",
      " 2   RunTime    9601 non-null   float64\n",
      " 3   Genre      9601 non-null   object \n",
      " 4   Rating     9601 non-null   float64\n",
      " 5   VoteCount  9601 non-null   int64  \n",
      "dtypes: float64(2), int64(2), object(2)\n",
      "memory usage: 450.2+ KB\n"
     ]
    }
   ],
   "source": [
    "imdb.info()\n",
    "#no nulls pog"
   ]
  },
  {
   "cell_type": "code",
   "execution_count": 69,
   "metadata": {},
   "outputs": [],
   "source": [
    "imdb2 = imdb\n",
    "#creating a new dataframe to not mess with the original"
   ]
  },
  {
   "cell_type": "code",
   "execution_count": 70,
   "metadata": {},
   "outputs": [],
   "source": [
    "imdb2['Genre'] = imdb['Genre'].str.split(',')\n",
    "#String splitting genre for exploding purposes"
   ]
  },
  {
   "cell_type": "code",
   "execution_count": 71,
   "metadata": {},
   "outputs": [
    {
     "data": {
      "text/html": [
       "<div>\n",
       "<style scoped>\n",
       "    .dataframe tbody tr th:only-of-type {\n",
       "        vertical-align: middle;\n",
       "    }\n",
       "\n",
       "    .dataframe tbody tr th {\n",
       "        vertical-align: top;\n",
       "    }\n",
       "\n",
       "    .dataframe thead th {\n",
       "        text-align: right;\n",
       "    }\n",
       "</style>\n",
       "<table border=\"1\" class=\"dataframe\">\n",
       "  <thead>\n",
       "    <tr style=\"text-align: right;\">\n",
       "      <th></th>\n",
       "      <th>MovieName</th>\n",
       "      <th>StartYear</th>\n",
       "      <th>RunTime</th>\n",
       "      <th>Genre</th>\n",
       "      <th>Rating</th>\n",
       "      <th>VoteCount</th>\n",
       "    </tr>\n",
       "  </thead>\n",
       "  <tbody>\n",
       "    <tr>\n",
       "      <th>0</th>\n",
       "      <td>The Other Side of the Wind</td>\n",
       "      <td>2018</td>\n",
       "      <td>122.0</td>\n",
       "      <td>[Drama]</td>\n",
       "      <td>6.9</td>\n",
       "      <td>4517</td>\n",
       "    </tr>\n",
       "    <tr>\n",
       "      <th>1</th>\n",
       "      <td>Foodfight!</td>\n",
       "      <td>2012</td>\n",
       "      <td>91.0</td>\n",
       "      <td>[Action, Animation, Comedy]</td>\n",
       "      <td>1.9</td>\n",
       "      <td>8248</td>\n",
       "    </tr>\n",
       "    <tr>\n",
       "      <th>2</th>\n",
       "      <td>Dark Blood</td>\n",
       "      <td>2012</td>\n",
       "      <td>86.0</td>\n",
       "      <td>[Thriller]</td>\n",
       "      <td>6.6</td>\n",
       "      <td>1053</td>\n",
       "    </tr>\n",
       "    <tr>\n",
       "      <th>3</th>\n",
       "      <td>Wazir</td>\n",
       "      <td>2016</td>\n",
       "      <td>103.0</td>\n",
       "      <td>[Action, Crime, Drama]</td>\n",
       "      <td>7.1</td>\n",
       "      <td>15378</td>\n",
       "    </tr>\n",
       "    <tr>\n",
       "      <th>4</th>\n",
       "      <td>The Wicker Tree</td>\n",
       "      <td>2011</td>\n",
       "      <td>96.0</td>\n",
       "      <td>[Drama, Horror]</td>\n",
       "      <td>3.9</td>\n",
       "      <td>2328</td>\n",
       "    </tr>\n",
       "  </tbody>\n",
       "</table>\n",
       "</div>"
      ],
      "text/plain": [
       "                    MovieName  StartYear  RunTime  \\\n",
       "0  The Other Side of the Wind       2018    122.0   \n",
       "1                  Foodfight!       2012     91.0   \n",
       "2                  Dark Blood       2012     86.0   \n",
       "3                       Wazir       2016    103.0   \n",
       "4             The Wicker Tree       2011     96.0   \n",
       "\n",
       "                         Genre  Rating  VoteCount  \n",
       "0                      [Drama]     6.9       4517  \n",
       "1  [Action, Animation, Comedy]     1.9       8248  \n",
       "2                   [Thriller]     6.6       1053  \n",
       "3       [Action, Crime, Drama]     7.1      15378  \n",
       "4              [Drama, Horror]     3.9       2328  "
      ]
     },
     "execution_count": 71,
     "metadata": {},
     "output_type": "execute_result"
    }
   ],
   "source": [
    "imdb2.head(5)\n",
    "#check it"
   ]
  },
  {
   "cell_type": "code",
   "execution_count": 72,
   "metadata": {},
   "outputs": [
    {
     "data": {
      "text/plain": [
       "2014    1187\n",
       "2015    1126\n",
       "2016    1114\n",
       "2013    1102\n",
       "2017    1086\n",
       "2012    1041\n",
       "2011     983\n",
       "2010     924\n",
       "2018     857\n",
       "2019     181\n",
       "Name: StartYear, dtype: int64"
      ]
     },
     "execution_count": 72,
     "metadata": {},
     "output_type": "execute_result"
    }
   ],
   "source": [
    "imdb2['StartYear'].value_counts()\n",
    "#Checking range of years for data"
   ]
  },
  {
   "cell_type": "code",
   "execution_count": 73,
   "metadata": {},
   "outputs": [],
   "source": [
    "imdbexp = imdb2.explode('Genre')\n",
    "#explode to separate all the genres"
   ]
  },
  {
   "cell_type": "code",
   "execution_count": 74,
   "metadata": {
    "scrolled": true
   },
   "outputs": [
    {
     "data": {
      "text/plain": [
       "Drama          5042\n",
       "Comedy         2997\n",
       "Action         1997\n",
       "Thriller       1796\n",
       "Romance        1347\n",
       "Crime          1317\n",
       "Horror         1314\n",
       "Adventure      1002\n",
       "Documentary     740\n",
       "Mystery         711\n",
       "Biography       701\n",
       "Sci-Fi          532\n",
       "Fantasy         463\n",
       "History         386\n",
       "Animation       376\n",
       "Music           283\n",
       "Family          283\n",
       "Sport           196\n",
       "War             163\n",
       "Musical          70\n",
       "Western          45\n",
       "News             18\n",
       "Game-Show         1\n",
       "Name: Genre, dtype: int64"
      ]
     },
     "execution_count": 74,
     "metadata": {},
     "output_type": "execute_result"
    }
   ],
   "source": [
    "imdbexp['Genre'].value_counts()"
   ]
  },
  {
   "cell_type": "code",
   "execution_count": 75,
   "metadata": {},
   "outputs": [
    {
     "data": {
      "text/plain": [
       "(21780, 6)"
      ]
     },
     "execution_count": 75,
     "metadata": {},
     "output_type": "execute_result"
    }
   ],
   "source": [
    "imdbexp.shape"
   ]
  },
  {
   "cell_type": "code",
   "execution_count": 76,
   "metadata": {
    "scrolled": true
   },
   "outputs": [
    {
     "data": {
      "text/html": [
       "<div>\n",
       "<style scoped>\n",
       "    .dataframe tbody tr th:only-of-type {\n",
       "        vertical-align: middle;\n",
       "    }\n",
       "\n",
       "    .dataframe tbody tr th {\n",
       "        vertical-align: top;\n",
       "    }\n",
       "\n",
       "    .dataframe thead th {\n",
       "        text-align: right;\n",
       "    }\n",
       "</style>\n",
       "<table border=\"1\" class=\"dataframe\">\n",
       "  <thead>\n",
       "    <tr style=\"text-align: right;\">\n",
       "      <th></th>\n",
       "      <th>MovieName</th>\n",
       "      <th>StartYear</th>\n",
       "      <th>RunTime</th>\n",
       "      <th>Genre</th>\n",
       "      <th>Rating</th>\n",
       "      <th>VoteCount</th>\n",
       "    </tr>\n",
       "  </thead>\n",
       "  <tbody>\n",
       "    <tr>\n",
       "      <th>7287</th>\n",
       "      <td>Spider-Man: Into the Spider-Verse</td>\n",
       "      <td>2018</td>\n",
       "      <td>117.0</td>\n",
       "      <td>Animation</td>\n",
       "      <td>8.5</td>\n",
       "      <td>210869</td>\n",
       "    </tr>\n",
       "    <tr>\n",
       "      <th>7951</th>\n",
       "      <td>Your Name.</td>\n",
       "      <td>2016</td>\n",
       "      <td>106.0</td>\n",
       "      <td>Animation</td>\n",
       "      <td>8.4</td>\n",
       "      <td>134084</td>\n",
       "    </tr>\n",
       "    <tr>\n",
       "      <th>4321</th>\n",
       "      <td>Coco</td>\n",
       "      <td>2017</td>\n",
       "      <td>105.0</td>\n",
       "      <td>Animation</td>\n",
       "      <td>8.4</td>\n",
       "      <td>277194</td>\n",
       "    </tr>\n",
       "    <tr>\n",
       "      <th>6845</th>\n",
       "      <td>Chaar Sahibzaade</td>\n",
       "      <td>2014</td>\n",
       "      <td>135.0</td>\n",
       "      <td>Animation</td>\n",
       "      <td>8.3</td>\n",
       "      <td>7451</td>\n",
       "    </tr>\n",
       "    <tr>\n",
       "      <th>31</th>\n",
       "      <td>Toy Story 3</td>\n",
       "      <td>2010</td>\n",
       "      <td>103.0</td>\n",
       "      <td>Animation</td>\n",
       "      <td>8.3</td>\n",
       "      <td>682218</td>\n",
       "    </tr>\n",
       "    <tr>\n",
       "      <th>4387</th>\n",
       "      <td>It's Such a Beautiful Day</td>\n",
       "      <td>2012</td>\n",
       "      <td>62.0</td>\n",
       "      <td>Animation</td>\n",
       "      <td>8.3</td>\n",
       "      <td>9099</td>\n",
       "    </tr>\n",
       "    <tr>\n",
       "      <th>8565</th>\n",
       "      <td>Batman &amp; Bill</td>\n",
       "      <td>2017</td>\n",
       "      <td>93.0</td>\n",
       "      <td>Animation</td>\n",
       "      <td>8.2</td>\n",
       "      <td>1014</td>\n",
       "    </tr>\n",
       "    <tr>\n",
       "      <th>7966</th>\n",
       "      <td>A Silent Voice</td>\n",
       "      <td>2016</td>\n",
       "      <td>130.0</td>\n",
       "      <td>Animation</td>\n",
       "      <td>8.2</td>\n",
       "      <td>24863</td>\n",
       "    </tr>\n",
       "    <tr>\n",
       "      <th>4295</th>\n",
       "      <td>Gintama the Movie: The Final Chapter - Be Fore...</td>\n",
       "      <td>2013</td>\n",
       "      <td>110.0</td>\n",
       "      <td>Animation</td>\n",
       "      <td>8.2</td>\n",
       "      <td>1402</td>\n",
       "    </tr>\n",
       "    <tr>\n",
       "      <th>3450</th>\n",
       "      <td>Inside Out</td>\n",
       "      <td>2015</td>\n",
       "      <td>95.0</td>\n",
       "      <td>Animation</td>\n",
       "      <td>8.2</td>\n",
       "      <td>536181</td>\n",
       "    </tr>\n",
       "    <tr>\n",
       "      <th>1460</th>\n",
       "      <td>The Disappearance of Haruhi Suzumiya</td>\n",
       "      <td>2010</td>\n",
       "      <td>163.0</td>\n",
       "      <td>Animation</td>\n",
       "      <td>8.1</td>\n",
       "      <td>5406</td>\n",
       "    </tr>\n",
       "    <tr>\n",
       "      <th>2771</th>\n",
       "      <td>Song of the Sea</td>\n",
       "      <td>2014</td>\n",
       "      <td>93.0</td>\n",
       "      <td>Animation</td>\n",
       "      <td>8.1</td>\n",
       "      <td>43966</td>\n",
       "    </tr>\n",
       "    <tr>\n",
       "      <th>174</th>\n",
       "      <td>How to Train Your Dragon</td>\n",
       "      <td>2010</td>\n",
       "      <td>98.0</td>\n",
       "      <td>Animation</td>\n",
       "      <td>8.1</td>\n",
       "      <td>611299</td>\n",
       "    </tr>\n",
       "    <tr>\n",
       "      <th>3595</th>\n",
       "      <td>Wolf Children</td>\n",
       "      <td>2012</td>\n",
       "      <td>117.0</td>\n",
       "      <td>Animation</td>\n",
       "      <td>8.1</td>\n",
       "      <td>31619</td>\n",
       "    </tr>\n",
       "    <tr>\n",
       "      <th>3746</th>\n",
       "      <td>Puella Magi Madoka Magica the Movie Part 2: Et...</td>\n",
       "      <td>2012</td>\n",
       "      <td>109.0</td>\n",
       "      <td>Animation</td>\n",
       "      <td>8.0</td>\n",
       "      <td>1038</td>\n",
       "    </tr>\n",
       "    <tr>\n",
       "      <th>4298</th>\n",
       "      <td>One Piece Film Z</td>\n",
       "      <td>2012</td>\n",
       "      <td>108.0</td>\n",
       "      <td>Animation</td>\n",
       "      <td>8.0</td>\n",
       "      <td>4967</td>\n",
       "    </tr>\n",
       "    <tr>\n",
       "      <th>7770</th>\n",
       "      <td>Tower</td>\n",
       "      <td>2016</td>\n",
       "      <td>82.0</td>\n",
       "      <td>Animation</td>\n",
       "      <td>8.0</td>\n",
       "      <td>6552</td>\n",
       "    </tr>\n",
       "    <tr>\n",
       "      <th>9426</th>\n",
       "      <td>Dragon Ball Super: Broly</td>\n",
       "      <td>2018</td>\n",
       "      <td>100.0</td>\n",
       "      <td>Animation</td>\n",
       "      <td>8.0</td>\n",
       "      <td>16465</td>\n",
       "    </tr>\n",
       "    <tr>\n",
       "      <th>5211</th>\n",
       "      <td>Zootopia</td>\n",
       "      <td>2016</td>\n",
       "      <td>108.0</td>\n",
       "      <td>Animation</td>\n",
       "      <td>8.0</td>\n",
       "      <td>383446</td>\n",
       "    </tr>\n",
       "    <tr>\n",
       "      <th>4741</th>\n",
       "      <td>The Tale of The Princess Kaguya</td>\n",
       "      <td>2013</td>\n",
       "      <td>137.0</td>\n",
       "      <td>Animation</td>\n",
       "      <td>8.0</td>\n",
       "      <td>29108</td>\n",
       "    </tr>\n",
       "  </tbody>\n",
       "</table>\n",
       "</div>"
      ],
      "text/plain": [
       "                                              MovieName  StartYear  RunTime  \\\n",
       "7287                  Spider-Man: Into the Spider-Verse       2018    117.0   \n",
       "7951                                         Your Name.       2016    106.0   \n",
       "4321                                               Coco       2017    105.0   \n",
       "6845                                   Chaar Sahibzaade       2014    135.0   \n",
       "31                                          Toy Story 3       2010    103.0   \n",
       "4387                          It's Such a Beautiful Day       2012     62.0   \n",
       "8565                                      Batman & Bill       2017     93.0   \n",
       "7966                                     A Silent Voice       2016    130.0   \n",
       "4295  Gintama the Movie: The Final Chapter - Be Fore...       2013    110.0   \n",
       "3450                                         Inside Out       2015     95.0   \n",
       "1460               The Disappearance of Haruhi Suzumiya       2010    163.0   \n",
       "2771                                    Song of the Sea       2014     93.0   \n",
       "174                            How to Train Your Dragon       2010     98.0   \n",
       "3595                                      Wolf Children       2012    117.0   \n",
       "3746  Puella Magi Madoka Magica the Movie Part 2: Et...       2012    109.0   \n",
       "4298                                   One Piece Film Z       2012    108.0   \n",
       "7770                                              Tower       2016     82.0   \n",
       "9426                           Dragon Ball Super: Broly       2018    100.0   \n",
       "5211                                           Zootopia       2016    108.0   \n",
       "4741                    The Tale of The Princess Kaguya       2013    137.0   \n",
       "\n",
       "          Genre  Rating  VoteCount  \n",
       "7287  Animation     8.5     210869  \n",
       "7951  Animation     8.4     134084  \n",
       "4321  Animation     8.4     277194  \n",
       "6845  Animation     8.3       7451  \n",
       "31    Animation     8.3     682218  \n",
       "4387  Animation     8.3       9099  \n",
       "8565  Animation     8.2       1014  \n",
       "7966  Animation     8.2      24863  \n",
       "4295  Animation     8.2       1402  \n",
       "3450  Animation     8.2     536181  \n",
       "1460  Animation     8.1       5406  \n",
       "2771  Animation     8.1      43966  \n",
       "174   Animation     8.1     611299  \n",
       "3595  Animation     8.1      31619  \n",
       "3746  Animation     8.0       1038  \n",
       "4298  Animation     8.0       4967  \n",
       "7770  Animation     8.0       6552  \n",
       "9426  Animation     8.0      16465  \n",
       "5211  Animation     8.0     383446  \n",
       "4741  Animation     8.0      29108  "
      ]
     },
     "execution_count": 76,
     "metadata": {},
     "output_type": "execute_result"
    }
   ],
   "source": [
    "imdbexpg = imdbexp.loc[imdbexp['Genre'] == 'Animation'].sort_values('Rating',ascending=False)\n",
    "imdbexpg.head(20)"
   ]
  },
  {
   "cell_type": "code",
   "execution_count": 77,
   "metadata": {
    "scrolled": true
   },
   "outputs": [
    {
     "data": {
      "text/html": [
       "<div>\n",
       "<style scoped>\n",
       "    .dataframe tbody tr th:only-of-type {\n",
       "        vertical-align: middle;\n",
       "    }\n",
       "\n",
       "    .dataframe tbody tr th {\n",
       "        vertical-align: top;\n",
       "    }\n",
       "\n",
       "    .dataframe thead th {\n",
       "        text-align: right;\n",
       "    }\n",
       "</style>\n",
       "<table border=\"1\" class=\"dataframe\">\n",
       "  <thead>\n",
       "    <tr style=\"text-align: right;\">\n",
       "      <th></th>\n",
       "      <th>MovieName</th>\n",
       "      <th>StartYear</th>\n",
       "      <th>RunTime</th>\n",
       "      <th>Genre</th>\n",
       "      <th>Rating</th>\n",
       "      <th>VoteCount</th>\n",
       "    </tr>\n",
       "  </thead>\n",
       "  <tbody>\n",
       "    <tr>\n",
       "      <th>0</th>\n",
       "      <td>The Other Side of the Wind</td>\n",
       "      <td>2018</td>\n",
       "      <td>122.0</td>\n",
       "      <td>Drama</td>\n",
       "      <td>6.9</td>\n",
       "      <td>4517</td>\n",
       "    </tr>\n",
       "    <tr>\n",
       "      <th>1</th>\n",
       "      <td>Foodfight!</td>\n",
       "      <td>2012</td>\n",
       "      <td>91.0</td>\n",
       "      <td>Action</td>\n",
       "      <td>1.9</td>\n",
       "      <td>8248</td>\n",
       "    </tr>\n",
       "    <tr>\n",
       "      <th>1</th>\n",
       "      <td>Foodfight!</td>\n",
       "      <td>2012</td>\n",
       "      <td>91.0</td>\n",
       "      <td>Animation</td>\n",
       "      <td>1.9</td>\n",
       "      <td>8248</td>\n",
       "    </tr>\n",
       "    <tr>\n",
       "      <th>1</th>\n",
       "      <td>Foodfight!</td>\n",
       "      <td>2012</td>\n",
       "      <td>91.0</td>\n",
       "      <td>Comedy</td>\n",
       "      <td>1.9</td>\n",
       "      <td>8248</td>\n",
       "    </tr>\n",
       "    <tr>\n",
       "      <th>2</th>\n",
       "      <td>Dark Blood</td>\n",
       "      <td>2012</td>\n",
       "      <td>86.0</td>\n",
       "      <td>Thriller</td>\n",
       "      <td>6.6</td>\n",
       "      <td>1053</td>\n",
       "    </tr>\n",
       "  </tbody>\n",
       "</table>\n",
       "</div>"
      ],
      "text/plain": [
       "                    MovieName  StartYear  RunTime      Genre  Rating  \\\n",
       "0  The Other Side of the Wind       2018    122.0      Drama     6.9   \n",
       "1                  Foodfight!       2012     91.0     Action     1.9   \n",
       "1                  Foodfight!       2012     91.0  Animation     1.9   \n",
       "1                  Foodfight!       2012     91.0     Comedy     1.9   \n",
       "2                  Dark Blood       2012     86.0   Thriller     6.6   \n",
       "\n",
       "   VoteCount  \n",
       "0       4517  \n",
       "1       8248  \n",
       "1       8248  \n",
       "1       8248  \n",
       "2       1053  "
      ]
     },
     "execution_count": 77,
     "metadata": {},
     "output_type": "execute_result"
    }
   ],
   "source": [
    "imdbexp.head(5)\n",
    "#check it"
   ]
  },
  {
   "cell_type": "code",
   "execution_count": 78,
   "metadata": {},
   "outputs": [
    {
     "name": "stdout",
     "output_type": "stream",
     "text": [
      "<class 'pandas.core.frame.DataFrame'>\n",
      "Int64Index: 21780 entries, 0 to 9600\n",
      "Data columns (total 6 columns):\n",
      " #   Column     Non-Null Count  Dtype  \n",
      "---  ------     --------------  -----  \n",
      " 0   MovieName  21780 non-null  object \n",
      " 1   StartYear  21780 non-null  int64  \n",
      " 2   RunTime    21780 non-null  float64\n",
      " 3   Genre      21780 non-null  object \n",
      " 4   Rating     21780 non-null  float64\n",
      " 5   VoteCount  21780 non-null  int64  \n",
      "dtypes: float64(2), int64(2), object(2)\n",
      "memory usage: 1.2+ MB\n"
     ]
    }
   ],
   "source": [
    "imdbexp.info()\n",
    "#no nulls nice"
   ]
  },
  {
   "cell_type": "code",
   "execution_count": 79,
   "metadata": {},
   "outputs": [
    {
     "data": {
      "text/html": [
       "<div>\n",
       "<style scoped>\n",
       "    .dataframe tbody tr th:only-of-type {\n",
       "        vertical-align: middle;\n",
       "    }\n",
       "\n",
       "    .dataframe tbody tr th {\n",
       "        vertical-align: top;\n",
       "    }\n",
       "\n",
       "    .dataframe thead th {\n",
       "        text-align: right;\n",
       "    }\n",
       "</style>\n",
       "<table border=\"1\" class=\"dataframe\">\n",
       "  <thead>\n",
       "    <tr style=\"text-align: right;\">\n",
       "      <th></th>\n",
       "      <th>MovieYear</th>\n",
       "      <th>MovieName</th>\n",
       "      <th>AvgRating</th>\n",
       "      <th>Name</th>\n",
       "      <th>Genre</th>\n",
       "      <th>Job</th>\n",
       "    </tr>\n",
       "  </thead>\n",
       "  <tbody>\n",
       "    <tr>\n",
       "      <th>0</th>\n",
       "      <td>2010</td>\n",
       "      <td>Caught in the Crossfire</td>\n",
       "      <td>4.5</td>\n",
       "      <td>50 Cent</td>\n",
       "      <td>Action,Crime,Thriller</td>\n",
       "      <td>actor</td>\n",
       "    </tr>\n",
       "    <tr>\n",
       "      <th>1</th>\n",
       "      <td>2010</td>\n",
       "      <td>Gun</td>\n",
       "      <td>3.8</td>\n",
       "      <td>50 Cent</td>\n",
       "      <td>Action,Crime,Thriller</td>\n",
       "      <td>actor</td>\n",
       "    </tr>\n",
       "    <tr>\n",
       "      <th>2</th>\n",
       "      <td>2011</td>\n",
       "      <td>All Things Fall Apart</td>\n",
       "      <td>5.5</td>\n",
       "      <td>50 Cent</td>\n",
       "      <td>Drama,Sport</td>\n",
       "      <td>actor</td>\n",
       "    </tr>\n",
       "    <tr>\n",
       "      <th>3</th>\n",
       "      <td>2011</td>\n",
       "      <td>Setup</td>\n",
       "      <td>4.4</td>\n",
       "      <td>50 Cent</td>\n",
       "      <td>Action,Crime,Drama</td>\n",
       "      <td>actor</td>\n",
       "    </tr>\n",
       "    <tr>\n",
       "      <th>4</th>\n",
       "      <td>2012</td>\n",
       "      <td>Freelancers</td>\n",
       "      <td>4.6</td>\n",
       "      <td>50 Cent</td>\n",
       "      <td>Action,Crime,Drama</td>\n",
       "      <td>actor</td>\n",
       "    </tr>\n",
       "    <tr>\n",
       "      <th>5</th>\n",
       "      <td>2013</td>\n",
       "      <td>Escape Plan</td>\n",
       "      <td>6.7</td>\n",
       "      <td>50 Cent</td>\n",
       "      <td>Action,Crime,Mystery</td>\n",
       "      <td>actor</td>\n",
       "    </tr>\n",
       "    <tr>\n",
       "      <th>6</th>\n",
       "      <td>2018</td>\n",
       "      <td>Den of Thieves</td>\n",
       "      <td>7.0</td>\n",
       "      <td>50 Cent</td>\n",
       "      <td>Action,Crime,Drama</td>\n",
       "      <td>actor</td>\n",
       "    </tr>\n",
       "    <tr>\n",
       "      <th>7</th>\n",
       "      <td>2010</td>\n",
       "      <td>Darling</td>\n",
       "      <td>7.3</td>\n",
       "      <td>A. Karunakaran</td>\n",
       "      <td>Comedy,Drama,Romance</td>\n",
       "      <td>director</td>\n",
       "    </tr>\n",
       "    <tr>\n",
       "      <th>8</th>\n",
       "      <td>2016</td>\n",
       "      <td>Phantasm: Ravager</td>\n",
       "      <td>5.1</td>\n",
       "      <td>A. Michael Baldwin</td>\n",
       "      <td>Action,Fantasy,Horror</td>\n",
       "      <td>actor</td>\n",
       "    </tr>\n",
       "    <tr>\n",
       "      <th>9</th>\n",
       "      <td>2015</td>\n",
       "      <td>Ask Sana Benzer</td>\n",
       "      <td>3.8</td>\n",
       "      <td>A. Taner Elhan</td>\n",
       "      <td>Drama</td>\n",
       "      <td>director</td>\n",
       "    </tr>\n",
       "  </tbody>\n",
       "</table>\n",
       "</div>"
      ],
      "text/plain": [
       "   MovieYear                MovieName  AvgRating                Name  \\\n",
       "0       2010  Caught in the Crossfire        4.5             50 Cent   \n",
       "1       2010                      Gun        3.8             50 Cent   \n",
       "2       2011    All Things Fall Apart        5.5             50 Cent   \n",
       "3       2011                    Setup        4.4             50 Cent   \n",
       "4       2012              Freelancers        4.6             50 Cent   \n",
       "5       2013              Escape Plan        6.7             50 Cent   \n",
       "6       2018           Den of Thieves        7.0             50 Cent   \n",
       "7       2010                  Darling        7.3      A. Karunakaran   \n",
       "8       2016        Phantasm: Ravager        5.1  A. Michael Baldwin   \n",
       "9       2015          Ask Sana Benzer        3.8      A. Taner Elhan   \n",
       "\n",
       "                   Genre       Job  \n",
       "0  Action,Crime,Thriller     actor  \n",
       "1  Action,Crime,Thriller     actor  \n",
       "2            Drama,Sport     actor  \n",
       "3     Action,Crime,Drama     actor  \n",
       "4     Action,Crime,Drama     actor  \n",
       "5   Action,Crime,Mystery     actor  \n",
       "6     Action,Crime,Drama     actor  \n",
       "7   Comedy,Drama,Romance  director  \n",
       "8  Action,Fantasy,Horror     actor  \n",
       "9                  Drama  director  "
      ]
     },
     "execution_count": 79,
     "metadata": {},
     "output_type": "execute_result"
    }
   ],
   "source": [
    "imdb_work = pd.read_sql(\n",
    "'''\n",
    "SELECT\n",
    "    mb.start_year as MovieYear,\n",
    "    mb.primary_title as MovieName,\n",
    "    mr.averagerating as AvgRating,\n",
    "    job.primary_name as Name,\n",
    "    genres as Genre,\n",
    "    job.category as Job\n",
    "FROM\n",
    "    (SELECT\n",
    "        pri.movie_id,\n",
    "        per.primary_name,\n",
    "        pri.category\n",
    "            FROM\n",
    "        principals as pri\n",
    "            LEFT JOIN persons as per\n",
    "            ON pri.person_id = per.person_id\n",
    "    WHERE\n",
    "        (pri.category = 'actor'\n",
    "        OR\n",
    "        pri.category = 'actress'\n",
    "        or\n",
    "        pri.category = 'director')\n",
    "        AND\n",
    "        per.death_year is null\n",
    "        AND\n",
    "        per.primary_name is not null) as job\n",
    "    LEFT JOIN movie_basics as mb\n",
    "        ON job.movie_id = mb.movie_id\n",
    "    LEFT JOIN movie_ratings as mr\n",
    "        on job.movie_id = mr.movie_id\n",
    "WHERE\n",
    "    mr.numvotes > 1000\n",
    "    AND\n",
    "    averagerating is not null\n",
    "    AND\n",
    "    start_year >= 2010\n",
    "    and \n",
    "    runtime_minutes is not null\n",
    "    and\n",
    "    genres is not null\n",
    "ORDER BY\n",
    "    job.primary_name,\n",
    "    mb.start_year\n",
    "''',\n",
    "conn\n",
    ")\n",
    "imdb_work.head(10)\n",
    "#This ensures actors or actresses with more than enough experience on an average rating\n",
    "#this is only for names"
   ]
  },
  {
   "cell_type": "code",
   "execution_count": 80,
   "metadata": {},
   "outputs": [],
   "source": [
    "imdb_workaction = imdb_work.loc[imdb_work['Genre'].str.contains('Action')]"
   ]
  },
  {
   "cell_type": "code",
   "execution_count": 81,
   "metadata": {},
   "outputs": [],
   "source": [
    "imdb_workh = imdb_work.loc[imdb_work['Genre'].str.contains('Horror')]"
   ]
  },
  {
   "cell_type": "code",
   "execution_count": 82,
   "metadata": {},
   "outputs": [
    {
     "data": {
      "text/html": [
       "<div>\n",
       "<style scoped>\n",
       "    .dataframe tbody tr th:only-of-type {\n",
       "        vertical-align: middle;\n",
       "    }\n",
       "\n",
       "    .dataframe tbody tr th {\n",
       "        vertical-align: top;\n",
       "    }\n",
       "\n",
       "    .dataframe thead th {\n",
       "        text-align: right;\n",
       "    }\n",
       "</style>\n",
       "<table border=\"1\" class=\"dataframe\">\n",
       "  <thead>\n",
       "    <tr style=\"text-align: right;\">\n",
       "      <th></th>\n",
       "      <th>MovieYear</th>\n",
       "      <th>MovieName</th>\n",
       "      <th>AvgRating</th>\n",
       "      <th>Name</th>\n",
       "      <th>Genre</th>\n",
       "      <th>Job</th>\n",
       "    </tr>\n",
       "  </thead>\n",
       "  <tbody>\n",
       "    <tr>\n",
       "      <th>0</th>\n",
       "      <td>2010</td>\n",
       "      <td>Caught in the Crossfire</td>\n",
       "      <td>4.5</td>\n",
       "      <td>50 Cent</td>\n",
       "      <td>Action,Crime,Thriller</td>\n",
       "      <td>actor</td>\n",
       "    </tr>\n",
       "    <tr>\n",
       "      <th>1</th>\n",
       "      <td>2010</td>\n",
       "      <td>Gun</td>\n",
       "      <td>3.8</td>\n",
       "      <td>50 Cent</td>\n",
       "      <td>Action,Crime,Thriller</td>\n",
       "      <td>actor</td>\n",
       "    </tr>\n",
       "  </tbody>\n",
       "</table>\n",
       "</div>"
      ],
      "text/plain": [
       "   MovieYear                MovieName  AvgRating     Name  \\\n",
       "0       2010  Caught in the Crossfire        4.5  50 Cent   \n",
       "1       2010                      Gun        3.8  50 Cent   \n",
       "\n",
       "                   Genre    Job  \n",
       "0  Action,Crime,Thriller  actor  \n",
       "1  Action,Crime,Thriller  actor  "
      ]
     },
     "execution_count": 82,
     "metadata": {},
     "output_type": "execute_result"
    }
   ],
   "source": [
    "imdb_workaction.head(2)"
   ]
  },
  {
   "cell_type": "code",
   "execution_count": 83,
   "metadata": {},
   "outputs": [
    {
     "data": {
      "text/plain": [
       "(10100, 6)"
      ]
     },
     "execution_count": 83,
     "metadata": {},
     "output_type": "execute_result"
    }
   ],
   "source": [
    "imdb_workaction.shape"
   ]
  },
  {
   "cell_type": "code",
   "execution_count": 84,
   "metadata": {},
   "outputs": [
    {
     "data": {
      "text/html": [
       "<div>\n",
       "<style scoped>\n",
       "    .dataframe tbody tr th:only-of-type {\n",
       "        vertical-align: middle;\n",
       "    }\n",
       "\n",
       "    .dataframe tbody tr th {\n",
       "        vertical-align: top;\n",
       "    }\n",
       "\n",
       "    .dataframe thead th {\n",
       "        text-align: right;\n",
       "    }\n",
       "</style>\n",
       "<table border=\"1\" class=\"dataframe\">\n",
       "  <thead>\n",
       "    <tr style=\"text-align: right;\">\n",
       "      <th></th>\n",
       "      <th>MovieYear</th>\n",
       "      <th>MovieName</th>\n",
       "      <th>AvgRating</th>\n",
       "      <th>Name</th>\n",
       "      <th>Genre</th>\n",
       "      <th>Job</th>\n",
       "    </tr>\n",
       "  </thead>\n",
       "  <tbody>\n",
       "    <tr>\n",
       "      <th>8</th>\n",
       "      <td>2016</td>\n",
       "      <td>Phantasm: Ravager</td>\n",
       "      <td>5.1</td>\n",
       "      <td>A. Michael Baldwin</td>\n",
       "      <td>Action,Fantasy,Horror</td>\n",
       "      <td>actor</td>\n",
       "    </tr>\n",
       "    <tr>\n",
       "      <th>14</th>\n",
       "      <td>2016</td>\n",
       "      <td>The Stakelander</td>\n",
       "      <td>5.3</td>\n",
       "      <td>A.C. Peterson</td>\n",
       "      <td>Action,Drama,Horror</td>\n",
       "      <td>actor</td>\n",
       "    </tr>\n",
       "  </tbody>\n",
       "</table>\n",
       "</div>"
      ],
      "text/plain": [
       "    MovieYear          MovieName  AvgRating                Name  \\\n",
       "8        2016  Phantasm: Ravager        5.1  A. Michael Baldwin   \n",
       "14       2016    The Stakelander        5.3       A.C. Peterson   \n",
       "\n",
       "                    Genre    Job  \n",
       "8   Action,Fantasy,Horror  actor  \n",
       "14    Action,Drama,Horror  actor  "
      ]
     },
     "execution_count": 84,
     "metadata": {},
     "output_type": "execute_result"
    }
   ],
   "source": [
    "imdb_workh.head(2)"
   ]
  },
  {
   "cell_type": "code",
   "execution_count": 85,
   "metadata": {},
   "outputs": [
    {
     "data": {
      "text/plain": [
       "(6716, 6)"
      ]
     },
     "execution_count": 85,
     "metadata": {},
     "output_type": "execute_result"
    }
   ],
   "source": [
    "imdb_workh.shape"
   ]
  },
  {
   "cell_type": "code",
   "execution_count": 86,
   "metadata": {},
   "outputs": [
    {
     "data": {
      "text/plain": [
       "0.8258218959300295"
      ]
     },
     "execution_count": 86,
     "metadata": {},
     "output_type": "execute_result"
    }
   ],
   "source": [
    "imdb_work.loc[imdb_work['Name'] == '50 Cent']['MovieYear'].corr(imdb_work.loc[imdb_work['Name'] == '50 Cent']['AvgRating'])\n",
    "#testing code for correlation"
   ]
  },
  {
   "cell_type": "code",
   "execution_count": 87,
   "metadata": {},
   "outputs": [
    {
     "data": {
      "text/html": [
       "<div>\n",
       "<style scoped>\n",
       "    .dataframe tbody tr th:only-of-type {\n",
       "        vertical-align: middle;\n",
       "    }\n",
       "\n",
       "    .dataframe tbody tr th {\n",
       "        vertical-align: top;\n",
       "    }\n",
       "\n",
       "    .dataframe thead th {\n",
       "        text-align: right;\n",
       "    }\n",
       "</style>\n",
       "<table border=\"1\" class=\"dataframe\">\n",
       "  <thead>\n",
       "    <tr style=\"text-align: right;\">\n",
       "      <th></th>\n",
       "      <th>Name</th>\n",
       "      <th>Job</th>\n",
       "      <th>Genre</th>\n",
       "      <th>Rating</th>\n",
       "    </tr>\n",
       "  </thead>\n",
       "  <tbody>\n",
       "    <tr>\n",
       "      <th>0</th>\n",
       "      <td>Achyuth Kumar</td>\n",
       "      <td>actor</td>\n",
       "      <td>Drama,Romance,Sci-Fi</td>\n",
       "      <td>8.300000</td>\n",
       "    </tr>\n",
       "    <tr>\n",
       "      <th>1</th>\n",
       "      <td>Anjali</td>\n",
       "      <td>actress</td>\n",
       "      <td>Drama</td>\n",
       "      <td>8.120000</td>\n",
       "    </tr>\n",
       "    <tr>\n",
       "      <th>2</th>\n",
       "      <td>Leonardo DiCaprio</td>\n",
       "      <td>actor</td>\n",
       "      <td>Biography,Crime,Drama</td>\n",
       "      <td>8.088889</td>\n",
       "    </tr>\n",
       "    <tr>\n",
       "      <th>3</th>\n",
       "      <td>Sreenivasan</td>\n",
       "      <td>actor</td>\n",
       "      <td>Action,Adventure,Mystery</td>\n",
       "      <td>8.000000</td>\n",
       "    </tr>\n",
       "    <tr>\n",
       "      <th>4</th>\n",
       "      <td>Radha Ravi</td>\n",
       "      <td>actor</td>\n",
       "      <td>Comedy,Crime,Thriller</td>\n",
       "      <td>7.983333</td>\n",
       "    </tr>\n",
       "  </tbody>\n",
       "</table>\n",
       "</div>"
      ],
      "text/plain": [
       "                Name      Job                     Genre    Rating\n",
       "0      Achyuth Kumar    actor      Drama,Romance,Sci-Fi  8.300000\n",
       "1             Anjali  actress                     Drama  8.120000\n",
       "2  Leonardo DiCaprio    actor     Biography,Crime,Drama  8.088889\n",
       "3        Sreenivasan    actor  Action,Adventure,Mystery  8.000000\n",
       "4         Radha Ravi    actor     Comedy,Crime,Thriller  7.983333"
      ]
     },
     "execution_count": 87,
     "metadata": {},
     "output_type": "execute_result"
    }
   ],
   "source": [
    "imdb_names = pd.read_sql(\n",
    "'''\n",
    "SELECT\n",
    "    job.primary_name as Name,\n",
    "    job.category as Job,\n",
    "    genres as Genre,\n",
    "    AVG(mr.averagerating) as Rating\n",
    "FROM\n",
    "    (SELECT\n",
    "        pri.movie_id,\n",
    "        per.primary_name,\n",
    "        pri.category\n",
    "            FROM\n",
    "        principals as pri\n",
    "            LEFT JOIN persons as per\n",
    "            ON pri.person_id = per.person_id\n",
    "    WHERE\n",
    "        (pri.category = 'actor'\n",
    "        OR\n",
    "        pri.category = 'actress'\n",
    "        or\n",
    "        pri.category = 'director')\n",
    "        AND\n",
    "        per.death_year is null\n",
    "        AND\n",
    "        per.primary_name is not null) as job\n",
    "    LEFT JOIN movie_basics as mb\n",
    "        ON job.movie_id = mb.movie_id\n",
    "    LEFT JOIN movie_ratings as mr\n",
    "        on job.movie_id = mr.movie_id\n",
    "WHERE\n",
    "    mr.numvotes > 1000\n",
    "    AND\n",
    "    averagerating is not null\n",
    "    AND\n",
    "    start_year >= 2010\n",
    "    and \n",
    "    runtime_minutes is not null\n",
    "    and\n",
    "    genres is not null\n",
    "GROUP BY\n",
    "    job.primary_name\n",
    "HAVING\n",
    "    count(mr.averagerating) > 4\n",
    "ORDER BY\n",
    "    AVG(mr.averagerating) DESC\n",
    "''',\n",
    "conn\n",
    ")\n",
    "imdb_names.head()\n",
    "#This ensures actors or actresses with more than enough experience on an average rating\n",
    "#this is only for names for all genres with a count above 5"
   ]
  },
  {
   "cell_type": "code",
   "execution_count": 88,
   "metadata": {},
   "outputs": [
    {
     "data": {
      "text/html": [
       "<div>\n",
       "<style scoped>\n",
       "    .dataframe tbody tr th:only-of-type {\n",
       "        vertical-align: middle;\n",
       "    }\n",
       "\n",
       "    .dataframe tbody tr th {\n",
       "        vertical-align: top;\n",
       "    }\n",
       "\n",
       "    .dataframe thead th {\n",
       "        text-align: right;\n",
       "    }\n",
       "</style>\n",
       "<table border=\"1\" class=\"dataframe\">\n",
       "  <thead>\n",
       "    <tr style=\"text-align: right;\">\n",
       "      <th></th>\n",
       "      <th>Name</th>\n",
       "      <th>Job</th>\n",
       "      <th>Genre</th>\n",
       "      <th>Rating</th>\n",
       "    </tr>\n",
       "  </thead>\n",
       "  <tbody>\n",
       "    <tr>\n",
       "      <th>0</th>\n",
       "      <td>Fahadh Faasil</td>\n",
       "      <td>actor</td>\n",
       "      <td>Action,Adventure,Drama</td>\n",
       "      <td>7.960000</td>\n",
       "    </tr>\n",
       "    <tr>\n",
       "      <th>1</th>\n",
       "      <td>Mark Ruffalo</td>\n",
       "      <td>actor</td>\n",
       "      <td>Action,Adventure,Sci-Fi</td>\n",
       "      <td>7.800000</td>\n",
       "    </tr>\n",
       "    <tr>\n",
       "      <th>2</th>\n",
       "      <td>Robert Downey Jr.</td>\n",
       "      <td>actor</td>\n",
       "      <td>Action,Adventure,Sci-Fi</td>\n",
       "      <td>7.744444</td>\n",
       "    </tr>\n",
       "    <tr>\n",
       "      <th>3</th>\n",
       "      <td>Vijay Sethupathi</td>\n",
       "      <td>actor</td>\n",
       "      <td>Action,Comedy,Romance</td>\n",
       "      <td>7.700000</td>\n",
       "    </tr>\n",
       "    <tr>\n",
       "      <th>4</th>\n",
       "      <td>Chris Evans</td>\n",
       "      <td>actor</td>\n",
       "      <td>Action,Adventure,Sci-Fi</td>\n",
       "      <td>7.633333</td>\n",
       "    </tr>\n",
       "  </tbody>\n",
       "</table>\n",
       "</div>"
      ],
      "text/plain": [
       "                Name    Job                    Genre    Rating\n",
       "0      Fahadh Faasil  actor   Action,Adventure,Drama  7.960000\n",
       "1       Mark Ruffalo  actor  Action,Adventure,Sci-Fi  7.800000\n",
       "2  Robert Downey Jr.  actor  Action,Adventure,Sci-Fi  7.744444\n",
       "3   Vijay Sethupathi  actor    Action,Comedy,Romance  7.700000\n",
       "4        Chris Evans  actor  Action,Adventure,Sci-Fi  7.633333"
      ]
     },
     "execution_count": 88,
     "metadata": {},
     "output_type": "execute_result"
    }
   ],
   "source": [
    "imdb_namesaction = pd.read_sql(\n",
    "'''\n",
    "SELECT\n",
    "    job.primary_name as Name,\n",
    "    job.category as Job,\n",
    "    genres as Genre,\n",
    "    AVG(mr.averagerating) as Rating\n",
    "FROM\n",
    "    (SELECT\n",
    "        pri.movie_id,\n",
    "        per.primary_name,\n",
    "        pri.category\n",
    "            FROM\n",
    "        principals as pri\n",
    "            LEFT JOIN persons as per\n",
    "            ON pri.person_id = per.person_id\n",
    "    WHERE\n",
    "        (pri.category = 'actor'\n",
    "        OR\n",
    "        pri.category = 'actress'\n",
    "        or\n",
    "        pri.category = 'director')\n",
    "        AND\n",
    "        per.death_year is null\n",
    "        AND\n",
    "        per.primary_name is not null) as job\n",
    "    LEFT JOIN movie_basics as mb\n",
    "        ON job.movie_id = mb.movie_id\n",
    "    LEFT JOIN movie_ratings as mr\n",
    "        on job.movie_id = mr.movie_id\n",
    "WHERE\n",
    "    mr.numvotes > 1000\n",
    "    AND\n",
    "    averagerating is not null\n",
    "    AND\n",
    "    start_year >= 2010\n",
    "    and \n",
    "    runtime_minutes is not null\n",
    "    and\n",
    "    genres like '%Action%'\n",
    "GROUP BY\n",
    "    job.primary_name\n",
    "HAVING\n",
    "    count(mr.averagerating) > 4\n",
    "ORDER BY\n",
    "    AVG(mr.averagerating) DESC\n",
    "''',\n",
    "conn\n",
    ")\n",
    "imdb_namesaction.head()\n",
    "#This ensures actors or actresses with more than enough experience on an average rating\n",
    "#this is only for names, this is for action only"
   ]
  },
  {
   "cell_type": "code",
   "execution_count": 89,
   "metadata": {},
   "outputs": [
    {
     "data": {
      "text/html": [
       "<div>\n",
       "<style scoped>\n",
       "    .dataframe tbody tr th:only-of-type {\n",
       "        vertical-align: middle;\n",
       "    }\n",
       "\n",
       "    .dataframe tbody tr th {\n",
       "        vertical-align: top;\n",
       "    }\n",
       "\n",
       "    .dataframe thead th {\n",
       "        text-align: right;\n",
       "    }\n",
       "</style>\n",
       "<table border=\"1\" class=\"dataframe\">\n",
       "  <thead>\n",
       "    <tr style=\"text-align: right;\">\n",
       "      <th></th>\n",
       "      <th>Name</th>\n",
       "      <th>Job</th>\n",
       "      <th>Genre</th>\n",
       "      <th>Rating</th>\n",
       "    </tr>\n",
       "  </thead>\n",
       "  <tbody>\n",
       "    <tr>\n",
       "      <th>0</th>\n",
       "      <td>Patrick Wilson</td>\n",
       "      <td>actor</td>\n",
       "      <td>Horror,Mystery,Thriller</td>\n",
       "      <td>7.100</td>\n",
       "    </tr>\n",
       "    <tr>\n",
       "      <th>1</th>\n",
       "      <td>James Wan</td>\n",
       "      <td>director</td>\n",
       "      <td>Horror,Mystery,Thriller</td>\n",
       "      <td>7.100</td>\n",
       "    </tr>\n",
       "    <tr>\n",
       "      <th>2</th>\n",
       "      <td>Anya Taylor-Joy</td>\n",
       "      <td>actress</td>\n",
       "      <td>Horror,Mystery</td>\n",
       "      <td>6.625</td>\n",
       "    </tr>\n",
       "    <tr>\n",
       "      <th>3</th>\n",
       "      <td>Shôta Sometani</td>\n",
       "      <td>actor</td>\n",
       "      <td>Horror,Thriller</td>\n",
       "      <td>6.575</td>\n",
       "    </tr>\n",
       "    <tr>\n",
       "      <th>4</th>\n",
       "      <td>Alper Mestçi</td>\n",
       "      <td>director</td>\n",
       "      <td>Horror</td>\n",
       "      <td>6.440</td>\n",
       "    </tr>\n",
       "  </tbody>\n",
       "</table>\n",
       "</div>"
      ],
      "text/plain": [
       "              Name       Job                    Genre  Rating\n",
       "0   Patrick Wilson     actor  Horror,Mystery,Thriller   7.100\n",
       "1        James Wan  director  Horror,Mystery,Thriller   7.100\n",
       "2  Anya Taylor-Joy   actress           Horror,Mystery   6.625\n",
       "3   Shôta Sometani     actor          Horror,Thriller   6.575\n",
       "4     Alper Mestçi  director                   Horror   6.440"
      ]
     },
     "execution_count": 89,
     "metadata": {},
     "output_type": "execute_result"
    }
   ],
   "source": [
    "imdb_namesh = pd.read_sql(\n",
    "'''\n",
    "SELECT\n",
    "    job.primary_name as Name,\n",
    "    job.category as Job,\n",
    "    genres as Genre,\n",
    "    AVG(mr.averagerating) as Rating\n",
    "FROM\n",
    "    (SELECT\n",
    "        pri.movie_id,\n",
    "        per.primary_name,\n",
    "        pri.category\n",
    "            FROM\n",
    "        principals as pri\n",
    "            LEFT JOIN persons as per\n",
    "            ON pri.person_id = per.person_id\n",
    "    WHERE\n",
    "        (pri.category = 'actor'\n",
    "        OR\n",
    "        pri.category = 'actress'\n",
    "        or\n",
    "        pri.category = 'director')\n",
    "        AND\n",
    "        per.death_year is null\n",
    "        AND\n",
    "        per.primary_name is not null) as job\n",
    "    LEFT JOIN movie_basics as mb\n",
    "        ON job.movie_id = mb.movie_id\n",
    "    LEFT JOIN movie_ratings as mr\n",
    "        on job.movie_id = mr.movie_id\n",
    "WHERE\n",
    "    mr.numvotes > 1000\n",
    "    AND\n",
    "    averagerating is not null\n",
    "    AND\n",
    "    start_year >= 2010\n",
    "    and \n",
    "    runtime_minutes is not null\n",
    "    and\n",
    "    genres like '%Horror%'\n",
    "GROUP BY\n",
    "    job.primary_name\n",
    "HAVING\n",
    "    count(mr.averagerating) > 3\n",
    "ORDER BY\n",
    "    AVG(mr.averagerating) DESC\n",
    "''',\n",
    "conn\n",
    ")\n",
    "imdb_namesh.head()\n",
    "#This ensures actors or actresses with more than enough experience on an average rating\n",
    "#this is only for names, this is for horror with a count above 3"
   ]
  },
  {
   "cell_type": "code",
   "execution_count": 90,
   "metadata": {},
   "outputs": [
    {
     "data": {
      "text/plain": [
       "(31, 4)"
      ]
     },
     "execution_count": 90,
     "metadata": {},
     "output_type": "execute_result"
    }
   ],
   "source": [
    "imdb_namesh.loc[imdb_namesh['Job']=='actor'].shape"
   ]
  },
  {
   "cell_type": "code",
   "execution_count": 91,
   "metadata": {},
   "outputs": [
    {
     "data": {
      "text/plain": [
       "(14, 4)"
      ]
     },
     "execution_count": 91,
     "metadata": {},
     "output_type": "execute_result"
    }
   ],
   "source": [
    "imdb_namesh.loc[imdb_namesh['Job']=='actress'].shape"
   ]
  },
  {
   "cell_type": "code",
   "execution_count": 92,
   "metadata": {},
   "outputs": [
    {
     "data": {
      "text/plain": [
       "(20, 4)"
      ]
     },
     "execution_count": 92,
     "metadata": {},
     "output_type": "execute_result"
    }
   ],
   "source": [
    "imdb_namesh.loc[imdb_namesh['Job']=='director'].shape"
   ]
  },
  {
   "cell_type": "code",
   "execution_count": 93,
   "metadata": {},
   "outputs": [
    {
     "data": {
      "text/plain": [
       "(65, 4)"
      ]
     },
     "execution_count": 93,
     "metadata": {},
     "output_type": "execute_result"
    }
   ],
   "source": [
    "imdb_namesh.shape"
   ]
  },
  {
   "cell_type": "code",
   "execution_count": 94,
   "metadata": {},
   "outputs": [
    {
     "data": {
      "text/plain": [
       "(282, 4)"
      ]
     },
     "execution_count": 94,
     "metadata": {},
     "output_type": "execute_result"
    }
   ],
   "source": [
    "imdb_namesaction.shape"
   ]
  },
  {
   "cell_type": "code",
   "execution_count": 95,
   "metadata": {},
   "outputs": [
    {
     "data": {
      "text/html": [
       "<div>\n",
       "<style scoped>\n",
       "    .dataframe tbody tr th:only-of-type {\n",
       "        vertical-align: middle;\n",
       "    }\n",
       "\n",
       "    .dataframe tbody tr th {\n",
       "        vertical-align: top;\n",
       "    }\n",
       "\n",
       "    .dataframe thead th {\n",
       "        text-align: right;\n",
       "    }\n",
       "</style>\n",
       "<table border=\"1\" class=\"dataframe\">\n",
       "  <thead>\n",
       "    <tr style=\"text-align: right;\">\n",
       "      <th></th>\n",
       "      <th>Name</th>\n",
       "      <th>Job</th>\n",
       "      <th>Genre</th>\n",
       "      <th>Rating</th>\n",
       "    </tr>\n",
       "  </thead>\n",
       "  <tbody>\n",
       "    <tr>\n",
       "      <th>0</th>\n",
       "      <td>Achyuth Kumar</td>\n",
       "      <td>actor</td>\n",
       "      <td>Drama,Romance,Sci-Fi</td>\n",
       "      <td>8.30</td>\n",
       "    </tr>\n",
       "    <tr>\n",
       "      <th>1</th>\n",
       "      <td>Anjali</td>\n",
       "      <td>actress</td>\n",
       "      <td>Drama</td>\n",
       "      <td>8.12</td>\n",
       "    </tr>\n",
       "  </tbody>\n",
       "</table>\n",
       "</div>"
      ],
      "text/plain": [
       "            Name      Job                 Genre  Rating\n",
       "0  Achyuth Kumar    actor  Drama,Romance,Sci-Fi    8.30\n",
       "1         Anjali  actress                 Drama    8.12"
      ]
     },
     "execution_count": 95,
     "metadata": {},
     "output_type": "execute_result"
    }
   ],
   "source": [
    "imdb_names.head(2)"
   ]
  },
  {
   "cell_type": "code",
   "execution_count": 96,
   "metadata": {},
   "outputs": [
    {
     "data": {
      "text/html": [
       "<div>\n",
       "<style scoped>\n",
       "    .dataframe tbody tr th:only-of-type {\n",
       "        vertical-align: middle;\n",
       "    }\n",
       "\n",
       "    .dataframe tbody tr th {\n",
       "        vertical-align: top;\n",
       "    }\n",
       "\n",
       "    .dataframe thead th {\n",
       "        text-align: right;\n",
       "    }\n",
       "</style>\n",
       "<table border=\"1\" class=\"dataframe\">\n",
       "  <thead>\n",
       "    <tr style=\"text-align: right;\">\n",
       "      <th></th>\n",
       "      <th>Name</th>\n",
       "      <th>Job</th>\n",
       "      <th>Genre</th>\n",
       "      <th>Rating</th>\n",
       "    </tr>\n",
       "  </thead>\n",
       "  <tbody>\n",
       "    <tr>\n",
       "      <th>0</th>\n",
       "      <td>Patrick Wilson</td>\n",
       "      <td>actor</td>\n",
       "      <td>Horror,Mystery,Thriller</td>\n",
       "      <td>7.100</td>\n",
       "    </tr>\n",
       "    <tr>\n",
       "      <th>1</th>\n",
       "      <td>Shôta Sometani</td>\n",
       "      <td>actor</td>\n",
       "      <td>Horror,Thriller</td>\n",
       "      <td>6.575</td>\n",
       "    </tr>\n",
       "  </tbody>\n",
       "</table>\n",
       "</div>"
      ],
      "text/plain": [
       "             Name    Job                    Genre  Rating\n",
       "0  Patrick Wilson  actor  Horror,Mystery,Thriller   7.100\n",
       "1  Shôta Sometani  actor          Horror,Thriller   6.575"
      ]
     },
     "execution_count": 96,
     "metadata": {},
     "output_type": "execute_result"
    }
   ],
   "source": [
    "imdb_actorsh = imdb_namesh.loc[imdb_namesh['Job']=='actor'].reset_index(drop=True)\n",
    "imdb_actorsh.head(2) #Actors only"
   ]
  },
  {
   "cell_type": "code",
   "execution_count": 97,
   "metadata": {},
   "outputs": [],
   "source": [
    "actors_corrh = pd.DataFrame({'Correlation':[imdb_workh.loc[imdb_workh['Name'] == actor]['MovieYear'].corr(imdb_workh.loc[imdb_workh['Name'] == actor]['AvgRating']) for actor in imdb_actorsh['Name']]})\n",
    "#creating correlation series for the actors with prior code"
   ]
  },
  {
   "cell_type": "code",
   "execution_count": 98,
   "metadata": {},
   "outputs": [
    {
     "data": {
      "text/html": [
       "<div>\n",
       "<style scoped>\n",
       "    .dataframe tbody tr th:only-of-type {\n",
       "        vertical-align: middle;\n",
       "    }\n",
       "\n",
       "    .dataframe tbody tr th {\n",
       "        vertical-align: top;\n",
       "    }\n",
       "\n",
       "    .dataframe thead th {\n",
       "        text-align: right;\n",
       "    }\n",
       "</style>\n",
       "<table border=\"1\" class=\"dataframe\">\n",
       "  <thead>\n",
       "    <tr style=\"text-align: right;\">\n",
       "      <th></th>\n",
       "      <th>Name</th>\n",
       "      <th>Job</th>\n",
       "      <th>Genre</th>\n",
       "      <th>Rating</th>\n",
       "      <th>Correlation</th>\n",
       "    </tr>\n",
       "  </thead>\n",
       "  <tbody>\n",
       "    <tr>\n",
       "      <th>0</th>\n",
       "      <td>Patrick Wilson</td>\n",
       "      <td>actor</td>\n",
       "      <td>Horror,Mystery,Thriller</td>\n",
       "      <td>7.100</td>\n",
       "      <td>0.443329</td>\n",
       "    </tr>\n",
       "    <tr>\n",
       "      <th>1</th>\n",
       "      <td>Shôta Sometani</td>\n",
       "      <td>actor</td>\n",
       "      <td>Horror,Thriller</td>\n",
       "      <td>6.575</td>\n",
       "      <td>-0.575012</td>\n",
       "    </tr>\n",
       "  </tbody>\n",
       "</table>\n",
       "</div>"
      ],
      "text/plain": [
       "             Name    Job                    Genre  Rating  Correlation\n",
       "0  Patrick Wilson  actor  Horror,Mystery,Thriller   7.100     0.443329\n",
       "1  Shôta Sometani  actor          Horror,Thriller   6.575    -0.575012"
      ]
     },
     "execution_count": 98,
     "metadata": {},
     "output_type": "execute_result"
    }
   ],
   "source": [
    "imdb_actorsh['Correlation'] = actors_corrh\n",
    "imdb_actorsh.head(2)\n",
    "#adding correlation to it"
   ]
  },
  {
   "cell_type": "code",
   "execution_count": 99,
   "metadata": {},
   "outputs": [
    {
     "name": "stdout",
     "output_type": "stream",
     "text": [
      "<class 'pandas.core.frame.DataFrame'>\n",
      "RangeIndex: 31 entries, 0 to 30\n",
      "Data columns (total 5 columns):\n",
      " #   Column       Non-Null Count  Dtype  \n",
      "---  ------       --------------  -----  \n",
      " 0   Name         31 non-null     object \n",
      " 1   Job          31 non-null     object \n",
      " 2   Genre        31 non-null     object \n",
      " 3   Rating       31 non-null     float64\n",
      " 4   Correlation  31 non-null     float64\n",
      "dtypes: float64(2), object(3)\n",
      "memory usage: 1.3+ KB\n"
     ]
    }
   ],
   "source": [
    "imdb_actorsh.info() #nice"
   ]
  },
  {
   "cell_type": "code",
   "execution_count": 100,
   "metadata": {},
   "outputs": [
    {
     "data": {
      "text/html": [
       "<div>\n",
       "<style scoped>\n",
       "    .dataframe tbody tr th:only-of-type {\n",
       "        vertical-align: middle;\n",
       "    }\n",
       "\n",
       "    .dataframe tbody tr th {\n",
       "        vertical-align: top;\n",
       "    }\n",
       "\n",
       "    .dataframe thead th {\n",
       "        text-align: right;\n",
       "    }\n",
       "</style>\n",
       "<table border=\"1\" class=\"dataframe\">\n",
       "  <thead>\n",
       "    <tr style=\"text-align: right;\">\n",
       "      <th></th>\n",
       "      <th>Name</th>\n",
       "      <th>Job</th>\n",
       "      <th>Genre</th>\n",
       "      <th>Rating</th>\n",
       "    </tr>\n",
       "  </thead>\n",
       "  <tbody>\n",
       "    <tr>\n",
       "      <th>0</th>\n",
       "      <td>Anya Taylor-Joy</td>\n",
       "      <td>actress</td>\n",
       "      <td>Horror,Mystery</td>\n",
       "      <td>6.625</td>\n",
       "    </tr>\n",
       "    <tr>\n",
       "      <th>1</th>\n",
       "      <td>Briana Evigan</td>\n",
       "      <td>actress</td>\n",
       "      <td>Drama,Horror,Thriller</td>\n",
       "      <td>6.000</td>\n",
       "    </tr>\n",
       "  </tbody>\n",
       "</table>\n",
       "</div>"
      ],
      "text/plain": [
       "              Name      Job                  Genre  Rating\n",
       "0  Anya Taylor-Joy  actress         Horror,Mystery   6.625\n",
       "1    Briana Evigan  actress  Drama,Horror,Thriller   6.000"
      ]
     },
     "execution_count": 100,
     "metadata": {},
     "output_type": "execute_result"
    }
   ],
   "source": [
    "imdb_actressh = imdb_namesh.loc[imdb_namesh['Job']=='actress'].reset_index(drop=True)\n",
    "imdb_actressh.head(2) #Actress only"
   ]
  },
  {
   "cell_type": "code",
   "execution_count": 101,
   "metadata": {},
   "outputs": [
    {
     "data": {
      "text/html": [
       "<div>\n",
       "<style scoped>\n",
       "    .dataframe tbody tr th:only-of-type {\n",
       "        vertical-align: middle;\n",
       "    }\n",
       "\n",
       "    .dataframe tbody tr th {\n",
       "        vertical-align: top;\n",
       "    }\n",
       "\n",
       "    .dataframe thead th {\n",
       "        text-align: right;\n",
       "    }\n",
       "</style>\n",
       "<table border=\"1\" class=\"dataframe\">\n",
       "  <thead>\n",
       "    <tr style=\"text-align: right;\">\n",
       "      <th></th>\n",
       "      <th>Correlation</th>\n",
       "    </tr>\n",
       "  </thead>\n",
       "  <tbody>\n",
       "    <tr>\n",
       "      <th>0</th>\n",
       "      <td>-0.130884</td>\n",
       "    </tr>\n",
       "    <tr>\n",
       "      <th>1</th>\n",
       "      <td>-0.254000</td>\n",
       "    </tr>\n",
       "  </tbody>\n",
       "</table>\n",
       "</div>"
      ],
      "text/plain": [
       "   Correlation\n",
       "0    -0.130884\n",
       "1    -0.254000"
      ]
     },
     "execution_count": 101,
     "metadata": {},
     "output_type": "execute_result"
    }
   ],
   "source": [
    "actress_corrh = pd.DataFrame({'Correlation':[imdb_workh.loc[imdb_workh['Name'] == actress]['MovieYear'].corr(imdb_workh.loc[imdb_workh['Name'] == actress]['AvgRating']) for actress in imdb_actressh['Name']]})\n",
    "actress_corrh.head(2) #Correlation for females"
   ]
  },
  {
   "cell_type": "code",
   "execution_count": 102,
   "metadata": {},
   "outputs": [],
   "source": [
    "imdb_actressh['Correlation'] = actress_corrh\n",
    "#Adding the correlation column to imdb actress"
   ]
  },
  {
   "cell_type": "code",
   "execution_count": 103,
   "metadata": {},
   "outputs": [
    {
     "data": {
      "text/html": [
       "<div>\n",
       "<style scoped>\n",
       "    .dataframe tbody tr th:only-of-type {\n",
       "        vertical-align: middle;\n",
       "    }\n",
       "\n",
       "    .dataframe tbody tr th {\n",
       "        vertical-align: top;\n",
       "    }\n",
       "\n",
       "    .dataframe thead th {\n",
       "        text-align: right;\n",
       "    }\n",
       "</style>\n",
       "<table border=\"1\" class=\"dataframe\">\n",
       "  <thead>\n",
       "    <tr style=\"text-align: right;\">\n",
       "      <th></th>\n",
       "      <th>Name</th>\n",
       "      <th>Job</th>\n",
       "      <th>Genre</th>\n",
       "      <th>Rating</th>\n",
       "      <th>Correlation</th>\n",
       "    </tr>\n",
       "  </thead>\n",
       "  <tbody>\n",
       "    <tr>\n",
       "      <th>0</th>\n",
       "      <td>Anya Taylor-Joy</td>\n",
       "      <td>actress</td>\n",
       "      <td>Horror,Mystery</td>\n",
       "      <td>6.625</td>\n",
       "      <td>-0.130884</td>\n",
       "    </tr>\n",
       "    <tr>\n",
       "      <th>1</th>\n",
       "      <td>Briana Evigan</td>\n",
       "      <td>actress</td>\n",
       "      <td>Drama,Horror,Thriller</td>\n",
       "      <td>6.000</td>\n",
       "      <td>-0.254000</td>\n",
       "    </tr>\n",
       "  </tbody>\n",
       "</table>\n",
       "</div>"
      ],
      "text/plain": [
       "              Name      Job                  Genre  Rating  Correlation\n",
       "0  Anya Taylor-Joy  actress         Horror,Mystery   6.625    -0.130884\n",
       "1    Briana Evigan  actress  Drama,Horror,Thriller   6.000    -0.254000"
      ]
     },
     "execution_count": 103,
     "metadata": {},
     "output_type": "execute_result"
    }
   ],
   "source": [
    "imdb_actressh.head(2) #Checking new data with corr"
   ]
  },
  {
   "cell_type": "code",
   "execution_count": 104,
   "metadata": {},
   "outputs": [
    {
     "name": "stdout",
     "output_type": "stream",
     "text": [
      "<class 'pandas.core.frame.DataFrame'>\n",
      "RangeIndex: 14 entries, 0 to 13\n",
      "Data columns (total 5 columns):\n",
      " #   Column       Non-Null Count  Dtype  \n",
      "---  ------       --------------  -----  \n",
      " 0   Name         14 non-null     object \n",
      " 1   Job          14 non-null     object \n",
      " 2   Genre        14 non-null     object \n",
      " 3   Rating       14 non-null     float64\n",
      " 4   Correlation  14 non-null     float64\n",
      "dtypes: float64(2), object(3)\n",
      "memory usage: 688.0+ bytes\n"
     ]
    }
   ],
   "source": [
    "imdb_actressh.info() #All is well"
   ]
  },
  {
   "cell_type": "code",
   "execution_count": 105,
   "metadata": {},
   "outputs": [
    {
     "data": {
      "text/html": [
       "<div>\n",
       "<style scoped>\n",
       "    .dataframe tbody tr th:only-of-type {\n",
       "        vertical-align: middle;\n",
       "    }\n",
       "\n",
       "    .dataframe tbody tr th {\n",
       "        vertical-align: top;\n",
       "    }\n",
       "\n",
       "    .dataframe thead th {\n",
       "        text-align: right;\n",
       "    }\n",
       "</style>\n",
       "<table border=\"1\" class=\"dataframe\">\n",
       "  <thead>\n",
       "    <tr style=\"text-align: right;\">\n",
       "      <th></th>\n",
       "      <th>Name</th>\n",
       "      <th>Job</th>\n",
       "      <th>Genre</th>\n",
       "      <th>Rating</th>\n",
       "    </tr>\n",
       "  </thead>\n",
       "  <tbody>\n",
       "    <tr>\n",
       "      <th>0</th>\n",
       "      <td>James Wan</td>\n",
       "      <td>director</td>\n",
       "      <td>Horror,Mystery,Thriller</td>\n",
       "      <td>7.100000</td>\n",
       "    </tr>\n",
       "    <tr>\n",
       "      <th>1</th>\n",
       "      <td>Alper Mestçi</td>\n",
       "      <td>director</td>\n",
       "      <td>Horror</td>\n",
       "      <td>6.440000</td>\n",
       "    </tr>\n",
       "    <tr>\n",
       "      <th>2</th>\n",
       "      <td>Shinsuke Sato</td>\n",
       "      <td>director</td>\n",
       "      <td>Action,Horror,Sci-Fi</td>\n",
       "      <td>6.350000</td>\n",
       "    </tr>\n",
       "    <tr>\n",
       "      <th>3</th>\n",
       "      <td>Mike Flanagan</td>\n",
       "      <td>director</td>\n",
       "      <td>Drama,Horror,Mystery</td>\n",
       "      <td>6.300000</td>\n",
       "    </tr>\n",
       "    <tr>\n",
       "      <th>4</th>\n",
       "      <td>Hasan Karacadag</td>\n",
       "      <td>director</td>\n",
       "      <td>Horror</td>\n",
       "      <td>6.116667</td>\n",
       "    </tr>\n",
       "    <tr>\n",
       "      <th>5</th>\n",
       "      <td>Christopher Landon</td>\n",
       "      <td>director</td>\n",
       "      <td>Action,Comedy,Horror</td>\n",
       "      <td>6.025000</td>\n",
       "    </tr>\n",
       "    <tr>\n",
       "      <th>6</th>\n",
       "      <td>Justin Benson</td>\n",
       "      <td>director</td>\n",
       "      <td>Horror,Mystery,Thriller</td>\n",
       "      <td>5.925000</td>\n",
       "    </tr>\n",
       "    <tr>\n",
       "      <th>7</th>\n",
       "      <td>Aaron Moorhead</td>\n",
       "      <td>director</td>\n",
       "      <td>Horror,Mystery,Thriller</td>\n",
       "      <td>5.925000</td>\n",
       "    </tr>\n",
       "    <tr>\n",
       "      <th>8</th>\n",
       "      <td>Adam Wingard</td>\n",
       "      <td>director</td>\n",
       "      <td>Horror,Mystery,Thriller</td>\n",
       "      <td>5.916667</td>\n",
       "    </tr>\n",
       "    <tr>\n",
       "      <th>9</th>\n",
       "      <td>Takashi Miike</td>\n",
       "      <td>director</td>\n",
       "      <td>Horror,Thriller</td>\n",
       "      <td>5.880000</td>\n",
       "    </tr>\n",
       "  </tbody>\n",
       "</table>\n",
       "</div>"
      ],
      "text/plain": [
       "                 Name       Job                    Genre    Rating\n",
       "0           James Wan  director  Horror,Mystery,Thriller  7.100000\n",
       "1        Alper Mestçi  director                   Horror  6.440000\n",
       "2       Shinsuke Sato  director     Action,Horror,Sci-Fi  6.350000\n",
       "3       Mike Flanagan  director     Drama,Horror,Mystery  6.300000\n",
       "4     Hasan Karacadag  director                   Horror  6.116667\n",
       "5  Christopher Landon  director     Action,Comedy,Horror  6.025000\n",
       "6       Justin Benson  director  Horror,Mystery,Thriller  5.925000\n",
       "7      Aaron Moorhead  director  Horror,Mystery,Thriller  5.925000\n",
       "8        Adam Wingard  director  Horror,Mystery,Thriller  5.916667\n",
       "9       Takashi Miike  director          Horror,Thriller  5.880000"
      ]
     },
     "execution_count": 105,
     "metadata": {},
     "output_type": "execute_result"
    }
   ],
   "source": [
    "imdb_directorh = imdb_namesh.loc[imdb_namesh['Job']=='director'].reset_index(drop=True)\n",
    "imdb_directorh.head(10) #Director"
   ]
  },
  {
   "cell_type": "code",
   "execution_count": 106,
   "metadata": {},
   "outputs": [
    {
     "data": {
      "text/html": [
       "<div>\n",
       "<style scoped>\n",
       "    .dataframe tbody tr th:only-of-type {\n",
       "        vertical-align: middle;\n",
       "    }\n",
       "\n",
       "    .dataframe tbody tr th {\n",
       "        vertical-align: top;\n",
       "    }\n",
       "\n",
       "    .dataframe thead th {\n",
       "        text-align: right;\n",
       "    }\n",
       "</style>\n",
       "<table border=\"1\" class=\"dataframe\">\n",
       "  <thead>\n",
       "    <tr style=\"text-align: right;\">\n",
       "      <th></th>\n",
       "      <th>Correlation</th>\n",
       "    </tr>\n",
       "  </thead>\n",
       "  <tbody>\n",
       "    <tr>\n",
       "      <th>0</th>\n",
       "      <td>0.481125</td>\n",
       "    </tr>\n",
       "    <tr>\n",
       "      <th>1</th>\n",
       "      <td>0.976686</td>\n",
       "    </tr>\n",
       "  </tbody>\n",
       "</table>\n",
       "</div>"
      ],
      "text/plain": [
       "   Correlation\n",
       "0     0.481125\n",
       "1     0.976686"
      ]
     },
     "execution_count": 106,
     "metadata": {},
     "output_type": "execute_result"
    }
   ],
   "source": [
    "director_corrh = pd.DataFrame({'Correlation':[imdb_workh.loc[imdb_workh['Name'] == director]['MovieYear'].corr(imdb_workh.loc[imdb_workh['Name'] == director]['AvgRating']) for director in imdb_directorh['Name']]})\n",
    "director_corrh.head(2)  #Creating correlation for directors now"
   ]
  },
  {
   "cell_type": "code",
   "execution_count": 107,
   "metadata": {},
   "outputs": [],
   "source": [
    "imdb_directorh['Correlation'] = director_corrh #putting the correlation into the directors"
   ]
  },
  {
   "cell_type": "code",
   "execution_count": 108,
   "metadata": {},
   "outputs": [
    {
     "data": {
      "text/html": [
       "<div>\n",
       "<style scoped>\n",
       "    .dataframe tbody tr th:only-of-type {\n",
       "        vertical-align: middle;\n",
       "    }\n",
       "\n",
       "    .dataframe tbody tr th {\n",
       "        vertical-align: top;\n",
       "    }\n",
       "\n",
       "    .dataframe thead th {\n",
       "        text-align: right;\n",
       "    }\n",
       "</style>\n",
       "<table border=\"1\" class=\"dataframe\">\n",
       "  <thead>\n",
       "    <tr style=\"text-align: right;\">\n",
       "      <th></th>\n",
       "      <th>Name</th>\n",
       "      <th>Job</th>\n",
       "      <th>Genre</th>\n",
       "      <th>Rating</th>\n",
       "      <th>Correlation</th>\n",
       "    </tr>\n",
       "  </thead>\n",
       "  <tbody>\n",
       "    <tr>\n",
       "      <th>0</th>\n",
       "      <td>James Wan</td>\n",
       "      <td>director</td>\n",
       "      <td>Horror,Mystery,Thriller</td>\n",
       "      <td>7.10</td>\n",
       "      <td>0.481125</td>\n",
       "    </tr>\n",
       "    <tr>\n",
       "      <th>1</th>\n",
       "      <td>Alper Mestçi</td>\n",
       "      <td>director</td>\n",
       "      <td>Horror</td>\n",
       "      <td>6.44</td>\n",
       "      <td>0.976686</td>\n",
       "    </tr>\n",
       "  </tbody>\n",
       "</table>\n",
       "</div>"
      ],
      "text/plain": [
       "           Name       Job                    Genre  Rating  Correlation\n",
       "0     James Wan  director  Horror,Mystery,Thriller    7.10     0.481125\n",
       "1  Alper Mestçi  director                   Horror    6.44     0.976686"
      ]
     },
     "execution_count": 108,
     "metadata": {},
     "output_type": "execute_result"
    }
   ],
   "source": [
    "imdb_directorh.head(2) #All is well"
   ]
  },
  {
   "cell_type": "code",
   "execution_count": 109,
   "metadata": {},
   "outputs": [
    {
     "name": "stdout",
     "output_type": "stream",
     "text": [
      "<class 'pandas.core.frame.DataFrame'>\n",
      "RangeIndex: 20 entries, 0 to 19\n",
      "Data columns (total 5 columns):\n",
      " #   Column       Non-Null Count  Dtype  \n",
      "---  ------       --------------  -----  \n",
      " 0   Name         20 non-null     object \n",
      " 1   Job          20 non-null     object \n",
      " 2   Genre        20 non-null     object \n",
      " 3   Rating       20 non-null     float64\n",
      " 4   Correlation  20 non-null     float64\n",
      "dtypes: float64(2), object(3)\n",
      "memory usage: 928.0+ bytes\n"
     ]
    }
   ],
   "source": [
    "imdb_directorh.info() #All is well, only 85 directors weird"
   ]
  },
  {
   "cell_type": "code",
   "execution_count": 110,
   "metadata": {},
   "outputs": [
    {
     "data": {
      "image/png": "[encoded data removed]",
      "text/plain": [
       "<Figure size 842.4x595.44 with 1 Axes>"
      ]
     },
     "metadata": {},
     "output_type": "display_data"
    }
   ],
   "source": [
    "scatact = sns.scatterplot(x='Rating',y='Correlation',hue='Name',data=imdb_actorsh.head(10), marker = '*', s=1000)\n",
    "plt.legend(bbox_to_anchor=(1.05, 1), loc=2, borderaxespad=0.)\n",
    "plt.suptitle('Actors Relationship to Horror Movie Rating',fontsize=30)\n",
    "plt.xlabel('Average Movie Rating',fontsize=20)\n",
    "plt.ylabel('Correlation of Movie Rating from 2010-2019',fontsize=20)\n",
    "plt.savefig('./viz_images/' + 'actorsrelationtohorror.png', bbox_inches='tight');\n",
    "#used this to pull people I like, removed from presentation cause its useless for executives to know"
   ]
  },
  {
   "cell_type": "code",
   "execution_count": 111,
   "metadata": {},
   "outputs": [
    {
     "data": {
      "image/png": "[encoded data removed]",
      "text/plain": [
       "<Figure size 842.4x595.44 with 1 Axes>"
      ]
     },
     "metadata": {},
     "output_type": "display_data"
    }
   ],
   "source": [
    "scatact = sns.scatterplot(x='Rating',y='Correlation',hue='Name',data=imdb_actressh.head(10), marker = '*', s=1000)\n",
    "plt.legend(bbox_to_anchor=(1.05, 1), loc=2, borderaxespad=0.)\n",
    "plt.suptitle('Actresses Relationship to Horror Movie Rating',fontsize=30)\n",
    "plt.xlabel('Average Movie Rating',fontsize=20)\n",
    "plt.ylabel('Correlation of Movie Rating from 2010-2019',fontsize=20)\n",
    "plt.savefig('./viz_images/' + 'actressrelationtohorror.png', bbox_inches='tight');\n",
    "#used this to pull people I like, removed from presentation cause its useless for executives to know"
   ]
  },
  {
   "cell_type": "code",
   "execution_count": 112,
   "metadata": {},
   "outputs": [
    {
     "data": {
      "image/png": "[encoded data removed]",
      "text/plain": [
       "<Figure size 842.4x595.44 with 1 Axes>"
      ]
     },
     "metadata": {},
     "output_type": "display_data"
    }
   ],
   "source": [
    "scatact = sns.scatterplot(x='Rating',y='Correlation',hue='Name',data=imdb_directorh.head(10), marker = '*', s=1000)\n",
    "plt.legend(bbox_to_anchor=(1.05, 1), loc=2, borderaxespad=0.)\n",
    "plt.suptitle('Directors Relationship to Horror Movie Rating',fontsize=30)\n",
    "plt.xlabel('Average Movie Rating',fontsize=20)\n",
    "plt.ylabel('Correlation of Movie Rating from 2010-2019',fontsize=20)\n",
    "plt.savefig('./viz_images/' + 'directorsrelationtohorror.png', bbox_inches='tight')\n",
    "#used this to pull people I like, removed from presentation cause its useless for executives to know"
   ]
  },
  {
   "cell_type": "code",
   "execution_count": 113,
   "metadata": {},
   "outputs": [
    {
     "data": {
      "image/png": "[encoded data removed]",
      "text/plain": [
       "<Figure size 720x288 with 1 Axes>"
      ]
     },
     "metadata": {},
     "output_type": "display_data"
    }
   ],
   "source": [
    "logan = imdb_workh.loc[imdb_workh['Name']=='Logan Miller'].groupby('MovieYear').mean()\n",
    "patrick = imdb_workh.loc[imdb_workh['Name']=='Patrick Wilson'].groupby('MovieYear').mean()\n",
    "joe = imdb_workh.loc[imdb_workh['Name']=='Joe Swanberg'].groupby('MovieYear').mean()\n",
    "#Setting up infrastructure for the chart\n",
    "#Used to groupby and average out movie ratings from the same year\n",
    "x = np.linspace(0, 10, 1000)\n",
    "fig, ax = plt.subplots(figsize=(10, 4))\n",
    "ax.plot(logan.index.values, 'AvgRating', data=logan, label='Logan Miller')\n",
    "ax.plot(patrick.index.values, 'AvgRating', data=patrick, label='Patrick Wilson')\n",
    "ax.plot(joe.index.values, 'AvgRating', data=joe, label='Joe Swanberg')\n",
    "ax.set_xlabel('Year')\n",
    "ax.set_ylabel('Movie Average Rating')\n",
    "ax.set_title('Horror Film Rating vs Year by Actors', fontsize=20)\n",
    "loc='bottom right'\n",
    "plt.tight_layout()\n",
    "ax.legend(loc='lower right', title='Actors')\n",
    "plt.savefig('./viz_images/' + 'actors_rating.png', bbox_inches='tight')\n",
    "#Line chart for directors, recommend Logan, Patrick, Joe"
   ]
  },
  {
   "cell_type": "code",
   "execution_count": 114,
   "metadata": {},
   "outputs": [
    {
     "data": {
      "image/png": "[encoded data removed]",
      "text/plain": [
       "<Figure size 720x288 with 1 Axes>"
      ]
     },
     "metadata": {},
     "output_type": "display_data"
    }
   ],
   "source": [
    "amy = imdb_workh.loc[imdb_workh['Name']=='Amy Seimetz'].groupby('MovieYear').mean()\n",
    "kate = imdb_workh.loc[imdb_workh['Name']=='Kate Bosworth'].groupby('MovieYear').mean()\n",
    "danielle = imdb_workh.loc[imdb_workh['Name']=='Danielle Harris'].groupby('MovieYear').mean()\n",
    "#Setting up infrastructure for the chart\n",
    "#Used to groupby and average out movie ratings from the same year\n",
    "x = np.linspace(0, 10, 1000)\n",
    "fig, ax = plt.subplots(figsize=(10, 4))\n",
    "ax.plot(amy.index.values, 'AvgRating', data=amy, label='Amy Seimetz')\n",
    "ax.plot(kate.index.values, 'AvgRating', data=kate, label='Kate Bosworth')\n",
    "ax.plot(danielle.index.values, 'AvgRating', data=danielle, label='Danielle Harris')\n",
    "ax.set_xlabel('Year')\n",
    "ax.set_ylabel('Movie Average Rating')\n",
    "ax.set_title('Horror Film Rating vs Year by Actress',fontsize=20)\n",
    "ax.legend(loc='lower right', title='Actress')\n",
    "plt.tight_layout()\n",
    "plt.savefig('./viz_images/' + 'actress_rating.png', bbox_inches='tight')\n",
    "#Line chart for actress, recommend Amy, Kate, Danielle Harris"
   ]
  },
  {
   "cell_type": "code",
   "execution_count": 115,
   "metadata": {},
   "outputs": [
    {
     "data": {
      "image/png": "[encoded data removed]",
      "text/plain": [
       "<Figure size 720x288 with 1 Axes>"
      ]
     },
     "metadata": {},
     "output_type": "display_data"
    }
   ],
   "source": [
    "alper = imdb_workh.loc[imdb_workh['Name']=='Alper Mestçi'].groupby('MovieYear').mean()\n",
    "james = imdb_workh.loc[imdb_workh['Name']=='James Wan'].groupby('MovieYear').mean()\n",
    "mike = imdb_workh.loc[imdb_workh['Name']=='Mike Flanagan'].groupby('MovieYear').mean()\n",
    "takashi = imdb_workh.loc[imdb_workh['Name']=='Takashi Miike'].groupby('MovieYear').mean()\n",
    "#Setting up infrastructure for the chart\n",
    "#Used to groupby and average out movie ratings from the same year\n",
    "x = np.linspace(0, 10, 1000)\n",
    "fig, ax = plt.subplots(figsize=(10, 4))\n",
    "ax.plot(alper.index.values, 'AvgRating', data=alper, label='Alper Mestci')\n",
    "ax.plot(james.index.values, 'AvgRating', data=james, label='James Wan')\n",
    "ax.plot(mike.index.values, 'AvgRating', data=mike, label='Mike Flanagan') \n",
    "ax.set_xlabel('Year')\n",
    "ax.set_ylabel('Movie Average Rating')\n",
    "ax.set_title('Horror Film Rating vs Year by Director',fontsize=20)\n",
    "plt.tight_layout()\n",
    "ax.legend(loc='lower right', title='Directors')\n",
    "plt.savefig('./viz_images/' + 'director_rating.png', bbox_inches='tight')\n",
    "#Line chart for Actors recommend Alper, James, Mike"
   ]
  },
  {
   "cell_type": "code",
   "execution_count": 116,
   "metadata": {
    "scrolled": true
   },
   "outputs": [
    {
     "data": {
      "text/html": [
       "<div>\n",
       "<style scoped>\n",
       "    .dataframe tbody tr th:only-of-type {\n",
       "        vertical-align: middle;\n",
       "    }\n",
       "\n",
       "    .dataframe tbody tr th {\n",
       "        vertical-align: top;\n",
       "    }\n",
       "\n",
       "    .dataframe thead th {\n",
       "        text-align: right;\n",
       "    }\n",
       "</style>\n",
       "<table border=\"1\" class=\"dataframe\">\n",
       "  <thead>\n",
       "    <tr style=\"text-align: right;\">\n",
       "      <th></th>\n",
       "      <th>MovieYear</th>\n",
       "      <th>MovieName</th>\n",
       "      <th>AvgRating</th>\n",
       "      <th>Name</th>\n",
       "      <th>Genre</th>\n",
       "      <th>Job</th>\n",
       "    </tr>\n",
       "  </thead>\n",
       "  <tbody>\n",
       "    <tr>\n",
       "      <th>20256</th>\n",
       "      <td>2010</td>\n",
       "      <td>A Horrible Way to Die</td>\n",
       "      <td>5.3</td>\n",
       "      <td>Joe Swanberg</td>\n",
       "      <td>Drama,Horror,Thriller</td>\n",
       "      <td>actor</td>\n",
       "    </tr>\n",
       "    <tr>\n",
       "      <th>20257</th>\n",
       "      <td>2011</td>\n",
       "      <td>You're Next</td>\n",
       "      <td>6.6</td>\n",
       "      <td>Joe Swanberg</td>\n",
       "      <td>Action,Comedy,Horror</td>\n",
       "      <td>actor</td>\n",
       "    </tr>\n",
       "    <tr>\n",
       "      <th>20258</th>\n",
       "      <td>2013</td>\n",
       "      <td>Proxy</td>\n",
       "      <td>5.7</td>\n",
       "      <td>Joe Swanberg</td>\n",
       "      <td>Drama,Horror,Thriller</td>\n",
       "      <td>actor</td>\n",
       "    </tr>\n",
       "    <tr>\n",
       "      <th>20260</th>\n",
       "      <td>2013</td>\n",
       "      <td>The Sacrament</td>\n",
       "      <td>6.1</td>\n",
       "      <td>Joe Swanberg</td>\n",
       "      <td>Horror,Thriller</td>\n",
       "      <td>actor</td>\n",
       "    </tr>\n",
       "  </tbody>\n",
       "</table>\n",
       "</div>"
      ],
      "text/plain": [
       "       MovieYear              MovieName  AvgRating          Name  \\\n",
       "20256       2010  A Horrible Way to Die        5.3  Joe Swanberg   \n",
       "20257       2011            You're Next        6.6  Joe Swanberg   \n",
       "20258       2013                  Proxy        5.7  Joe Swanberg   \n",
       "20260       2013          The Sacrament        6.1  Joe Swanberg   \n",
       "\n",
       "                       Genre    Job  \n",
       "20256  Drama,Horror,Thriller  actor  \n",
       "20257   Action,Comedy,Horror  actor  \n",
       "20258  Drama,Horror,Thriller  actor  \n",
       "20260        Horror,Thriller  actor  "
      ]
     },
     "execution_count": 116,
     "metadata": {},
     "output_type": "execute_result"
    }
   ],
   "source": [
    "imdb_workwork = imdb_workh.loc[imdb_workh['Name'].str.contains('Joe Swanberg')]\n",
    "imdb_workwork"
   ]
  },
  {
   "cell_type": "code",
   "execution_count": 117,
   "metadata": {
    "scrolled": false
   },
   "outputs": [
    {
     "data": {
      "text/plain": [
       "5.520405749453485"
      ]
     },
     "execution_count": 117,
     "metadata": {},
     "output_type": "execute_result"
    }
   ],
   "source": [
    "imdb_work.loc[imdb_work['Genre'].str.contains('Horror')].groupby('Genre')['AvgRating'].mean().mean()\n",
    "#Good to know th emean average of horror movies"
   ]
  },
  {
   "cell_type": "code",
   "execution_count": 118,
   "metadata": {},
   "outputs": [
    {
     "data": {
      "text/html": [
       "<div>\n",
       "<style scoped>\n",
       "    .dataframe tbody tr th:only-of-type {\n",
       "        vertical-align: middle;\n",
       "    }\n",
       "\n",
       "    .dataframe tbody tr th {\n",
       "        vertical-align: top;\n",
       "    }\n",
       "\n",
       "    .dataframe thead th {\n",
       "        text-align: right;\n",
       "    }\n",
       "</style>\n",
       "<table border=\"1\" class=\"dataframe\">\n",
       "  <thead>\n",
       "    <tr style=\"text-align: right;\">\n",
       "      <th></th>\n",
       "      <th>MovieYear</th>\n",
       "      <th>MovieName</th>\n",
       "      <th>AvgRating</th>\n",
       "      <th>Name</th>\n",
       "      <th>Genre</th>\n",
       "      <th>Job</th>\n",
       "    </tr>\n",
       "  </thead>\n",
       "  <tbody>\n",
       "    <tr>\n",
       "      <th>2117</th>\n",
       "      <td>2011</td>\n",
       "      <td>Musallat 2: Lanet</td>\n",
       "      <td>5.4</td>\n",
       "      <td>Alper Mestçi</td>\n",
       "      <td>Horror</td>\n",
       "      <td>director</td>\n",
       "    </tr>\n",
       "    <tr>\n",
       "      <th>2120</th>\n",
       "      <td>2014</td>\n",
       "      <td>Siccîn</td>\n",
       "      <td>6.3</td>\n",
       "      <td>Alper Mestçi</td>\n",
       "      <td>Horror</td>\n",
       "      <td>director</td>\n",
       "    </tr>\n",
       "    <tr>\n",
       "      <th>2121</th>\n",
       "      <td>2015</td>\n",
       "      <td>Siccin 2</td>\n",
       "      <td>6.6</td>\n",
       "      <td>Alper Mestçi</td>\n",
       "      <td>Horror,Thriller</td>\n",
       "      <td>director</td>\n",
       "    </tr>\n",
       "    <tr>\n",
       "      <th>2122</th>\n",
       "      <td>2016</td>\n",
       "      <td>Siccin 3: Cürmü Ask</td>\n",
       "      <td>7.0</td>\n",
       "      <td>Alper Mestçi</td>\n",
       "      <td>Horror</td>\n",
       "      <td>director</td>\n",
       "    </tr>\n",
       "    <tr>\n",
       "      <th>2123</th>\n",
       "      <td>2017</td>\n",
       "      <td>Siccin 4</td>\n",
       "      <td>6.9</td>\n",
       "      <td>Alper Mestçi</td>\n",
       "      <td>Horror</td>\n",
       "      <td>director</td>\n",
       "    </tr>\n",
       "  </tbody>\n",
       "</table>\n",
       "</div>"
      ],
      "text/plain": [
       "      MovieYear            MovieName  AvgRating          Name  \\\n",
       "2117       2011    Musallat 2: Lanet        5.4  Alper Mestçi   \n",
       "2120       2014               Siccîn        6.3  Alper Mestçi   \n",
       "2121       2015             Siccin 2        6.6  Alper Mestçi   \n",
       "2122       2016  Siccin 3: Cürmü Ask        7.0  Alper Mestçi   \n",
       "2123       2017             Siccin 4        6.9  Alper Mestçi   \n",
       "\n",
       "                Genre       Job  \n",
       "2117           Horror  director  \n",
       "2120           Horror  director  \n",
       "2121  Horror,Thriller  director  \n",
       "2122           Horror  director  \n",
       "2123           Horror  director  "
      ]
     },
     "execution_count": 118,
     "metadata": {},
     "output_type": "execute_result"
    }
   ],
   "source": [
    "imdb_workh.loc[imdb_workh['Name'] == 'Alper Mestçi']\n",
    "#checking the titles to use as information source on who they are"
   ]
  },
  {
   "cell_type": "code",
   "execution_count": null,
   "metadata": {},
   "outputs": [],
   "source": []
  }
 ],
 "metadata": {
  "kernelspec": {
   "display_name": "Python (learn-env)",
   "language": "python",
   "name": "learn-env"
  },
  "language_info": {
   "codemirror_mode": {
    "name": "ipython",
    "version": 3
   },
   "file_extension": ".py",
   "mimetype": "text/x-python",
   "name": "python",
   "nbconvert_exporter": "python",
   "pygments_lexer": "ipython3",
   "version": "3.8.5"
  }
 },
 "nbformat": 4,
 "nbformat_minor": 2
}
